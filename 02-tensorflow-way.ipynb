{
 "cells": [
  {
   "cell_type": "markdown",
   "metadata": {
    "toc": "true"
   },
   "source": [
    " # Table of Contents\n",
    "<div class=\"toc\" style=\"margin-top: 1em;\"><ul class=\"toc-item\" id=\"toc-level0\"><li><span><a href=\"http://localhost:8888/notebooks/02-tensorflow-way.ipynb#The-TensorFlow-Way\" data-toc-modified-id=\"The-TensorFlow-Way-1\"><span class=\"toc-item-num\">1&nbsp;&nbsp;</span>The TensorFlow Way</a></span><ul class=\"toc-item\"><li><span><a href=\"http://localhost:8888/notebooks/02-tensorflow-way.ipynb#Operations-in-a-Computational-Graph\" data-toc-modified-id=\"Operations-in-a-Computational-Graph-1.1\"><span class=\"toc-item-num\">1.1&nbsp;&nbsp;</span>Operations in a Computational Graph</a></span></li><li><span><a href=\"http://localhost:8888/notebooks/02-tensorflow-way.ipynb#Layering-Nested-Operations\" data-toc-modified-id=\"Layering-Nested-Operations-1.2\"><span class=\"toc-item-num\">1.2&nbsp;&nbsp;</span>Layering Nested Operations</a></span></li><li><span><a href=\"http://localhost:8888/notebooks/02-tensorflow-way.ipynb#Working-with-Multiple-Layers\" data-toc-modified-id=\"Working-with-Multiple-Layers-1.3\"><span class=\"toc-item-num\">1.3&nbsp;&nbsp;</span>Working with Multiple Layers</a></span></li><li><span><a href=\"http://localhost:8888/notebooks/02-tensorflow-way.ipynb#Implementing-Loss-functions\" data-toc-modified-id=\"Implementing-Loss-functions-1.4\"><span class=\"toc-item-num\">1.4&nbsp;&nbsp;</span>Implementing Loss functions</a></span><ul class=\"toc-item\"><li><span><a href=\"http://localhost:8888/notebooks/02-tensorflow-way.ipynb#Loss-functions-for-regression\" data-toc-modified-id=\"Loss-functions-for-regression-1.4.1\"><span class=\"toc-item-num\">1.4.1&nbsp;&nbsp;</span>Loss functions for regression</a></span><ul class=\"toc-item\"><li><span><a href=\"http://localhost:8888/notebooks/02-tensorflow-way.ipynb#L2-norm-loss\" data-toc-modified-id=\"L2-norm-loss-1.4.1.1\"><span class=\"toc-item-num\">1.4.1.1&nbsp;&nbsp;</span>L2 norm loss</a></span></li><li><span><a href=\"http://localhost:8888/notebooks/02-tensorflow-way.ipynb#L1-norm-loss\" data-toc-modified-id=\"L1-norm-loss-1.4.1.2\"><span class=\"toc-item-num\">1.4.1.2&nbsp;&nbsp;</span>L1 norm loss</a></span></li><li><span><a href=\"http://localhost:8888/notebooks/02-tensorflow-way.ipynb#Pseudo-Huber-loss\" data-toc-modified-id=\"Pseudo-Huber-loss-1.4.1.3\"><span class=\"toc-item-num\">1.4.1.3&nbsp;&nbsp;</span>Pseudo-Huber loss</a></span></li></ul></li><li><span><a href=\"http://localhost:8888/notebooks/02-tensorflow-way.ipynb#Classification-loss-functions\" data-toc-modified-id=\"Classification-loss-functions-1.4.2\"><span class=\"toc-item-num\">1.4.2&nbsp;&nbsp;</span>Classification loss functions</a></span><ul class=\"toc-item\"><li><span><a href=\"http://localhost:8888/notebooks/02-tensorflow-way.ipynb#Hinge-loss\" data-toc-modified-id=\"Hinge-loss-1.4.2.1\"><span class=\"toc-item-num\">1.4.2.1&nbsp;&nbsp;</span>Hinge loss</a></span></li><li><span><a href=\"http://localhost:8888/notebooks/02-tensorflow-way.ipynb#Cross-entropy-loss\" data-toc-modified-id=\"Cross-entropy-loss-1.4.2.2\"><span class=\"toc-item-num\">1.4.2.2&nbsp;&nbsp;</span>Cross-entropy loss</a></span></li><li><span><a href=\"http://localhost:8888/notebooks/02-tensorflow-way.ipynb#Sigmoid-cross-entropy\" data-toc-modified-id=\"Sigmoid-cross-entropy-1.4.2.3\"><span class=\"toc-item-num\">1.4.2.3&nbsp;&nbsp;</span>Sigmoid cross entropy</a></span></li><li><span><a href=\"http://localhost:8888/notebooks/02-tensorflow-way.ipynb#Weighted-cross-entropy-loss\" data-toc-modified-id=\"Weighted-cross-entropy-loss-1.4.2.4\"><span class=\"toc-item-num\">1.4.2.4&nbsp;&nbsp;</span>Weighted cross entropy loss</a></span></li><li><span><a href=\"http://localhost:8888/notebooks/02-tensorflow-way.ipynb#Softmax-cross-entropy-loss\" data-toc-modified-id=\"Softmax-cross-entropy-loss-1.4.2.5\"><span class=\"toc-item-num\">1.4.2.5&nbsp;&nbsp;</span>Softmax cross entropy loss</a></span></li><li><span><a href=\"http://localhost:8888/notebooks/02-tensorflow-way.ipynb#Sparse-softmax-cross-entropy-loss\" data-toc-modified-id=\"Sparse-softmax-cross-entropy-loss-1.4.2.6\"><span class=\"toc-item-num\">1.4.2.6&nbsp;&nbsp;</span>Sparse softmax cross-entropy loss</a></span></li></ul></li><li><span><a href=\"http://localhost:8888/notebooks/02-tensorflow-way.ipynb#Summary-Table\" data-toc-modified-id=\"Summary-Table-1.4.3\"><span class=\"toc-item-num\">1.4.3&nbsp;&nbsp;</span>Summary Table</a></span></li><li><span><a href=\"http://localhost:8888/notebooks/02-tensorflow-way.ipynb#Other-metrics-to-look-at-when-evaluating-a-model.\" data-toc-modified-id=\"Other-metrics-to-look-at-when-evaluating-a-model.-1.4.4\"><span class=\"toc-item-num\">1.4.4&nbsp;&nbsp;</span>Other metrics to look at when evaluating a model.</a></span></li></ul></li><li><span><a href=\"http://localhost:8888/notebooks/02-tensorflow-way.ipynb#Implementing-Back-Propagation\" data-toc-modified-id=\"Implementing-Back-Propagation-1.5\"><span class=\"toc-item-num\">1.5&nbsp;&nbsp;</span>Implementing Back Propagation</a></span><ul class=\"toc-item\"><li><span><a href=\"http://localhost:8888/notebooks/02-tensorflow-way.ipynb#Regression-Example\" data-toc-modified-id=\"Regression-Example-1.5.1\"><span class=\"toc-item-num\">1.5.1&nbsp;&nbsp;</span>Regression Example</a></span></li><li><span><a href=\"http://localhost:8888/notebooks/02-tensorflow-way.ipynb#Classification-example\" data-toc-modified-id=\"Classification-example-1.5.2\"><span class=\"toc-item-num\">1.5.2&nbsp;&nbsp;</span>Classification example</a></span></li></ul></li><li><span><a href=\"http://localhost:8888/notebooks/02-tensorflow-way.ipynb#Working-with-Batch-and-Stochastic-Training\" data-toc-modified-id=\"Working-with-Batch-and-Stochastic-Training-1.6\"><span class=\"toc-item-num\">1.6&nbsp;&nbsp;</span>Working with Batch and Stochastic Training</a></span></li></ul></li><li><span><a href=\"http://localhost:8888/notebooks/02-tensorflow-way.ipynb#reset-the-graph\" data-toc-modified-id=\"reset-the-graph-2\"><span class=\"toc-item-num\">2&nbsp;&nbsp;</span>reset the graph</a></span></li></ul></div>"
   ]
  },
  {
   "cell_type": "markdown",
   "metadata": {},
   "source": [
    "# The TensorFlow Way"
   ]
  },
  {
   "cell_type": "code",
   "execution_count": 1,
   "metadata": {
    "collapsed": true
   },
   "outputs": [],
   "source": [
    "import tensorflow as tf\n",
    "from tensorflow.python.framework import ops\n",
    "import numpy as np\n",
    "%matplotlib inline\n",
    "import matplotlib.pyplot as plt\n",
    "import matplotlib\n",
    "matplotlib.style.use('seaborn')"
   ]
  },
  {
   "cell_type": "markdown",
   "metadata": {},
   "source": [
    "## Operations in a Computational Graph"
   ]
  },
  {
   "cell_type": "code",
   "execution_count": 2,
   "metadata": {
    "collapsed": true
   },
   "outputs": [],
   "source": [
    "x_vals = np.array([1., 3., 5., 7., 9.])\n",
    "x_data = tf.placeholder(tf.float32)"
   ]
  },
  {
   "cell_type": "code",
   "execution_count": 3,
   "metadata": {
    "collapsed": true
   },
   "outputs": [],
   "source": [
    "m_const = tf.constant(3.)"
   ]
  },
  {
   "cell_type": "code",
   "execution_count": 4,
   "metadata": {
    "collapsed": true
   },
   "outputs": [],
   "source": [
    "my_product = tf.multiply(x_data, m_const)"
   ]
  },
  {
   "cell_type": "code",
   "execution_count": 5,
   "metadata": {
    "collapsed": true
   },
   "outputs": [],
   "source": [
    "sess = tf.Session()"
   ]
  },
  {
   "cell_type": "code",
   "execution_count": 6,
   "metadata": {},
   "outputs": [
    {
     "name": "stdout",
     "output_type": "stream",
     "text": [
      "3.0\n",
      "9.0\n",
      "15.0\n",
      "21.0\n",
      "27.0\n"
     ]
    }
   ],
   "source": [
    "for x_val in x_vals:\n",
    "    print(sess.run(my_product, feed_dict={x_data: x_val}))"
   ]
  },
  {
   "cell_type": "markdown",
   "metadata": {},
   "source": [
    "## Layering Nested Operations"
   ]
  },
  {
   "cell_type": "code",
   "execution_count": 7,
   "metadata": {
    "collapsed": true
   },
   "outputs": [],
   "source": [
    "my_array = np.array([[1., 3., 5., 7., 9.],\n",
    "                     [-2., 0., 2., 4., 6.],\n",
    "                     [-6., -3., 0., 3., 6.]])\n"
   ]
  },
  {
   "cell_type": "code",
   "execution_count": 8,
   "metadata": {},
   "outputs": [
    {
     "data": {
      "text/plain": [
       "array([[[  1.,   3.,   5.,   7.,   9.],\n",
       "        [ -2.,   0.,   2.,   4.,   6.],\n",
       "        [ -6.,  -3.,   0.,   3.,   6.]],\n",
       "\n",
       "       [[  2.,   4.,   6.,   8.,  10.],\n",
       "        [ -1.,   1.,   3.,   5.,   7.],\n",
       "        [ -5.,  -2.,   1.,   4.,   7.]]])"
      ]
     },
     "execution_count": 8,
     "metadata": {},
     "output_type": "execute_result"
    }
   ],
   "source": [
    "x_vals = np.array([my_array, my_array+1])\n",
    "x_vals"
   ]
  },
  {
   "cell_type": "code",
   "execution_count": 9,
   "metadata": {
    "collapsed": true
   },
   "outputs": [],
   "source": [
    "x_data = tf.placeholder(tf.float32, shape=(3, 5))"
   ]
  },
  {
   "cell_type": "code",
   "execution_count": 10,
   "metadata": {
    "collapsed": true
   },
   "outputs": [],
   "source": [
    "# Create the constants that we will use for matrix multiplication and addition\n",
    "m1 = tf.constant([[1.],[0.],[-1.],[2.],[4.]])\n",
    "m2 = tf.constant([[2.]])\n",
    "a1 = tf.constant([[10.]])"
   ]
  },
  {
   "cell_type": "code",
   "execution_count": 11,
   "metadata": {
    "collapsed": true
   },
   "outputs": [],
   "source": [
    "# Declare the operations and add them to the graph\n",
    "prod1 = tf.matmul(x_data, m1)\n",
    "prod2 = tf.matmul(prod1, m2)\n",
    "add1 = tf.add(prod2, a1)"
   ]
  },
  {
   "cell_type": "code",
   "execution_count": 12,
   "metadata": {},
   "outputs": [
    {
     "name": "stdout",
     "output_type": "stream",
     "text": [
      "[[ 102.]\n",
      " [  66.]\n",
      " [  58.]]\n",
      "[[ 114.]\n",
      " [  78.]\n",
      " [  70.]]\n"
     ]
    }
   ],
   "source": [
    "# Feed data through our graph\n",
    "for x_val in x_vals:\n",
    "    print(sess.run(add1, feed_dict={x_data: x_val}))"
   ]
  },
  {
   "cell_type": "markdown",
   "metadata": {},
   "source": [
    "## Working with Multiple Layers"
   ]
  },
  {
   "cell_type": "code",
   "execution_count": 13,
   "metadata": {
    "collapsed": true
   },
   "outputs": [],
   "source": [
    "# Create a sample 2D image with numpy. This image will be a 4x4 pixel image\n",
    "x_shape = [1, 4, 4, 1]\n",
    "x_val = np.random.uniform(size=x_shape)"
   ]
  },
  {
   "cell_type": "code",
   "execution_count": 14,
   "metadata": {
    "collapsed": true
   },
   "outputs": [],
   "source": [
    "# Create a placeholder\n",
    "x_data = tf.placeholder(tf.float32, shape=x_shape)"
   ]
  },
  {
   "cell_type": "markdown",
   "metadata": {},
   "source": [
    "- Create a moving window average across our 4x4 image\n",
    "- The function that will convolute a constant across a window of the shape 2x2. This function is quite common to use in image processing and in TensorFlow, the function we will use is conv2d(). This function takes a piecewise product of the window and a filter we specify. \n",
    "- We must also specify a stride for the moving window in both directions. Here we will compute four moving window averages, the top left, top right, bottom left, and bottom right four pixels. We do this by creating a 2x2 window and having strides of length 2 in each direction. To take the average, we will convolute the 2x2 window with a constant of 0.25.,\n",
    "\n",
    "- Stride controls how the filter convolves around the input volume. The amount by which the filter shifts is the stride. Stride is normally set in a way so that the output volume is an integer and not a fraction. "
   ]
  },
  {
   "cell_type": "code",
   "execution_count": 15,
   "metadata": {
    "collapsed": true
   },
   "outputs": [],
   "source": [
    "my_filter = tf.constant(0.25, shape=[2,2,1,1])"
   ]
  },
  {
   "cell_type": "code",
   "execution_count": 16,
   "metadata": {
    "collapsed": true
   },
   "outputs": [],
   "source": [
    "my_strides = [1, 2, 2, 1]"
   ]
  },
  {
   "cell_type": "code",
   "execution_count": 17,
   "metadata": {
    "collapsed": true
   },
   "outputs": [],
   "source": [
    "mov_avg_layer = tf.nn.conv2d(x_data, my_filter, my_strides, \n",
    "                            padding='SAME', name='Moving_Avg_Window')"
   ]
  },
  {
   "cell_type": "markdown",
   "metadata": {},
   "source": [
    "To figure out the output size of a convolutional layer, we can use the following formula: Output = (W-F+2P)/S+1, where W is the input size, F is the filter size, P is the padding of zeros, and S is the stride.\n"
   ]
  },
  {
   "cell_type": "markdown",
   "metadata": {},
   "source": [
    "Now we define a custom layer that will operate on the 2x2 output of the moving\n",
    "window average. The custom function will first multiply the input by another 2x2\n",
    "matrix tensor, and then add one to each entry. After this we take the sigmoid of\n",
    "each element and return the 2x2 matrix. Since matrix multiplication only operates on\n",
    "two-dimensional matrices, we need to drop the extra dimensions of our image that\n",
    "are of size 1. TensorFlow can do this with the built-in function squeeze(). Here we\n",
    "define the new layer:\n"
   ]
  },
  {
   "cell_type": "code",
   "execution_count": 18,
   "metadata": {
    "collapsed": true
   },
   "outputs": [],
   "source": [
    "def custom_layer(input_matrix):\n",
    "    input_matrix_squeezed = tf.squeeze(input_matrix)\n",
    "    A = tf.constant([[1., 2.], [-1., 3.]])\n",
    "    b = tf.constant(1., shape=[2, 2])\n",
    "    temp1 = tf.matmul(A, input_matrix_squeezed)\n",
    "    temp = tf.add(temp1, b)\n",
    "    return (tf.sigmoid(temp))"
   ]
  },
  {
   "cell_type": "markdown",
   "metadata": {},
   "source": [
    "- Now we have to place the new layer on the graph. We will do this with a named scope so that it is identifiable and collapsible/expandable on the computational graph, as follows:\n"
   ]
  },
  {
   "cell_type": "code",
   "execution_count": 19,
   "metadata": {
    "collapsed": true
   },
   "outputs": [],
   "source": [
    "with tf.name_scope('Custom_Layer') as scope:\n",
    "    custom_layer1 = custom_layer(mov_avg_layer)"
   ]
  },
  {
   "cell_type": "code",
   "execution_count": 20,
   "metadata": {},
   "outputs": [
    {
     "data": {
      "text/plain": [
       "array([[ 0.90747392,  0.90981293],\n",
       "       [ 0.83250439,  0.88244951]], dtype=float32)"
      ]
     },
     "execution_count": 20,
     "metadata": {},
     "output_type": "execute_result"
    }
   ],
   "source": [
    "sess.run(custom_layer1, feed_dict={x_data: x_val})"
   ]
  },
  {
   "cell_type": "markdown",
   "metadata": {},
   "source": [
    "![Imgur](https://i.imgur.com/AL4oDvV.jpg)"
   ]
  },
  {
   "cell_type": "markdown",
   "metadata": {},
   "source": [
    "## Implementing Loss functions\n",
    "\n",
    "- Loss functions are very important to machine learning algorithms. They measure the distance between the model outputs and the target(truth) values."
   ]
  },
  {
   "cell_type": "markdown",
   "metadata": {},
   "source": [
    "### Loss functions for regression"
   ]
  },
  {
   "cell_type": "code",
   "execution_count": 21,
   "metadata": {
    "collapsed": true
   },
   "outputs": [],
   "source": [
    "x_vals = tf.linspace(-1., 1., 500)"
   ]
  },
  {
   "cell_type": "code",
   "execution_count": 22,
   "metadata": {
    "collapsed": true
   },
   "outputs": [],
   "source": [
    "target = tf.constant(0.)"
   ]
  },
  {
   "cell_type": "markdown",
   "metadata": {},
   "source": [
    "#### L2 norm loss\n",
    "\n",
    "- Also known as the Euclidian loss function. It is just the square of the distance to the target. Here we will compute the loss function as if the target is zero.\n",
    "- The L2 norm is a great loss function because it is very curved near the target and algorithms can use this fact to converge to the target more slowly, the closer it gets..."
   ]
  },
  {
   "cell_type": "code",
   "execution_count": 23,
   "metadata": {},
   "outputs": [
    {
     "data": {
      "text/plain": [
       "<tf.Tensor 'Square:0' shape=(500,) dtype=float32>"
      ]
     },
     "execution_count": 23,
     "metadata": {},
     "output_type": "execute_result"
    }
   ],
   "source": [
    "l2_y_vals = tf.square(target - x_vals)\n",
    "l2_y_vals"
   ]
  },
  {
   "cell_type": "code",
   "execution_count": 24,
   "metadata": {
    "collapsed": true
   },
   "outputs": [],
   "source": [
    "l2_y_out = sess.run(l2_y_vals)"
   ]
  },
  {
   "cell_type": "code",
   "execution_count": 25,
   "metadata": {},
   "outputs": [
    {
     "data": {
      "text/plain": [
       "array([  1.00000000e+00,   9.92000103e-01,   9.84032154e-01,\n",
       "         9.76096511e-01,   9.68192935e-01,   9.60321426e-01,\n",
       "         9.52482104e-01,   9.44674969e-01,   9.36899841e-01,\n",
       "         9.29156899e-01,   9.21446025e-01,   9.13767397e-01,\n",
       "         9.06120896e-01,   8.98506403e-01,   8.90924096e-01,\n",
       "         8.83373976e-01,   8.75855863e-01,   8.68369997e-01,\n",
       "         8.60916257e-01,   8.53494525e-01,   8.46105039e-01,\n",
       "         8.38747680e-01,   8.31422329e-01,   8.24129224e-01,\n",
       "         8.16868246e-01,   8.09639275e-01,   8.02442551e-01,\n",
       "         7.95277953e-01,   7.88145423e-01,   7.81045079e-01,\n",
       "         7.73976862e-01,   7.66940653e-01,   7.59936750e-01,\n",
       "         7.52964914e-01,   7.46025085e-01,   7.39117563e-01,\n",
       "         7.32241988e-01,   7.25398719e-01,   7.18587518e-01,\n",
       "         7.11808383e-01,   7.05061436e-01,   6.98346555e-01,\n",
       "         6.91663861e-01,   6.85013294e-01,   6.78394794e-01,\n",
       "         6.71808541e-01,   6.65254354e-01,   6.58732235e-01,\n",
       "         6.52242362e-01,   6.45784557e-01,   6.39358819e-01,\n",
       "         6.32965326e-01,   6.26603961e-01,   6.20274603e-01,\n",
       "         6.13977432e-01,   6.07712448e-01,   6.01479471e-01,\n",
       "         5.95278740e-01,   5.89110136e-01,   5.82973540e-01,\n",
       "         5.76869190e-01,   5.70796967e-01,   5.64756751e-01,\n",
       "         5.58748782e-01,   5.52772939e-01,   5.46829104e-01,\n",
       "         5.40917516e-01,   5.35038054e-01,   5.29190660e-01,\n",
       "         5.23375332e-01,   5.17592371e-01,   5.11841297e-01,\n",
       "         5.06122410e-01,   5.00435770e-01,   4.94781137e-01,\n",
       "         4.89158630e-01,   4.83568400e-01,   4.78010118e-01,\n",
       "         4.72483993e-01,   4.66990054e-01,   4.61528271e-01,\n",
       "         4.56098527e-01,   4.50700969e-01,   4.45335567e-01,\n",
       "         4.40002203e-01,   4.34701055e-01,   4.29432034e-01,\n",
       "         4.24195051e-01,   4.18990284e-01,   4.13817644e-01,\n",
       "         4.08677042e-01,   4.03568655e-01,   3.98492396e-01,\n",
       "         3.93448204e-01,   3.88436198e-01,   3.83456320e-01,\n",
       "         3.78508508e-01,   3.73592883e-01,   3.68709385e-01,\n",
       "         3.63857955e-01,   3.59038711e-01,   3.54251623e-01,\n",
       "         3.49496573e-01,   3.44773710e-01,   3.40083003e-01,\n",
       "         3.35424334e-01,   3.30797821e-01,   3.26203555e-01,\n",
       "         3.21641266e-01,   3.17111135e-01,   3.12613249e-01,\n",
       "         3.08147341e-01,   3.03713590e-01,   2.99312085e-01,\n",
       "         2.94942588e-01,   2.90605217e-01,   2.86300033e-01,\n",
       "         2.82026976e-01,   2.77785987e-01,   2.73577183e-01,\n",
       "         2.69400537e-01,   2.65255928e-01,   2.61143506e-01,\n",
       "         2.57063240e-01,   2.53015012e-01,   2.48998985e-01,\n",
       "         2.45015085e-01,   2.41063267e-01,   2.37143621e-01,\n",
       "         2.33256102e-01,   2.29400665e-01,   2.25577399e-01,\n",
       "         2.21786276e-01,   2.18027219e-01,   2.14300349e-01,\n",
       "         2.10605592e-01,   2.06942931e-01,   2.03312442e-01,\n",
       "         1.99714020e-01,   1.96147799e-01,   1.92613691e-01,\n",
       "         1.89111665e-01,   1.85641810e-01,   1.82204098e-01,\n",
       "         1.78798452e-01,   1.75424993e-01,   1.72083661e-01,\n",
       "         1.68774396e-01,   1.65497318e-01,   1.62252367e-01,\n",
       "         1.59039497e-01,   1.55858815e-01,   1.52710244e-01,\n",
       "         1.49593756e-01,   1.46509454e-01,   1.43457279e-01,\n",
       "         1.40437171e-01,   1.37449250e-01,   1.34493411e-01,\n",
       "         1.31569743e-01,   1.28678203e-01,   1.25818744e-01,\n",
       "         1.22991465e-01,   1.20196313e-01,   1.17433242e-01,\n",
       "         1.14702344e-01,   1.12003572e-01,   1.09336890e-01,\n",
       "         1.06702380e-01,   1.04099996e-01,   1.01529695e-01,\n",
       "         9.89915729e-02,   9.64855701e-02,   9.40116569e-02,\n",
       "         9.15699154e-02,   8.91602635e-02,   8.67827758e-02,\n",
       "         8.44374150e-02,   8.21241513e-02,   7.98430443e-02,\n",
       "         7.75940716e-02,   7.53771886e-02,   7.31924698e-02,\n",
       "         7.10398778e-02,   6.89193904e-02,   6.68310523e-02,\n",
       "         6.47748485e-02,   6.27507418e-02,   6.07587919e-02,\n",
       "         5.87989688e-02,   5.68712465e-02,   5.49756810e-02,\n",
       "         5.31122200e-02,   5.12809083e-02,   4.94817309e-02,\n",
       "         4.77146506e-02,   4.59797271e-02,   4.42769341e-02,\n",
       "         4.26062420e-02,   4.09677029e-02,   3.93612906e-02,\n",
       "         3.77869867e-02,   3.62448320e-02,   3.47348042e-02,\n",
       "         3.32568847e-02,   3.18111144e-02,   3.03974729e-02,\n",
       "         2.90159397e-02,   2.76665539e-02,   2.63492968e-02,\n",
       "         2.50641499e-02,   2.38111485e-02,   2.25902591e-02,\n",
       "         2.14015152e-02,   2.02449001e-02,   1.91203952e-02,\n",
       "         1.80280358e-02,   1.69678051e-02,   1.59396864e-02,\n",
       "         1.49437124e-02,   1.39798662e-02,   1.30481338e-02,\n",
       "         1.21485433e-02,   1.12810815e-02,   1.04457354e-02,\n",
       "         9.64253023e-03,   8.87145288e-03,   8.13249312e-03,\n",
       "         7.42567237e-03,   6.75097015e-03,   6.10840600e-03,\n",
       "         5.49797015e-03,   4.91965376e-03,   4.37347405e-03,\n",
       "         3.85942264e-03,   3.37749231e-03,   2.92769750e-03,\n",
       "         2.51003075e-03,   2.12448649e-03,   1.77107635e-03,\n",
       "         1.44979416e-03,   1.16063596e-03,   9.03610373e-04,\n",
       "         6.78712793e-04,   4.85940691e-04,   3.25299741e-04,\n",
       "         1.96786816e-04,   1.00400750e-04,   3.61444145e-05,\n",
       "         4.01588659e-06,   4.01612579e-06,   3.61451312e-05,\n",
       "         1.00400750e-04,   1.96786816e-04,   3.25301895e-04,\n",
       "         4.85940691e-04,   6.78712793e-04,   9.03613924e-04,\n",
       "         1.16063596e-03,   1.44979416e-03,   1.77108136e-03,\n",
       "         2.12448649e-03,   2.51003075e-03,   2.92770402e-03,\n",
       "         3.37749231e-03,   3.85942264e-03,   4.37348196e-03,\n",
       "         4.91965376e-03,   5.49797015e-03,   6.10841531e-03,\n",
       "         6.75097015e-03,   7.42567237e-03,   8.13250430e-03,\n",
       "         8.87144171e-03,   9.64253023e-03,   1.04457475e-02,\n",
       "         1.12810945e-02,   1.21485433e-02,   1.30481469e-02,\n",
       "         1.39798801e-02,   1.49437124e-02,   1.59397013e-02,\n",
       "         1.69678200e-02,   1.80280358e-02,   1.91204119e-02,\n",
       "         2.02449169e-02,   2.14015152e-02,   2.25902777e-02,\n",
       "         2.38111671e-02,   2.50641499e-02,   2.63492968e-02,\n",
       "         2.76665743e-02,   2.90159397e-02,   3.03974729e-02,\n",
       "         3.18111368e-02,   3.32568847e-02,   3.47348042e-02,\n",
       "         3.62448543e-02,   3.77869867e-02,   3.93612906e-02,\n",
       "         4.09677252e-02,   4.26062420e-02,   4.42769341e-02,\n",
       "         4.59797531e-02,   4.77146506e-02,   4.94817309e-02,\n",
       "         5.12809381e-02,   5.31122200e-02,   5.49756810e-02,\n",
       "         5.68712763e-02,   5.87989390e-02,   6.07587919e-02,\n",
       "         6.27507716e-02,   6.47748783e-02,   6.68310523e-02,\n",
       "         6.89194202e-02,   7.10399151e-02,   7.31924698e-02,\n",
       "         7.53772259e-02,   7.75941014e-02,   7.98430443e-02,\n",
       "         8.21241811e-02,   8.44374523e-02,   8.67827758e-02,\n",
       "         8.91603008e-02,   9.15699527e-02,   9.40116569e-02,\n",
       "         9.64855701e-02,   9.89916101e-02,   1.01529695e-01,\n",
       "         1.04099996e-01,   1.06702417e-01,   1.09336890e-01,\n",
       "         1.12003572e-01,   1.14702389e-01,   1.17433242e-01,\n",
       "         1.20196313e-01,   1.22991510e-01,   1.25818744e-01,\n",
       "         1.28678203e-01,   1.31569788e-01,   1.34493411e-01,\n",
       "         1.37449250e-01,   1.40437216e-01,   1.43457219e-01,\n",
       "         1.46509454e-01,   1.49593800e-01,   1.52710199e-01,\n",
       "         1.55858815e-01,   1.59039557e-01,   1.62252426e-01,\n",
       "         1.65497318e-01,   1.68774456e-01,   1.72083706e-01,\n",
       "         1.75424993e-01,   1.78798497e-01,   1.82204142e-01,\n",
       "         1.85641810e-01,   1.89111710e-01,   1.92613736e-01,\n",
       "         1.96147799e-01,   1.99714079e-01,   2.03312486e-01,\n",
       "         2.06942931e-01,   2.10605592e-01,   2.14300394e-01,\n",
       "         2.18027219e-01,   2.21786276e-01,   2.25577459e-01,\n",
       "         2.29400665e-01,   2.33256102e-01,   2.37143680e-01,\n",
       "         2.41063267e-01,   2.45015085e-01,   2.48999044e-01,\n",
       "         2.53015012e-01,   2.57063240e-01,   2.61143565e-01,\n",
       "         2.65255928e-01,   2.69400537e-01,   2.73577273e-01,\n",
       "         2.77785987e-01,   2.82026976e-01,   2.86300093e-01,\n",
       "         2.90605336e-01,   2.94942588e-01,   2.99312085e-01,\n",
       "         3.03713709e-01,   3.08147341e-01,   3.12613249e-01,\n",
       "         3.17111254e-01,   3.21641266e-01,   3.26203555e-01,\n",
       "         3.30797940e-01,   3.35424334e-01,   3.40083003e-01,\n",
       "         3.44773799e-01,   3.49496573e-01,   3.54251623e-01,\n",
       "         3.59038800e-01,   3.63857955e-01,   3.68709385e-01,\n",
       "         3.73592943e-01,   3.78508508e-01,   3.83456320e-01,\n",
       "         3.88436258e-01,   3.93448204e-01,   3.98492396e-01,\n",
       "         4.03568715e-01,   4.08677042e-01,   4.13817644e-01,\n",
       "         4.18990344e-01,   4.24195051e-01,   4.29432034e-01,\n",
       "         4.34701115e-01,   4.40002203e-01,   4.45335567e-01,\n",
       "         4.50701058e-01,   4.56098527e-01,   4.61528271e-01,\n",
       "         4.66990143e-01,   4.72484171e-01,   4.78010118e-01,\n",
       "         4.83568400e-01,   4.89158779e-01,   4.94781137e-01,\n",
       "         5.00435770e-01,   5.06122589e-01,   5.11841297e-01,\n",
       "         5.17592371e-01,   5.23375511e-01,   5.29190660e-01,\n",
       "         5.35038054e-01,   5.40917635e-01,   5.46829104e-01,\n",
       "         5.52772939e-01,   5.58748841e-01,   5.64756751e-01,\n",
       "         5.70796967e-01,   5.76869249e-01,   5.82973540e-01,\n",
       "         5.89110136e-01,   5.95278800e-01,   6.01479471e-01,\n",
       "         6.07712448e-01,   6.13977551e-01,   6.20274603e-01,\n",
       "         6.26603961e-01,   6.32965386e-01,   6.39358819e-01,\n",
       "         6.45784557e-01,   6.52242422e-01,   6.58732235e-01,\n",
       "         6.65254354e-01,   6.71808600e-01,   6.78394794e-01,\n",
       "         6.85013294e-01,   6.91663980e-01,   6.98346734e-01,\n",
       "         7.05061436e-01,   7.11808443e-01,   7.18587637e-01,\n",
       "         7.25398719e-01,   7.32242107e-01,   7.39117622e-01,\n",
       "         7.46025085e-01,   7.52964914e-01,   7.59936810e-01,\n",
       "         7.66940653e-01,   7.73976862e-01,   7.81045198e-01,\n",
       "         7.88145423e-01,   7.95277953e-01,   8.02442670e-01,\n",
       "         8.09639275e-01,   8.16868246e-01,   8.24129343e-01,\n",
       "         8.31422329e-01,   8.38747680e-01,   8.46105158e-01,\n",
       "         8.53494525e-01,   8.60916257e-01,   8.68370116e-01,\n",
       "         8.75855863e-01,   8.83373976e-01,   8.90924215e-01,\n",
       "         8.98506403e-01,   9.06120896e-01,   9.13767517e-01,\n",
       "         9.21446025e-01,   9.29156899e-01,   9.36899960e-01,\n",
       "         9.44674850e-01,   9.52482104e-01,   9.60321546e-01,\n",
       "         9.68193054e-01,   9.76096511e-01,   9.84032273e-01,\n",
       "         9.92000222e-01,   1.00000000e+00], dtype=float32)"
      ]
     },
     "execution_count": 25,
     "metadata": {},
     "output_type": "execute_result"
    }
   ],
   "source": [
    "l2_y_out"
   ]
  },
  {
   "cell_type": "markdown",
   "metadata": {},
   "source": [
    "- ```tf.nn.l2_loss()```\n",
    "- TensorFlow has a built -in form of the L2 norm, called nn.l2_loss().\n",
    "This function is actually half the L2-norm above. In other words, it is\n",
    "same as previously but divided by 2.\n"
   ]
  },
  {
   "cell_type": "markdown",
   "metadata": {},
   "source": [
    "#### L1 norm loss \n",
    "- Also known as the absolute loss function.\n",
    "- Instead of squaring the difference, we take the absolute value.\n",
    "- L1 norm is better for outliers than the L2 norm because it is not as steep for larger values.\n",
    "- L1 norm is not smooth at the target and this can result in algorithms not converging well."
   ]
  },
  {
   "cell_type": "code",
   "execution_count": 26,
   "metadata": {},
   "outputs": [
    {
     "data": {
      "text/plain": [
       "array([ 1.        ,  0.995992  ,  0.99198395,  0.98797596,  0.98396796,\n",
       "        0.97995991,  0.97595191,  0.97194391,  0.96793586,  0.96392787,\n",
       "        0.95991981,  0.95591182,  0.95190382,  0.94789577,  0.94388777,\n",
       "        0.93987978,  0.93587172,  0.93186373,  0.92785573,  0.92384768,\n",
       "        0.91983968,  0.91583169,  0.91182363,  0.90781564,  0.90380764,\n",
       "        0.89979959,  0.89579159,  0.8917836 ,  0.88777554,  0.88376755,\n",
       "        0.87975955,  0.8757515 ,  0.8717435 ,  0.86773551,  0.86372745,\n",
       "        0.85971946,  0.8557114 ,  0.85170341,  0.84769541,  0.84368736,\n",
       "        0.83967936,  0.83567131,  0.83166331,  0.82765532,  0.82364726,\n",
       "        0.81963927,  0.81563127,  0.81162322,  0.80761522,  0.80360723,\n",
       "        0.79959917,  0.79559118,  0.79158318,  0.78757513,  0.78356713,\n",
       "        0.77955914,  0.77555108,  0.77154309,  0.76753509,  0.76352704,\n",
       "        0.75951904,  0.75551105,  0.75150299,  0.747495  ,  0.743487  ,\n",
       "        0.73947895,  0.73547095,  0.73146296,  0.7274549 ,  0.72344685,\n",
       "        0.71943891,  0.71543086,  0.7114228 ,  0.70741487,  0.70340681,\n",
       "        0.69939876,  0.69539082,  0.69138277,  0.68737471,  0.68336672,\n",
       "        0.67935872,  0.67535067,  0.67134267,  0.66733468,  0.66332662,\n",
       "        0.65931863,  0.65531063,  0.65130258,  0.64729458,  0.64328659,\n",
       "        0.63927853,  0.63527054,  0.63126254,  0.62725449,  0.62324649,\n",
       "        0.6192385 ,  0.61523044,  0.61122245,  0.60721445,  0.6032064 ,\n",
       "        0.5991984 ,  0.59519041,  0.59118235,  0.58717436,  0.58316636,\n",
       "        0.57915831,  0.57515025,  0.57114232,  0.56713426,  0.56312621,\n",
       "        0.55911827,  0.55511022,  0.55110216,  0.54709423,  0.54308617,\n",
       "        0.53907812,  0.53507012,  0.53106213,  0.52705407,  0.52304608,\n",
       "        0.51903808,  0.51503003,  0.51102203,  0.50701404,  0.50300598,\n",
       "        0.49899799,  0.49498999,  0.49098194,  0.48697394,  0.48296595,\n",
       "        0.47895789,  0.4749499 ,  0.4709419 ,  0.46693385,  0.46292585,\n",
       "        0.45891786,  0.4549098 ,  0.45090181,  0.44689375,  0.44288576,\n",
       "        0.43887776,  0.43486971,  0.43086171,  0.42685372,  0.42284566,\n",
       "        0.41883767,  0.41482967,  0.41082162,  0.40681362,  0.40280563,\n",
       "        0.39879757,  0.39478958,  0.39078158,  0.38677353,  0.38276553,\n",
       "        0.37875754,  0.37474948,  0.37074149,  0.36673343,  0.36272544,\n",
       "        0.35871744,  0.35470939,  0.35070139,  0.3466934 ,  0.34268534,\n",
       "        0.33867735,  0.33466935,  0.3306613 ,  0.3266533 ,  0.32264531,\n",
       "        0.31863725,  0.31462926,  0.31062126,  0.30661321,  0.30260521,\n",
       "        0.29859716,  0.29458916,  0.29058117,  0.28657311,  0.28256512,\n",
       "        0.27855712,  0.27454907,  0.27054107,  0.26653308,  0.26252502,\n",
       "        0.25851703,  0.25450903,  0.25050098,  0.24649298,  0.24248499,\n",
       "        0.23847693,  0.23446894,  0.23046088,  0.22645289,  0.22244489,\n",
       "        0.21843684,  0.21442884,  0.21042085,  0.20641279,  0.2024048 ,\n",
       "        0.1983968 ,  0.19438875,  0.19038075,  0.18637276,  0.1823647 ,\n",
       "        0.17835671,  0.17434871,  0.17034066,  0.16633266,  0.16232467,\n",
       "        0.15831661,  0.15430862,  0.15030056,  0.14629257,  0.14228457,\n",
       "        0.13827652,  0.13426852,  0.13026053,  0.12625247,  0.12224448,\n",
       "        0.11823648,  0.11422843,  0.11022043,  0.10621244,  0.10220438,\n",
       "        0.09819639,  0.09418839,  0.09018034,  0.08617234,  0.08216429,\n",
       "        0.07815629,  0.0741483 ,  0.07014024,  0.06613225,  0.06212425,\n",
       "        0.0581162 ,  0.0541082 ,  0.05010021,  0.04609215,  0.04208416,\n",
       "        0.03807616,  0.03406811,  0.03006011,  0.02605212,  0.02204406,\n",
       "        0.01803607,  0.01402807,  0.01002002,  0.00601202,  0.00200397,\n",
       "        0.00200403,  0.00601208,  0.01002002,  0.01402807,  0.01803613,\n",
       "        0.02204406,  0.02605212,  0.03006017,  0.03406811,  0.03807616,\n",
       "        0.04208422,  0.04609215,  0.05010021,  0.05410826,  0.0581162 ,\n",
       "        0.06212425,  0.06613231,  0.07014024,  0.0741483 ,  0.07815635,\n",
       "        0.08216429,  0.08617234,  0.0901804 ,  0.09418833,  0.09819639,\n",
       "        0.10220444,  0.1062125 ,  0.11022043,  0.11422849,  0.11823654,\n",
       "        0.12224448,  0.12625253,  0.13026059,  0.13426852,  0.13827658,\n",
       "        0.14228463,  0.14629257,  0.15030062,  0.15430868,  0.15831661,\n",
       "        0.16232467,  0.16633272,  0.17034066,  0.17434871,  0.17835677,\n",
       "        0.1823647 ,  0.18637276,  0.19038081,  0.19438875,  0.1983968 ,\n",
       "        0.20240486,  0.20641279,  0.21042085,  0.2144289 ,  0.21843684,\n",
       "        0.22244489,  0.22645295,  0.23046088,  0.23446894,  0.23847699,\n",
       "        0.24248493,  0.24649298,  0.25050104,  0.25450909,  0.25851703,\n",
       "        0.26252508,  0.26653314,  0.27054107,  0.27454913,  0.27855718,\n",
       "        0.28256512,  0.28657317,  0.29058123,  0.29458916,  0.29859722,\n",
       "        0.30260527,  0.30661321,  0.31062126,  0.31462932,  0.31863725,\n",
       "        0.32264531,  0.32665336,  0.3306613 ,  0.33466935,  0.33867741,\n",
       "        0.34268534,  0.3466934 ,  0.35070145,  0.35470939,  0.35871744,\n",
       "        0.3627255 ,  0.36673343,  0.37074149,  0.37474954,  0.37875748,\n",
       "        0.38276553,  0.38677359,  0.39078152,  0.39478958,  0.39879763,\n",
       "        0.40280569,  0.40681362,  0.41082168,  0.41482973,  0.41883767,\n",
       "        0.42284572,  0.42685378,  0.43086171,  0.43486977,  0.43887782,\n",
       "        0.44288576,  0.44689381,  0.45090187,  0.4549098 ,  0.45891786,\n",
       "        0.46292591,  0.46693385,  0.4709419 ,  0.47494996,  0.47895789,\n",
       "        0.48296595,  0.486974  ,  0.49098194,  0.49498999,  0.49899805,\n",
       "        0.50300598,  0.50701404,  0.51102209,  0.51503003,  0.51903808,\n",
       "        0.52304614,  0.52705407,  0.53106213,  0.53507018,  0.53907824,\n",
       "        0.54308617,  0.54709423,  0.55110228,  0.55511022,  0.55911827,\n",
       "        0.56312633,  0.56713426,  0.57114232,  0.57515037,  0.57915831,\n",
       "        0.58316636,  0.58717442,  0.59118235,  0.59519041,  0.59919846,\n",
       "        0.6032064 ,  0.60721445,  0.61122251,  0.61523044,  0.6192385 ,\n",
       "        0.62324655,  0.62725449,  0.63126254,  0.6352706 ,  0.63927853,\n",
       "        0.64328659,  0.64729464,  0.65130258,  0.65531063,  0.65931869,\n",
       "        0.66332662,  0.66733468,  0.67134273,  0.67535067,  0.67935872,\n",
       "        0.68336678,  0.68737483,  0.69138277,  0.69539082,  0.69939888,\n",
       "        0.70340681,  0.70741487,  0.71142292,  0.71543086,  0.71943891,\n",
       "        0.72344697,  0.7274549 ,  0.73146296,  0.73547101,  0.73947895,\n",
       "        0.743487  ,  0.74749506,  0.75150299,  0.75551105,  0.7595191 ,\n",
       "        0.76352704,  0.76753509,  0.77154315,  0.77555108,  0.77955914,\n",
       "        0.78356719,  0.78757513,  0.79158318,  0.79559124,  0.79959917,\n",
       "        0.80360723,  0.80761528,  0.81162322,  0.81563127,  0.81963933,\n",
       "        0.82364726,  0.82765532,  0.83166337,  0.83567142,  0.83967936,\n",
       "        0.84368742,  0.84769547,  0.85170341,  0.85571146,  0.85971951,\n",
       "        0.86372745,  0.86773551,  0.87174356,  0.8757515 ,  0.87975955,\n",
       "        0.8837676 ,  0.88777554,  0.8917836 ,  0.89579165,  0.89979959,\n",
       "        0.90380764,  0.90781569,  0.91182363,  0.91583169,  0.91983974,\n",
       "        0.92384768,  0.92785573,  0.93186378,  0.93587172,  0.93987978,\n",
       "        0.94388783,  0.94789577,  0.95190382,  0.95591187,  0.95991981,\n",
       "        0.96392787,  0.96793592,  0.97194386,  0.97595191,  0.97995996,\n",
       "        0.98396802,  0.98797596,  0.99198401,  0.99599206,  1.        ], dtype=float32)"
      ]
     },
     "execution_count": 26,
     "metadata": {},
     "output_type": "execute_result"
    }
   ],
   "source": [
    "l1_y_vals = tf.abs(target - x_vals)\n",
    "l1_y_out = sess.run(l1_y_vals)\n",
    "l1_y_out"
   ]
  },
  {
   "cell_type": "markdown",
   "metadata": {},
   "source": [
    "#### Pseudo-Huber loss\n",
    "- Is a continuous and smooth approximation to the Huber loss function.\n",
    "- This loss function attempts to take the best of the L1 and L2 norms by being convex near the target and less steep for extreme values. The form depends on an extra parameter, delta, which dictates how steep it will be."
   ]
  },
  {
   "cell_type": "code",
   "execution_count": 27,
   "metadata": {
    "collapsed": true
   },
   "outputs": [],
   "source": [
    "delta1 = tf.constant(0.25)\n",
    "delta2 = tf.constant(5.)"
   ]
  },
  {
   "cell_type": "code",
   "execution_count": 28,
   "metadata": {
    "collapsed": true
   },
   "outputs": [],
   "source": [
    "phuber1_y_vals = tf.multiply(tf.square(delta1), \n",
    "                             tf.sqrt(1. + tf.square((target - x_vals)/delta1)) - 1.)"
   ]
  },
  {
   "cell_type": "code",
   "execution_count": 29,
   "metadata": {
    "collapsed": true
   },
   "outputs": [],
   "source": [
    "phuber1_y_out = sess.run(phuber1_y_vals)"
   ]
  },
  {
   "cell_type": "code",
   "execution_count": 30,
   "metadata": {
    "collapsed": true
   },
   "outputs": [],
   "source": [
    "phuber2_y_vals = tf.multiply(tf.square(delta2), \n",
    "                             tf.sqrt(1. + tf.square((target - x_vals)/delta2)) - 1.)"
   ]
  },
  {
   "cell_type": "code",
   "execution_count": 31,
   "metadata": {
    "collapsed": true
   },
   "outputs": [],
   "source": [
    "phuber2_y_out = sess.run(phuber2_y_vals)"
   ]
  },
  {
   "cell_type": "code",
   "execution_count": 32,
   "metadata": {
    "collapsed": true
   },
   "outputs": [],
   "source": [
    "x_array = sess.run(x_vals)"
   ]
  },
  {
   "cell_type": "code",
   "execution_count": 33,
   "metadata": {},
   "outputs": [
    {
     "data": {
      "image/png": "[encoded data removed]",
      "text/plain": [
       "<matplotlib.figure.Figure at 0x7f1d252cf588>"
      ]
     },
     "metadata": {},
     "output_type": "display_data"
    }
   ],
   "source": [
    "x_array = sess.run(x_vals)\n",
    "plt.plot(x_array, l2_y_out, 'b-', label='L2 Loss')\n",
    "plt.plot(x_array, l1_y_out, 'r--', label='L1 Loss')\n",
    "plt.plot(x_array, phuber1_y_out, 'k-.', label='P-Huber Loss (0.25)')\n",
    "plt.plot(x_array, phuber2_y_out, 'g:', label='P-Huber Loss (5.0)')\n",
    "plt.ylim(-0.2, 0.4)\n",
    "#plt.legend(loc='lower right', prop={'size': 11})\n",
    "plt.legend()\n",
    "plt.title('Various regression loss functions')\n",
    "plt.show()\n"
   ]
  },
  {
   "cell_type": "markdown",
   "metadata": {},
   "source": [
    "### Classification loss functions"
   ]
  },
  {
   "cell_type": "markdown",
   "metadata": {},
   "source": [
    "- These are used when predicting categorical outcomes."
   ]
  },
  {
   "cell_type": "code",
   "execution_count": 34,
   "metadata": {
    "collapsed": true
   },
   "outputs": [],
   "source": [
    "x_vals = tf.linspace(-3., 5., 500)\n",
    "target = tf.constant(1.)\n",
    "targets = tf.fill([500,], 1.)\n"
   ]
  },
  {
   "cell_type": "markdown",
   "metadata": {},
   "source": [
    "#### Hinge loss\n",
    "- Mostly used for SVM, but can be used in neural networks as well. \n",
    "- It is meant to compute a loss between with two target classes, -1 and 1. "
   ]
  },
  {
   "cell_type": "code",
   "execution_count": 35,
   "metadata": {
    "collapsed": true
   },
   "outputs": [],
   "source": [
    "hinge_y_vals = tf.maximum(0., 1. - tf.multiply(target, x_vals))\n",
    "hinge_y_out = sess.run(hinge_y_vals)"
   ]
  },
  {
   "cell_type": "markdown",
   "metadata": {},
   "source": [
    "#### Cross-entropy loss\n",
    "- Used for a binary case. Also known as logistic loss function.\n",
    "- It comes about when we are predicting the two classes 0, 1.\n",
    "- We wish to measure a distance from the actual class (0 or 1) to the predicted value, which is usually a real number between 0 and 1.\n"
   ]
  },
  {
   "cell_type": "code",
   "execution_count": 36,
   "metadata": {
    "collapsed": true
   },
   "outputs": [],
   "source": [
    "xentropy_y_vals = - tf.multiply(target, tf.log(x_vals)) - tf.multiply((1. - target), tf.log(1. - x_vals))\n",
    "xentropy_y_out = sess.run(xentropy_y_vals)"
   ]
  },
  {
   "cell_type": "markdown",
   "metadata": {},
   "source": [
    "#### Sigmoid cross entropy"
   ]
  },
  {
   "cell_type": "markdown",
   "metadata": {},
   "source": [
    "- Very similar to the cross-entropy loss function except we transform the x-values by the sigmoid funcion before we put them in the cross entropy loss"
   ]
  },
  {
   "cell_type": "code",
   "execution_count": 37,
   "metadata": {
    "collapsed": true
   },
   "outputs": [],
   "source": [
    "xentropy_sigmoid_y_vals = tf.nn.sigmoid_cross_entropy_with_logits(logits=x_vals, labels=targets)\n",
    "xentropy_sigmoid_y_out = sess.run(xentropy_sigmoid_y_vals)"
   ]
  },
  {
   "cell_type": "code",
   "execution_count": 38,
   "metadata": {},
   "outputs": [
    {
     "data": {
      "text/plain": [
       "array([ 3.04858732,  3.03332162,  3.01806736,  3.00282526,  2.98759532,\n",
       "        2.9723773 ,  2.95717216,  2.94197965,  2.92679977,  2.91163325,\n",
       "        2.89647961,  2.88133955,  2.86621308,  2.85110021,  2.83600163,\n",
       "        2.82091737,  2.80584693,  2.79079151,  2.77575088,  2.76072526,\n",
       "        2.74571466,  2.7307198 ,  2.71574044,  2.70077705,  2.68582964,\n",
       "        2.67089844,  2.65598416,  2.64108634,  2.62620568,  2.61134219,\n",
       "        2.59649634,  2.5816679 ,  2.56685781,  2.55206585,  2.53729224,\n",
       "        2.52253747,  2.50780129,  2.49308491,  2.47838783,  2.46371031,\n",
       "        2.44905281,  2.43441558,  2.41979909,  2.40520358,  2.39062881,\n",
       "        2.37607551,  2.36154413,  2.34703445,  2.33254695,  2.31808233,\n",
       "        2.30364013,  2.28922129,  2.27482581,  2.2604537 ,  2.24610591,\n",
       "        2.23178267,  2.21748352,  2.20320964,  2.18896103,  2.17473793,\n",
       "        2.16054082,  2.14636993,  2.13222528,  2.1181078 ,  2.10401726,\n",
       "        2.08995438,  2.07591939,  2.06191254,  2.04793429,  2.03398466,\n",
       "        2.02006459,  2.00617409,  1.99231327,  1.97848296,  1.96468306,\n",
       "        1.95091426,  1.93717682,  1.92347109,  1.90979731,  1.89615595,\n",
       "        1.88254762,  1.8689723 ,  1.85543048,  1.84192264,  1.82844901,\n",
       "        1.81501007,  1.8016063 ,  1.78823781,  1.77490509,  1.7616086 ,\n",
       "        1.74834871,  1.73512578,  1.72194004,  1.70879221,  1.69568241,\n",
       "        1.68261111,  1.66957879,  1.65658569,  1.64363229,  1.63071895,\n",
       "        1.61784613,  1.60501409,  1.59222329,  1.57947433,  1.56676722,\n",
       "        1.55410266,  1.5414809 ,  1.52890241,  1.51636755,  1.50387669,\n",
       "        1.4914304 ,  1.47902882,  1.46667242,  1.4543618 ,  1.44209707,\n",
       "        1.42987871,  1.4177072 ,  1.4055829 ,  1.39350605,  1.38147724,\n",
       "        1.36949682,  1.35756516,  1.3456825 ,  1.33384943,  1.32206619,\n",
       "        1.31033313,  1.29865086,  1.28701937,  1.2754395 ,  1.26391125,\n",
       "        1.25243497,  1.24101138,  1.2296406 ,  1.21832275,  1.20705867,\n",
       "        1.19584846,  1.18469238,  1.1735909 ,  1.16254425,  1.15155303,\n",
       "        1.14061737,  1.12973738,  1.11891365,  1.10814667,  1.09743631,\n",
       "        1.08678317,  1.07618761,  1.06564951,  1.0551697 ,  1.04474819,\n",
       "        1.0343852 ,  1.02408123,  1.01383638,  1.00365067,  0.99352497,\n",
       "        0.98345912,  0.97345334,  0.96350813,  0.95362341,  0.94379967,\n",
       "        0.93403709,  0.9243356 ,  0.91469586,  0.90511781,  0.89560151,\n",
       "        0.8861475 ,  0.87675565,  0.86742622,  0.85815948,  0.84895551,\n",
       "        0.83981436,  0.8307364 ,  0.82172167,  0.81277007,  0.80388206,\n",
       "        0.79505742,  0.78629661,  0.77759957,  0.7689662 ,  0.7603969 ,\n",
       "        0.75189155,  0.74345016,  0.73507297,  0.72675991,  0.71851093,\n",
       "        0.71032631,  0.7022059 ,  0.69414967,  0.68615776,  0.67823011,\n",
       "        0.67036659,  0.66256738,  0.6548323 ,  0.64716148,  0.63955474,\n",
       "        0.63201201,  0.62453336,  0.61711866,  0.60976768,  0.60248059,\n",
       "        0.5952571 ,  0.58809721,  0.5810008 ,  0.57396781,  0.56699789,\n",
       "        0.5600912 ,  0.55324745,  0.54646635,  0.53974807,  0.53309232,\n",
       "        0.52649868,  0.51996738,  0.51349789,  0.50709027,  0.50074422,\n",
       "        0.49445945,  0.48823592,  0.48207337,  0.47597137,  0.46992996,\n",
       "        0.46394879,  0.45802754,  0.45216608,  0.4463641 ,  0.44062129,\n",
       "        0.43493751,  0.42931241,  0.42374563,  0.41823703,  0.41278619,\n",
       "        0.40739292,  0.4020569 ,  0.39677775,  0.39155525,  0.38638908,\n",
       "        0.38127875,  0.37622419,  0.37122497,  0.36628062,  0.36139101,\n",
       "        0.3565557 ,  0.35177431,  0.34704661,  0.34237218,  0.33775055,\n",
       "        0.33318156,  0.32866481,  0.32419977,  0.31978628,  0.31542382,\n",
       "        0.31111211,  0.30685073,  0.30263945,  0.29847759,  0.29436499,\n",
       "        0.29030132,  0.28628597,  0.28231865,  0.27839917,  0.27452683,\n",
       "        0.27070138,  0.26692253,  0.2631897 ,  0.25950259,  0.25586087,\n",
       "        0.25226399,  0.24871165,  0.24520354,  0.24173906,  0.23831791,\n",
       "        0.23493981,  0.23160419,  0.22831067,  0.22505906,  0.22184868,\n",
       "        0.21867928,  0.21555042,  0.21246186,  0.20941298,  0.20640349,\n",
       "        0.20343307,  0.20050117,  0.19760749,  0.19475171,  0.19193329,\n",
       "        0.18915191,  0.18640728,  0.18369885,  0.18102631,  0.17838936,\n",
       "        0.17578748,  0.17322032,  0.17068763,  0.16818888,  0.16572374,\n",
       "        0.16329196,  0.16089296,  0.15852652,  0.15619229,  0.15388978,\n",
       "        0.1516187 ,  0.14937876,  0.14716947,  0.14499056,  0.1428417 ,\n",
       "        0.14072245,  0.13863251,  0.13657159,  0.13453922,  0.13253516,\n",
       "        0.13055909,  0.12861057,  0.12668931,  0.12479503,  0.1229274 ,\n",
       "        0.121086  ,  0.11927059,  0.11748087,  0.11571644,  0.11397702,\n",
       "        0.11226235,  0.11057204,  0.10890581,  0.10726341,  0.10564445,\n",
       "        0.10404867,  0.10247584,  0.10092555,  0.09939756,  0.09789165,\n",
       "        0.09640741,  0.09494463,  0.09350308,  0.09208237,  0.09068228,\n",
       "        0.08930258,  0.08794293,  0.08660308,  0.08528284,  0.08398186,\n",
       "        0.0826999 ,  0.08143677,  0.08019213,  0.07896577,  0.07775748,\n",
       "        0.07656694,  0.07539395,  0.07423832,  0.07309971,  0.07197796,\n",
       "        0.07087281,  0.06978408,  0.06871147,  0.0676548 ,  0.06661387,\n",
       "        0.06558841,  0.06457823,  0.06358314,  0.06260289,  0.06163729,\n",
       "        0.06068617,  0.05974925,  0.05882638,  0.05791739,  0.05702201,\n",
       "        0.05614009,  0.05527147,  0.0544159 ,  0.05357322,  0.05274327,\n",
       "        0.05192582,  0.05112073,  0.05032782,  0.04954689,  0.04877779,\n",
       "        0.04802036,  0.0472744 ,  0.04653975,  0.04581628,  0.04510379,\n",
       "        0.04440213,  0.04371117,  0.04303072,  0.04236063,  0.04170077,\n",
       "        0.04105099,  0.04041111,  0.03978101,  0.03916056,  0.03854959,\n",
       "        0.03794797,  0.03735558,  0.03677225,  0.03619787,  0.03563232,\n",
       "        0.03507543,  0.0345271 ,  0.03398721,  0.0334556 ,  0.03293218,\n",
       "        0.03241682,  0.03190939,  0.03140978,  0.03091788,  0.03043356,\n",
       "        0.02995671,  0.02948724,  0.029025  ,  0.02856991,  0.02812186,\n",
       "        0.02768073,  0.02724643,  0.02681887,  0.02639791,  0.02598347,\n",
       "        0.02557547,  0.02517379,  0.02477833,  0.02438903,  0.02400575,\n",
       "        0.02362843,  0.02325697,  0.0228913 ,  0.0225313 ,  0.02217689,\n",
       "        0.02182801,  0.02148456,  0.02114644,  0.02081361,  0.02048595,\n",
       "        0.02016339,  0.01984588,  0.0195333 ,  0.01922561,  0.01892272,\n",
       "        0.01862455,  0.01833104,  0.01804212,  0.0177577 ,  0.01747773,\n",
       "        0.01720214,  0.01693085,  0.01666381,  0.01640095,  0.0161422 ,\n",
       "        0.01588749,  0.01563679,  0.01539   ,  0.01514707,  0.01490796,\n",
       "        0.01467259,  0.01444091,  0.01421286,  0.01398839,  0.01376744,\n",
       "        0.01354996,  0.01333589,  0.01312517,  0.01291777,  0.01271363,\n",
       "        0.01251268,  0.0123149 ,  0.01212022,  0.0119286 ,  0.01174   ,\n",
       "        0.01155436,  0.01137163,  0.01119178,  0.01101477,  0.01084053,\n",
       "        0.01066903,  0.01050024,  0.0103341 ,  0.01017058,  0.01000963,\n",
       "        0.00985122,  0.0096953 ,  0.00954184,  0.00939079,  0.00924212,\n",
       "        0.0090958 ,  0.00895179,  0.00881004,  0.00867053,  0.00853322,\n",
       "        0.00839807,  0.00826506,  0.00813414,  0.00800529,  0.00787847,\n",
       "        0.00775366,  0.00763081,  0.0075099 ,  0.0073909 ,  0.00727378,\n",
       "        0.00715851,  0.00704506,  0.0069334 ,  0.00682351,  0.00671535], dtype=float32)"
      ]
     },
     "execution_count": 38,
     "metadata": {},
     "output_type": "execute_result"
    }
   ],
   "source": [
    "xentropy_sigmoid_y_out"
   ]
  },
  {
   "cell_type": "markdown",
   "metadata": {},
   "source": [
    "#### Weighted cross entropy loss\n",
    "- A weighted version of the sigmoid cross entropy loss.\n",
    "- We provide a weight on the positive target.\n"
   ]
  },
  {
   "cell_type": "code",
   "execution_count": 39,
   "metadata": {
    "collapsed": true
   },
   "outputs": [],
   "source": [
    "weight = tf.constant(0.5)\n",
    "xentropy_weighted_y_vals = tf.nn.weighted_cross_entropy_with_logits(x_vals, targets, weight)\n",
    "xentropy_weighted_y_out = sess.run(xentropy_weighted_y_vals)\n"
   ]
  },
  {
   "cell_type": "markdown",
   "metadata": {},
   "source": [
    "#### Softmax cross entropy loss\n",
    "- Operates on non-normalized outputs.\n",
    "- Used to measure a loss when there is only one target category instead of multiple.\n",
    "- Because of this, the function transforms the outputs into a probability distribution via the softmax function and then computes the loss function fom a true probability distribution."
   ]
  },
  {
   "cell_type": "code",
   "execution_count": 40,
   "metadata": {
    "collapsed": true
   },
   "outputs": [],
   "source": [
    "unscaled_logits = tf.constant([[1., -3., 10.]])\n",
    "target_dist = tf.constant([[0.1, 0.02, 0.88]])\n",
    "softmax_xentropy = tf.nn.softmax_cross_entropy_with_logits(logits=unscaled_logits, labels=target_dist)"
   ]
  },
  {
   "cell_type": "code",
   "execution_count": 41,
   "metadata": {},
   "outputs": [
    {
     "data": {
      "text/plain": [
       "array([ 1.16012561], dtype=float32)"
      ]
     },
     "execution_count": 41,
     "metadata": {},
     "output_type": "execute_result"
    }
   ],
   "source": [
    "sess.run(softmax_xentropy)"
   ]
  },
  {
   "cell_type": "markdown",
   "metadata": {},
   "source": [
    "#### Sparse softmax cross-entropy loss\n",
    "- The same as softmax cross entropy loss except instead of the target being a probability distribution, it is an index of which category is true.\n",
    "- Instead of a sparse all-zero target vector with one value of one, we just pass in the index of which category is the true value, as follows:\n"
   ]
  },
  {
   "cell_type": "code",
   "execution_count": 42,
   "metadata": {
    "collapsed": true
   },
   "outputs": [],
   "source": [
    "unscaled_logits = tf.constant([[1., -3., 10.]])\n",
    "sparse_target_dist = tf.constant([2])\n",
    "sparse_xentropy = tf.nn.sparse_softmax_cross_entropy_with_logits(logits=unscaled_logits, \n",
    "                                                                 labels= sparse_target_dist)"
   ]
  },
  {
   "cell_type": "code",
   "execution_count": 43,
   "metadata": {},
   "outputs": [
    {
     "data": {
      "text/plain": [
       "array([ 0.00012564], dtype=float32)"
      ]
     },
     "execution_count": 43,
     "metadata": {},
     "output_type": "execute_result"
    }
   ],
   "source": [
    "sess.run(sparse_xentropy)"
   ]
  },
  {
   "cell_type": "code",
   "execution_count": 44,
   "metadata": {},
   "outputs": [
    {
     "data": {
      "image/png": "[encoded data removed]",
      "text/plain": [
       "<matplotlib.figure.Figure at 0x7f1d20e7c9b0>"
      ]
     },
     "metadata": {},
     "output_type": "display_data"
    }
   ],
   "source": [
    "x_array = sess.run(x_vals)\n",
    "plt.plot(x_array, hinge_y_out, 'b-', label='Hinge Loss')\n",
    "plt.plot(x_array, xentropy_y_out, 'r--', label='Cross Entropy Loss')\n",
    "plt.plot(x_array, xentropy_sigmoid_y_out, 'k-.', label='Cross Entropy Sigmoid Loss')\n",
    "plt.plot(x_array, xentropy_weighted_y_out, 'g:', label='Weighted Cross Enropy Loss (x0.5)')\n",
    "plt.ylim(-1.5, 3)\n",
    "plt.legend(loc='lower right', prop={'size': 11})\n",
    "plt.title('Various Classification loss functions')\n",
    "plt.show()\n"
   ]
  },
  {
   "cell_type": "markdown",
   "metadata": {},
   "source": [
    "### Summary Table\n"
   ]
  },
  {
   "cell_type": "markdown",
   "metadata": {},
   "source": [
    "| Loss function | Use            | Benefits                            | Disadvantages                           |\n",
    "|---------------|----------------|-------------------------------------|-----------------------------------------|\n",
    "| L2            | Regression     | More stable                         | Less robust                             |\n",
    "| L1            | Regression     | More robust                         | Less stable                             |\n",
    "| Pseudo-Huber  | Regression     | More robust and stable              | One more parameter                      |\n",
    "| Hinge         | Classification | Creates a max margin for use in SVM | Unbounded loss and affected by outliers |\n",
    "| Cross-entropy | Classification | More stable                         | Unbounded loss, less robust             |"
   ]
  },
  {
   "cell_type": "markdown",
   "metadata": {},
   "source": [
    "### Other metrics to look at when evaluating a model."
   ]
  },
  {
   "cell_type": "markdown",
   "metadata": {},
   "source": [
    "![Imgur](https://i.imgur.com/elwwT3o.png)"
   ]
  },
  {
   "cell_type": "markdown",
   "metadata": {},
   "source": [
    "## Implementing Back Propagation"
   ]
  },
  {
   "cell_type": "markdown",
   "metadata": {},
   "source": [
    "- One of the benefits of using TensorFlow, is that it can keep track of operations and automatically update model variables based on back propagation."
   ]
  },
  {
   "cell_type": "markdown",
   "metadata": {},
   "source": [
    "### Regression Example"
   ]
  },
  {
   "cell_type": "code",
   "execution_count": 45,
   "metadata": {
    "collapsed": true
   },
   "outputs": [],
   "source": [
    "x_vals = np.random.normal(1, 0.1, 100)\n",
    "y_vals = np.repeat(10., 100)"
   ]
  },
  {
   "cell_type": "code",
   "execution_count": 46,
   "metadata": {},
   "outputs": [
    {
     "data": {
      "text/plain": [
       "<tf.Tensor 'Placeholder_3:0' shape=(1,) dtype=float32>"
      ]
     },
     "execution_count": 46,
     "metadata": {},
     "output_type": "execute_result"
    }
   ],
   "source": [
    "x_data = tf.placeholder(shape=[1], dtype=tf.float32)\n",
    "x_data"
   ]
  },
  {
   "cell_type": "code",
   "execution_count": 47,
   "metadata": {
    "collapsed": true
   },
   "outputs": [],
   "source": [
    "y_target = tf.placeholder(shape=[1], dtype=tf.float32)\n",
    "A = tf.Variable(tf.random_normal(shape=[1]))"
   ]
  },
  {
   "cell_type": "markdown",
   "metadata": {},
   "source": [
    "- Add the multiplication operation to our graph\n"
   ]
  },
  {
   "cell_type": "code",
   "execution_count": 48,
   "metadata": {
    "collapsed": true
   },
   "outputs": [],
   "source": [
    "my_output = tf.multiply(x_data, A)"
   ]
  },
  {
   "cell_type": "markdown",
   "metadata": {},
   "source": [
    "- Add our L2 loss function between the multiplication output and the target data\n"
   ]
  },
  {
   "cell_type": "code",
   "execution_count": 49,
   "metadata": {
    "collapsed": true
   },
   "outputs": [],
   "source": [
    "loss = tf.square(my_output - y_target)"
   ]
  },
  {
   "cell_type": "markdown",
   "metadata": {},
   "source": [
    "- Initialize the variables"
   ]
  },
  {
   "cell_type": "code",
   "execution_count": 50,
   "metadata": {
    "collapsed": true
   },
   "outputs": [],
   "source": [
    "init = tf.global_variables_initializer()\n",
    "sess.run(init)"
   ]
  },
  {
   "cell_type": "markdown",
   "metadata": {},
   "source": [
    "- Optimizer"
   ]
  },
  {
   "cell_type": "code",
   "execution_count": 51,
   "metadata": {
    "collapsed": true
   },
   "outputs": [],
   "source": [
    "my_opt = tf.train.GradientDescentOptimizer(learning_rate=0.02)\n",
    "train_step = my_opt.minimize(loss)"
   ]
  },
  {
   "cell_type": "markdown",
   "metadata": {},
   "source": [
    "- Training time"
   ]
  },
  {
   "cell_type": "code",
   "execution_count": 52,
   "metadata": {},
   "outputs": [
    {
     "name": "stdout",
     "output_type": "stream",
     "text": [
      "Step --> 25 A = [ 6.21352482]\n",
      "Loss = [ 12.78198433]\n",
      "Step --> 50 A = [ 8.6587944]\n",
      "Loss = [ 0.58683169]\n",
      "Step --> 75 A = [ 9.68010044]\n",
      "Loss = [ 1.94314039]\n",
      "Step --> 100 A = [ 10.04082775]\n",
      "Loss = [ 0.77574021]\n"
     ]
    }
   ],
   "source": [
    "for i in range(100):\n",
    "    rand_index = np.random.choice(100)\n",
    "    rand_x = [x_vals[rand_index]]\n",
    "    rand_y = [y_vals[rand_index]]\n",
    "    sess.run(train_step, feed_dict={x_data: rand_x, y_target: rand_y})\n",
    "    \n",
    "    if (i + 1) % 25 == 0:\n",
    "        print('Step --> '+ str(i+1) + ' A = ' + str(sess.run(A)))\n",
    "        print('Loss = ' + str(sess.run(loss, feed_dict={x_data: rand_x, y_target: rand_y})))\n",
    "        \n",
    "    \n",
    "    "
   ]
  },
  {
   "cell_type": "markdown",
   "metadata": {},
   "source": [
    "### Classification example"
   ]
  },
  {
   "cell_type": "code",
   "execution_count": 53,
   "metadata": {
    "collapsed": true
   },
   "outputs": [],
   "source": [
    "# reset the graph\n",
    "ops.reset_default_graph()\n",
    "sess = tf.Session()"
   ]
  },
  {
   "cell_type": "code",
   "execution_count": 54,
   "metadata": {
    "collapsed": true
   },
   "outputs": [],
   "source": [
    "# Generate Random data\n",
    "\n",
    "x_vals = np.concatenate((np.random.normal(-1, 1, 50), np.random.normal(3, 1, 50)))\n",
    "y_vals = np.concatenate((np.repeat(0., 50), np.repeat(1., 50)))\n",
    "x_data = tf.placeholder(shape=[1], dtype=tf.float32)\n",
    "y_target = tf.placeholder(shape=[1], dtype=tf.float32)\n",
    "A = tf.Variable(tf.random_normal(mean=10, shape=[1]))"
   ]
  },
  {
   "cell_type": "markdown",
   "metadata": {},
   "source": [
    "-  Next we add the translation operation to the graph. Remember that we do not have to\n",
    "wrap this in a sigmoid function because the loss function will do that for us:\n",
    " "
   ]
  },
  {
   "cell_type": "code",
   "execution_count": 55,
   "metadata": {},
   "outputs": [
    {
     "data": {
      "text/plain": [
       "<tf.Tensor 'Add:0' shape=(1,) dtype=float32>"
      ]
     },
     "execution_count": 55,
     "metadata": {},
     "output_type": "execute_result"
    }
   ],
   "source": [
    "my_output = tf.add(x_data, A)\n",
    "my_output"
   ]
  },
  {
   "cell_type": "markdown",
   "metadata": {},
   "source": [
    "- Because the specific loss function expects batches of data that have an extra\n",
    "dimension associated with them (an added dimension which is the batch number),\n",
    "we will add an extra dimension to the output with the function, expand_dims() "
   ]
  },
  {
   "cell_type": "code",
   "execution_count": 56,
   "metadata": {},
   "outputs": [
    {
     "data": {
      "text/plain": [
       "<tf.Tensor 'ExpandDims:0' shape=(1, 1) dtype=float32>"
      ]
     },
     "execution_count": 56,
     "metadata": {},
     "output_type": "execute_result"
    }
   ],
   "source": [
    "my_output_expanded = tf.expand_dims(my_output, 0)\n",
    "y_target_expanded = tf.expand_dims(y_target, 0)\n",
    "my_output_expanded"
   ]
  },
  {
   "cell_type": "markdown",
   "metadata": {},
   "source": [
    "- Initialize one variable, A\n"
   ]
  },
  {
   "cell_type": "code",
   "execution_count": 57,
   "metadata": {
    "collapsed": true
   },
   "outputs": [],
   "source": [
    "init = tf.global_variables_initializer()\n",
    "sess.run(init)"
   ]
  },
  {
   "cell_type": "markdown",
   "metadata": {},
   "source": [
    "- Now we declare our loss function. We will use a cross entropy with unscaled logits that transforms them with a sigmoid function. TensorFlow has this all in one function for us in the neural network package called nn.sigmoid_cross_entropy_with_logits(). As stated before, it expects the arguments to have specific dimensions, so we have to use the expanded outputs and targets accordingly:\n"
   ]
  },
  {
   "cell_type": "code",
   "execution_count": 58,
   "metadata": {
    "collapsed": true
   },
   "outputs": [],
   "source": [
    "xentropy = tf.nn.sigmoid_cross_entropy_with_logits(logits=my_output_expanded, labels=y_target_expanded)\n"
   ]
  },
  {
   "cell_type": "markdown",
   "metadata": {},
   "source": [
    "- Optimizer function"
   ]
  },
  {
   "cell_type": "code",
   "execution_count": 59,
   "metadata": {
    "collapsed": true
   },
   "outputs": [],
   "source": [
    "my_opt = tf.train.GradientDescentOptimizer(0.05)\n",
    "train_step = my_opt.minimize(xentropy)\n"
   ]
  },
  {
   "cell_type": "code",
   "execution_count": 60,
   "metadata": {},
   "outputs": [
    {
     "name": "stdout",
     "output_type": "stream",
     "text": [
      "Step --> 200 A = [ 5.95017815]\n",
      "Loss = [[ 6.07883835]]\n",
      "Step --> 400 A = [ 1.65838075]\n",
      "Loss = [[ 1.14016938]]\n",
      "Step --> 600 A = [-0.33721399]\n",
      "Loss = [[ 0.02257414]]\n",
      "Step --> 800 A = [-0.97178632]\n",
      "Loss = [[ 0.23484898]]\n",
      "Step --> 1000 A = [-1.06194758]\n",
      "Loss = [[ 0.04799065]]\n"
     ]
    }
   ],
   "source": [
    "for i in range(1000):\n",
    "    rand_index = np.random.choice(100)\n",
    "    rand_x = [x_vals[rand_index]]\n",
    "    rand_y = [y_vals[rand_index]]\n",
    "    sess.run(train_step, feed_dict={x_data: rand_x, y_target: rand_y})\n",
    "    \n",
    "    if (i + 1) % 200 == 0:\n",
    "        print('Step --> '+ str(i+1) + ' A = ' + str(sess.run(A)))\n",
    "        print('Loss = ' + str(sess.run(xentropy, feed_dict={x_data: rand_x, y_target: rand_y})))\n",
    "        \n",
    "    "
   ]
  },
  {
   "cell_type": "markdown",
   "metadata": {
    "collapsed": true
   },
   "source": [
    "- Sometimes the standard gradient descent algorithm can get stuck or slow down significantly. This can happen when the optimization is stuck in the flat spot of a saddle. To combat this, there is another algorithm that takes into account a momentum term, which adds on a fraction of the prior step's gradient descent value. TensorFlow has this built in with the **```MomentumOptimizer()```** function.\n",
    "\n",
    "- Another variant is to vary the optimizer step for each variable in our models. Ideally, we would like to take larger steps for smaller moving variables and shorter steps for faster changing variables. A common implementation of this idea is called the Adagrad algorithm. This algorithm takes into account the whole history of the variable gradients. Again, the function in TensorFlow for this is called **```AdagradOptimizer()```**.\n",
    "\n",
    "- Sometimes, Adagrad forces the gradients to zero too soon because it takes into account the whole history. A solution to this is to limit how many steps we use. Doing this is called the Adadelta algorithm. We can apply this by using the function **```AdadeltaOptimizer()```**.\n"
   ]
  },
  {
   "cell_type": "markdown",
   "metadata": {},
   "source": [
    "## Working with Batch and Stochastic Training"
   ]
  },
  {
   "cell_type": "markdown",
   "metadata": {},
   "source": [
    "While TensorFlow updates our model variables according to the prior described back\n",
    "propagation, it can operate on anywhere from one datum observation to a large group of data\n",
    "at once. Operating on one training example can make for a very erratic learning process, while\n",
    "using a too large batch can be computationally expensive. Choosing the right type of training\n",
    "is crucial to getting our machine learning algorithms to converge to a solution.\n"
   ]
  },
  {
   "cell_type": "code",
   "execution_count": 61,
   "metadata": {
    "collapsed": true
   },
   "outputs": [],
   "source": [
    "# reset the graph\n",
    "ops.reset_default_graph()\n",
    "sess = tf.Session()"
   ]
  },
  {
   "cell_type": "markdown",
   "metadata": {},
   "source": [
    "- Declaring batch size"
   ]
  },
  {
   "cell_type": "code",
   "execution_count": 62,
   "metadata": {
    "collapsed": true
   },
   "outputs": [],
   "source": [
    "batch_size = 20"
   ]
  },
  {
   "cell_type": "markdown",
   "metadata": {},
   "source": [
    "- Generate Data"
   ]
  },
  {
   "cell_type": "code",
   "execution_count": 63,
   "metadata": {
    "collapsed": true
   },
   "outputs": [],
   "source": [
    "x_vals = np.random.normal(1, 0.1, 100)\n",
    "y_vals = np.repeat(10., 100)\n",
    "x_data = tf.placeholder(shape=[None, 1], dtype=tf.float32)\n",
    "y_target = tf.placeholder(shape=[None, 1], dtype=tf.float32)\n",
    "A = tf.Variable(tf.random_normal(shape=[1,1]))\n"
   ]
  },
  {
   "cell_type": "markdown",
   "metadata": {},
   "source": [
    "- Add our operation to the graph"
   ]
  },
  {
   "cell_type": "code",
   "execution_count": 64,
   "metadata": {
    "collapsed": true
   },
   "outputs": [],
   "source": [
    "my_output = tf.matmul(x_data, A)"
   ]
  },
  {
   "cell_type": "markdown",
   "metadata": {},
   "source": [
    "- Our loss function will change because we have to take the mean of all the L2 losses\n",
    "of each data point in the batch. We do this by wrapping our prior loss output in\n",
    "TensorFlow's ```reduce_mean()``` function:\n"
   ]
  },
  {
   "cell_type": "code",
   "execution_count": 65,
   "metadata": {
    "collapsed": true
   },
   "outputs": [],
   "source": [
    "loss = tf.reduce_mean(tf.square(my_output - y_target))"
   ]
  },
  {
   "cell_type": "markdown",
   "metadata": {},
   "source": [
    "- Declare the optimizer"
   ]
  },
  {
   "cell_type": "code",
   "execution_count": 66,
   "metadata": {
    "collapsed": true
   },
   "outputs": [],
   "source": [
    "my_opt = tf.train.GradientDescentOptimizer(0.02)\n",
    "train_step = my_opt.minimize(loss)"
   ]
  },
  {
   "cell_type": "markdown",
   "metadata": {},
   "source": [
    "- Finally, we will loop through and iterate on the training step to optimize the algorithm.\n",
    "This part is different than before because we want to be able to plot the loss over\n",
    "versus stochastic training convergence. So we initialize a list to store the loss\n",
    "function every five intervals:\n"
   ]
  },
  {
   "cell_type": "code",
   "execution_count": 67,
   "metadata": {
    "collapsed": true
   },
   "outputs": [],
   "source": [
    "init = tf.global_variables_initializer()\n",
    "sess.run(init)"
   ]
  },
  {
   "cell_type": "code",
   "execution_count": 68,
   "metadata": {},
   "outputs": [
    {
     "name": "stdout",
     "output_type": "stream",
     "text": [
      "Step --> 5 A = [[ 0.81633216]]\n",
      "Loss = 84.4354\n",
      "Step --> 10 A = [[ 2.51033759]]\n",
      "Loss = 55.7795\n",
      "Step --> 15 A = [[ 3.90540886]]\n",
      "Loss = 36.6925\n",
      "Step --> 20 A = [[ 5.02441597]]\n",
      "Loss = 24.2117\n",
      "Step --> 25 A = [[ 5.92924786]]\n",
      "Loss = 16.6343\n",
      "Step --> 30 A = [[ 6.67327023]]\n",
      "Loss = 11.3597\n",
      "Step --> 35 A = [[ 7.28249741]]\n",
      "Loss = 7.6556\n",
      "Step --> 40 A = [[ 7.77232552]]\n",
      "Loss = 5.67435\n",
      "Step --> 45 A = [[ 8.15593052]]\n",
      "Loss = 4.16335\n",
      "Step --> 50 A = [[ 8.45336723]]\n",
      "Loss = 2.82213\n",
      "Step --> 55 A = [[ 8.71351147]]\n",
      "Loss = 2.42621\n",
      "Step --> 60 A = [[ 8.94800377]]\n",
      "Loss = 2.31212\n",
      "Step --> 65 A = [[ 9.13451481]]\n",
      "Loss = 1.41778\n",
      "Step --> 70 A = [[ 9.26146984]]\n",
      "Loss = 0.900744\n",
      "Step --> 75 A = [[ 9.36030102]]\n",
      "Loss = 0.937196\n",
      "Step --> 80 A = [[ 9.48513126]]\n",
      "Loss = 0.987481\n",
      "Step --> 85 A = [[ 9.56272697]]\n",
      "Loss = 0.703452\n",
      "Step --> 90 A = [[ 9.59532738]]\n",
      "Loss = 0.540752\n",
      "Step --> 95 A = [[ 9.6350565]]\n",
      "Loss = 0.780592\n",
      "Step --> 100 A = [[ 9.6551218]]\n",
      "Loss = 0.930315\n"
     ]
    }
   ],
   "source": [
    "loss_batch = []\n",
    "for i in range(100):\n",
    "    rand_index = np.random.choice(100, size=batch_size)\n",
    "    rand_x = np.transpose([x_vals[rand_index]])\n",
    "    rand_y = np.transpose([y_vals[rand_index]])\n",
    "    \n",
    "    sess.run(train_step, feed_dict={x_data: rand_x, y_target: rand_y})\n",
    "    \n",
    "    if (i + 1) % 5 == 0:\n",
    "        print('Step --> '+ str(i+1) + ' A = ' + str(sess.run(A)))\n",
    "        temp_loss = sess.run(loss, feed_dict={x_data: rand_x, y_target: rand_y})\n",
    "        print('Loss = ' + str(temp_loss))\n",
    "        loss_batch.append(temp_loss)\n",
    "        \n",
    "    "
   ]
  },
  {
   "cell_type": "code",
   "execution_count": 72,
   "metadata": {
    "collapsed": true
   },
   "outputs": [],
   "source": [
    "x_data = tf.placeholder(shape=[1], dtype=tf.float32)\n",
    "y_target = tf.placeholder(shape=[1], dtype=tf.float32)\n",
    "init = tf.global_variables_initializer()\n",
    "sess.run(init)"
   ]
  },
  {
   "cell_type": "code",
   "execution_count": 73,
   "metadata": {},
   "outputs": [
    {
     "ename": "InvalidArgumentError",
     "evalue": "You must feed a value for placeholder tensor 'Placeholder_1' with dtype float and shape [?,1]\n\t [[Node: Placeholder_1 = Placeholder[dtype=DT_FLOAT, shape=[?,1], _device=\"/job:localhost/replica:0/task:0/cpu:0\"]()]]\n\nCaused by op 'Placeholder_1', defined at:\n  File \"/home/abanihi/anaconda3/envs/dl/lib/python3.6/runpy.py\", line 193, in _run_module_as_main\n    \"__main__\", mod_spec)\n  File \"/home/abanihi/anaconda3/envs/dl/lib/python3.6/runpy.py\", line 85, in _run_code\n    exec(code, run_globals)\n  File \"/home/abanihi/anaconda3/envs/dl/lib/python3.6/site-packages/ipykernel_launcher.py\", line 16, in <module>\n    app.launch_new_instance()\n  File \"/home/abanihi/anaconda3/envs/dl/lib/python3.6/site-packages/traitlets/config/application.py\", line 658, in launch_instance\n    app.start()\n  File \"/home/abanihi/anaconda3/envs/dl/lib/python3.6/site-packages/ipykernel/kernelapp.py\", line 477, in start\n    ioloop.IOLoop.instance().start()\n  File \"/home/abanihi/anaconda3/envs/dl/lib/python3.6/site-packages/zmq/eventloop/ioloop.py\", line 177, in start\n    super(ZMQIOLoop, self).start()\n  File \"/home/abanihi/anaconda3/envs/dl/lib/python3.6/site-packages/tornado/ioloop.py\", line 888, in start\n    handler_func(fd_obj, events)\n  File \"/home/abanihi/anaconda3/envs/dl/lib/python3.6/site-packages/tornado/stack_context.py\", line 277, in null_wrapper\n    return fn(*args, **kwargs)\n  File \"/home/abanihi/anaconda3/envs/dl/lib/python3.6/site-packages/zmq/eventloop/zmqstream.py\", line 440, in _handle_events\n    self._handle_recv()\n  File \"/home/abanihi/anaconda3/envs/dl/lib/python3.6/site-packages/zmq/eventloop/zmqstream.py\", line 472, in _handle_recv\n    self._run_callback(callback, msg)\n  File \"/home/abanihi/anaconda3/envs/dl/lib/python3.6/site-packages/zmq/eventloop/zmqstream.py\", line 414, in _run_callback\n    callback(*args, **kwargs)\n  File \"/home/abanihi/anaconda3/envs/dl/lib/python3.6/site-packages/tornado/stack_context.py\", line 277, in null_wrapper\n    return fn(*args, **kwargs)\n  File \"/home/abanihi/anaconda3/envs/dl/lib/python3.6/site-packages/ipykernel/kernelbase.py\", line 283, in dispatcher\n    return self.dispatch_shell(stream, msg)\n  File \"/home/abanihi/anaconda3/envs/dl/lib/python3.6/site-packages/ipykernel/kernelbase.py\", line 235, in dispatch_shell\n    handler(stream, idents, msg)\n  File \"/home/abanihi/anaconda3/envs/dl/lib/python3.6/site-packages/ipykernel/kernelbase.py\", line 399, in execute_request\n    user_expressions, allow_stdin)\n  File \"/home/abanihi/anaconda3/envs/dl/lib/python3.6/site-packages/ipykernel/ipkernel.py\", line 196, in do_execute\n    res = shell.run_cell(code, store_history=store_history, silent=silent)\n  File \"/home/abanihi/anaconda3/envs/dl/lib/python3.6/site-packages/ipykernel/zmqshell.py\", line 533, in run_cell\n    return super(ZMQInteractiveShell, self).run_cell(*args, **kwargs)\n  File \"/home/abanihi/anaconda3/envs/dl/lib/python3.6/site-packages/IPython/core/interactiveshell.py\", line 2698, in run_cell\n    interactivity=interactivity, compiler=compiler, result=result)\n  File \"/home/abanihi/anaconda3/envs/dl/lib/python3.6/site-packages/IPython/core/interactiveshell.py\", line 2802, in run_ast_nodes\n    if self.run_code(code, result):\n  File \"/home/abanihi/anaconda3/envs/dl/lib/python3.6/site-packages/IPython/core/interactiveshell.py\", line 2862, in run_code\n    exec(code_obj, self.user_global_ns, self.user_ns)\n  File \"<ipython-input-63-c07d8a5da95f>\", line 4, in <module>\n    y_target = tf.placeholder(shape=[None, 1], dtype=tf.float32)\n  File \"/home/abanihi/anaconda3/envs/dl/lib/python3.6/site-packages/tensorflow/python/ops/array_ops.py\", line 1548, in placeholder\n    return gen_array_ops._placeholder(dtype=dtype, shape=shape, name=name)\n  File \"/home/abanihi/anaconda3/envs/dl/lib/python3.6/site-packages/tensorflow/python/ops/gen_array_ops.py\", line 2094, in _placeholder\n    name=name)\n  File \"/home/abanihi/anaconda3/envs/dl/lib/python3.6/site-packages/tensorflow/python/framework/op_def_library.py\", line 767, in apply_op\n    op_def=op_def)\n  File \"/home/abanihi/anaconda3/envs/dl/lib/python3.6/site-packages/tensorflow/python/framework/ops.py\", line 2630, in create_op\n    original_op=self._default_original_op, op_def=op_def)\n  File \"/home/abanihi/anaconda3/envs/dl/lib/python3.6/site-packages/tensorflow/python/framework/ops.py\", line 1204, in __init__\n    self._traceback = self._graph._extract_stack()  # pylint: disable=protected-access\n\nInvalidArgumentError (see above for traceback): You must feed a value for placeholder tensor 'Placeholder_1' with dtype float and shape [?,1]\n\t [[Node: Placeholder_1 = Placeholder[dtype=DT_FLOAT, shape=[?,1], _device=\"/job:localhost/replica:0/task:0/cpu:0\"]()]]\n",
     "output_type": "error",
     "traceback": [
      "\u001b[0;31m---------------------------------------------------------------------------\u001b[0m",
      "\u001b[0;31mInvalidArgumentError\u001b[0m                      Traceback (most recent call last)",
      "\u001b[0;32m~/anaconda3/envs/dl/lib/python3.6/site-packages/tensorflow/python/client/session.py\u001b[0m in \u001b[0;36m_do_call\u001b[0;34m(self, fn, *args)\u001b[0m\n\u001b[1;32m   1326\u001b[0m     \u001b[0;32mtry\u001b[0m\u001b[0;34m:\u001b[0m\u001b[0;34m\u001b[0m\u001b[0m\n\u001b[0;32m-> 1327\u001b[0;31m       \u001b[0;32mreturn\u001b[0m \u001b[0mfn\u001b[0m\u001b[0;34m(\u001b[0m\u001b[0;34m*\u001b[0m\u001b[0margs\u001b[0m\u001b[0;34m)\u001b[0m\u001b[0;34m\u001b[0m\u001b[0m\n\u001b[0m\u001b[1;32m   1328\u001b[0m     \u001b[0;32mexcept\u001b[0m \u001b[0merrors\u001b[0m\u001b[0;34m.\u001b[0m\u001b[0mOpError\u001b[0m \u001b[0;32mas\u001b[0m \u001b[0me\u001b[0m\u001b[0;34m:\u001b[0m\u001b[0;34m\u001b[0m\u001b[0m\n",
      "\u001b[0;32m~/anaconda3/envs/dl/lib/python3.6/site-packages/tensorflow/python/client/session.py\u001b[0m in \u001b[0;36m_run_fn\u001b[0;34m(session, feed_dict, fetch_list, target_list, options, run_metadata)\u001b[0m\n\u001b[1;32m   1305\u001b[0m                                    \u001b[0mfeed_dict\u001b[0m\u001b[0;34m,\u001b[0m \u001b[0mfetch_list\u001b[0m\u001b[0;34m,\u001b[0m \u001b[0mtarget_list\u001b[0m\u001b[0;34m,\u001b[0m\u001b[0;34m\u001b[0m\u001b[0m\n\u001b[0;32m-> 1306\u001b[0;31m                                    status, run_metadata)\n\u001b[0m\u001b[1;32m   1307\u001b[0m \u001b[0;34m\u001b[0m\u001b[0m\n",
      "\u001b[0;32m~/anaconda3/envs/dl/lib/python3.6/contextlib.py\u001b[0m in \u001b[0;36m__exit__\u001b[0;34m(self, type, value, traceback)\u001b[0m\n\u001b[1;32m     87\u001b[0m             \u001b[0;32mtry\u001b[0m\u001b[0;34m:\u001b[0m\u001b[0;34m\u001b[0m\u001b[0m\n\u001b[0;32m---> 88\u001b[0;31m                 \u001b[0mnext\u001b[0m\u001b[0;34m(\u001b[0m\u001b[0mself\u001b[0m\u001b[0;34m.\u001b[0m\u001b[0mgen\u001b[0m\u001b[0;34m)\u001b[0m\u001b[0;34m\u001b[0m\u001b[0m\n\u001b[0m\u001b[1;32m     89\u001b[0m             \u001b[0;32mexcept\u001b[0m \u001b[0mStopIteration\u001b[0m\u001b[0;34m:\u001b[0m\u001b[0;34m\u001b[0m\u001b[0m\n",
      "\u001b[0;32m~/anaconda3/envs/dl/lib/python3.6/site-packages/tensorflow/python/framework/errors_impl.py\u001b[0m in \u001b[0;36mraise_exception_on_not_ok_status\u001b[0;34m()\u001b[0m\n\u001b[1;32m    465\u001b[0m           \u001b[0mcompat\u001b[0m\u001b[0;34m.\u001b[0m\u001b[0mas_text\u001b[0m\u001b[0;34m(\u001b[0m\u001b[0mpywrap_tensorflow\u001b[0m\u001b[0;34m.\u001b[0m\u001b[0mTF_Message\u001b[0m\u001b[0;34m(\u001b[0m\u001b[0mstatus\u001b[0m\u001b[0;34m)\u001b[0m\u001b[0;34m)\u001b[0m\u001b[0;34m,\u001b[0m\u001b[0;34m\u001b[0m\u001b[0m\n\u001b[0;32m--> 466\u001b[0;31m           pywrap_tensorflow.TF_GetCode(status))\n\u001b[0m\u001b[1;32m    467\u001b[0m   \u001b[0;32mfinally\u001b[0m\u001b[0;34m:\u001b[0m\u001b[0;34m\u001b[0m\u001b[0m\n",
      "\u001b[0;31mInvalidArgumentError\u001b[0m: You must feed a value for placeholder tensor 'Placeholder_1' with dtype float and shape [?,1]\n\t [[Node: Placeholder_1 = Placeholder[dtype=DT_FLOAT, shape=[?,1], _device=\"/job:localhost/replica:0/task:0/cpu:0\"]()]]",
      "\nDuring handling of the above exception, another exception occurred:\n",
      "\u001b[0;31mInvalidArgumentError\u001b[0m                      Traceback (most recent call last)",
      "\u001b[0;32m<ipython-input-73-aa2ad34a9cfa>\u001b[0m in \u001b[0;36m<module>\u001b[0;34m()\u001b[0m\n\u001b[1;32m      5\u001b[0m     \u001b[0mrand_y\u001b[0m \u001b[0;34m=\u001b[0m \u001b[0;34m[\u001b[0m\u001b[0my_vals\u001b[0m\u001b[0;34m[\u001b[0m\u001b[0mrand_index\u001b[0m\u001b[0;34m]\u001b[0m\u001b[0;34m]\u001b[0m\u001b[0;34m\u001b[0m\u001b[0m\n\u001b[1;32m      6\u001b[0m \u001b[0;34m\u001b[0m\u001b[0m\n\u001b[0;32m----> 7\u001b[0;31m     \u001b[0msess\u001b[0m\u001b[0;34m.\u001b[0m\u001b[0mrun\u001b[0m\u001b[0;34m(\u001b[0m\u001b[0mtrain_step\u001b[0m\u001b[0;34m,\u001b[0m \u001b[0mfeed_dict\u001b[0m\u001b[0;34m=\u001b[0m\u001b[0;34m{\u001b[0m\u001b[0mx_data\u001b[0m\u001b[0;34m:\u001b[0m \u001b[0mrand_x\u001b[0m\u001b[0;34m,\u001b[0m \u001b[0my_target\u001b[0m\u001b[0;34m:\u001b[0m \u001b[0mrand_y\u001b[0m\u001b[0;34m}\u001b[0m\u001b[0;34m)\u001b[0m\u001b[0;34m\u001b[0m\u001b[0m\n\u001b[0m\u001b[1;32m      8\u001b[0m \u001b[0;34m\u001b[0m\u001b[0m\n\u001b[1;32m      9\u001b[0m     \u001b[0;32mif\u001b[0m \u001b[0;34m(\u001b[0m\u001b[0mi\u001b[0m \u001b[0;34m+\u001b[0m \u001b[0;36m1\u001b[0m\u001b[0;34m)\u001b[0m \u001b[0;34m%\u001b[0m \u001b[0;36m5\u001b[0m\u001b[0;34m==\u001b[0m \u001b[0;36m0\u001b[0m\u001b[0;34m:\u001b[0m\u001b[0;34m\u001b[0m\u001b[0m\n",
      "\u001b[0;32m~/anaconda3/envs/dl/lib/python3.6/site-packages/tensorflow/python/client/session.py\u001b[0m in \u001b[0;36mrun\u001b[0;34m(self, fetches, feed_dict, options, run_metadata)\u001b[0m\n\u001b[1;32m    893\u001b[0m     \u001b[0;32mtry\u001b[0m\u001b[0;34m:\u001b[0m\u001b[0;34m\u001b[0m\u001b[0m\n\u001b[1;32m    894\u001b[0m       result = self._run(None, fetches, feed_dict, options_ptr,\n\u001b[0;32m--> 895\u001b[0;31m                          run_metadata_ptr)\n\u001b[0m\u001b[1;32m    896\u001b[0m       \u001b[0;32mif\u001b[0m \u001b[0mrun_metadata\u001b[0m\u001b[0;34m:\u001b[0m\u001b[0;34m\u001b[0m\u001b[0m\n\u001b[1;32m    897\u001b[0m         \u001b[0mproto_data\u001b[0m \u001b[0;34m=\u001b[0m \u001b[0mtf_session\u001b[0m\u001b[0;34m.\u001b[0m\u001b[0mTF_GetBuffer\u001b[0m\u001b[0;34m(\u001b[0m\u001b[0mrun_metadata_ptr\u001b[0m\u001b[0;34m)\u001b[0m\u001b[0;34m\u001b[0m\u001b[0m\n",
      "\u001b[0;32m~/anaconda3/envs/dl/lib/python3.6/site-packages/tensorflow/python/client/session.py\u001b[0m in \u001b[0;36m_run\u001b[0;34m(self, handle, fetches, feed_dict, options, run_metadata)\u001b[0m\n\u001b[1;32m   1122\u001b[0m     \u001b[0;32mif\u001b[0m \u001b[0mfinal_fetches\u001b[0m \u001b[0;32mor\u001b[0m \u001b[0mfinal_targets\u001b[0m \u001b[0;32mor\u001b[0m \u001b[0;34m(\u001b[0m\u001b[0mhandle\u001b[0m \u001b[0;32mand\u001b[0m \u001b[0mfeed_dict_tensor\u001b[0m\u001b[0;34m)\u001b[0m\u001b[0;34m:\u001b[0m\u001b[0;34m\u001b[0m\u001b[0m\n\u001b[1;32m   1123\u001b[0m       results = self._do_run(handle, final_targets, final_fetches,\n\u001b[0;32m-> 1124\u001b[0;31m                              feed_dict_tensor, options, run_metadata)\n\u001b[0m\u001b[1;32m   1125\u001b[0m     \u001b[0;32melse\u001b[0m\u001b[0;34m:\u001b[0m\u001b[0;34m\u001b[0m\u001b[0m\n\u001b[1;32m   1126\u001b[0m       \u001b[0mresults\u001b[0m \u001b[0;34m=\u001b[0m \u001b[0;34m[\u001b[0m\u001b[0;34m]\u001b[0m\u001b[0;34m\u001b[0m\u001b[0m\n",
      "\u001b[0;32m~/anaconda3/envs/dl/lib/python3.6/site-packages/tensorflow/python/client/session.py\u001b[0m in \u001b[0;36m_do_run\u001b[0;34m(self, handle, target_list, fetch_list, feed_dict, options, run_metadata)\u001b[0m\n\u001b[1;32m   1319\u001b[0m     \u001b[0;32mif\u001b[0m \u001b[0mhandle\u001b[0m \u001b[0;32mis\u001b[0m \u001b[0;32mNone\u001b[0m\u001b[0;34m:\u001b[0m\u001b[0;34m\u001b[0m\u001b[0m\n\u001b[1;32m   1320\u001b[0m       return self._do_call(_run_fn, self._session, feeds, fetches, targets,\n\u001b[0;32m-> 1321\u001b[0;31m                            options, run_metadata)\n\u001b[0m\u001b[1;32m   1322\u001b[0m     \u001b[0;32melse\u001b[0m\u001b[0;34m:\u001b[0m\u001b[0;34m\u001b[0m\u001b[0m\n\u001b[1;32m   1323\u001b[0m       \u001b[0;32mreturn\u001b[0m \u001b[0mself\u001b[0m\u001b[0;34m.\u001b[0m\u001b[0m_do_call\u001b[0m\u001b[0;34m(\u001b[0m\u001b[0m_prun_fn\u001b[0m\u001b[0;34m,\u001b[0m \u001b[0mself\u001b[0m\u001b[0;34m.\u001b[0m\u001b[0m_session\u001b[0m\u001b[0;34m,\u001b[0m \u001b[0mhandle\u001b[0m\u001b[0;34m,\u001b[0m \u001b[0mfeeds\u001b[0m\u001b[0;34m,\u001b[0m \u001b[0mfetches\u001b[0m\u001b[0;34m)\u001b[0m\u001b[0;34m\u001b[0m\u001b[0m\n",
      "\u001b[0;32m~/anaconda3/envs/dl/lib/python3.6/site-packages/tensorflow/python/client/session.py\u001b[0m in \u001b[0;36m_do_call\u001b[0;34m(self, fn, *args)\u001b[0m\n\u001b[1;32m   1338\u001b[0m         \u001b[0;32mexcept\u001b[0m \u001b[0mKeyError\u001b[0m\u001b[0;34m:\u001b[0m\u001b[0;34m\u001b[0m\u001b[0m\n\u001b[1;32m   1339\u001b[0m           \u001b[0;32mpass\u001b[0m\u001b[0;34m\u001b[0m\u001b[0m\n\u001b[0;32m-> 1340\u001b[0;31m       \u001b[0;32mraise\u001b[0m \u001b[0mtype\u001b[0m\u001b[0;34m(\u001b[0m\u001b[0me\u001b[0m\u001b[0;34m)\u001b[0m\u001b[0;34m(\u001b[0m\u001b[0mnode_def\u001b[0m\u001b[0;34m,\u001b[0m \u001b[0mop\u001b[0m\u001b[0;34m,\u001b[0m \u001b[0mmessage\u001b[0m\u001b[0;34m)\u001b[0m\u001b[0;34m\u001b[0m\u001b[0m\n\u001b[0m\u001b[1;32m   1341\u001b[0m \u001b[0;34m\u001b[0m\u001b[0m\n\u001b[1;32m   1342\u001b[0m   \u001b[0;32mdef\u001b[0m \u001b[0m_extend_graph\u001b[0m\u001b[0;34m(\u001b[0m\u001b[0mself\u001b[0m\u001b[0;34m)\u001b[0m\u001b[0;34m:\u001b[0m\u001b[0;34m\u001b[0m\u001b[0m\n",
      "\u001b[0;31mInvalidArgumentError\u001b[0m: You must feed a value for placeholder tensor 'Placeholder_1' with dtype float and shape [?,1]\n\t [[Node: Placeholder_1 = Placeholder[dtype=DT_FLOAT, shape=[?,1], _device=\"/job:localhost/replica:0/task:0/cpu:0\"]()]]\n\nCaused by op 'Placeholder_1', defined at:\n  File \"/home/abanihi/anaconda3/envs/dl/lib/python3.6/runpy.py\", line 193, in _run_module_as_main\n    \"__main__\", mod_spec)\n  File \"/home/abanihi/anaconda3/envs/dl/lib/python3.6/runpy.py\", line 85, in _run_code\n    exec(code, run_globals)\n  File \"/home/abanihi/anaconda3/envs/dl/lib/python3.6/site-packages/ipykernel_launcher.py\", line 16, in <module>\n    app.launch_new_instance()\n  File \"/home/abanihi/anaconda3/envs/dl/lib/python3.6/site-packages/traitlets/config/application.py\", line 658, in launch_instance\n    app.start()\n  File \"/home/abanihi/anaconda3/envs/dl/lib/python3.6/site-packages/ipykernel/kernelapp.py\", line 477, in start\n    ioloop.IOLoop.instance().start()\n  File \"/home/abanihi/anaconda3/envs/dl/lib/python3.6/site-packages/zmq/eventloop/ioloop.py\", line 177, in start\n    super(ZMQIOLoop, self).start()\n  File \"/home/abanihi/anaconda3/envs/dl/lib/python3.6/site-packages/tornado/ioloop.py\", line 888, in start\n    handler_func(fd_obj, events)\n  File \"/home/abanihi/anaconda3/envs/dl/lib/python3.6/site-packages/tornado/stack_context.py\", line 277, in null_wrapper\n    return fn(*args, **kwargs)\n  File \"/home/abanihi/anaconda3/envs/dl/lib/python3.6/site-packages/zmq/eventloop/zmqstream.py\", line 440, in _handle_events\n    self._handle_recv()\n  File \"/home/abanihi/anaconda3/envs/dl/lib/python3.6/site-packages/zmq/eventloop/zmqstream.py\", line 472, in _handle_recv\n    self._run_callback(callback, msg)\n  File \"/home/abanihi/anaconda3/envs/dl/lib/python3.6/site-packages/zmq/eventloop/zmqstream.py\", line 414, in _run_callback\n    callback(*args, **kwargs)\n  File \"/home/abanihi/anaconda3/envs/dl/lib/python3.6/site-packages/tornado/stack_context.py\", line 277, in null_wrapper\n    return fn(*args, **kwargs)\n  File \"/home/abanihi/anaconda3/envs/dl/lib/python3.6/site-packages/ipykernel/kernelbase.py\", line 283, in dispatcher\n    return self.dispatch_shell(stream, msg)\n  File \"/home/abanihi/anaconda3/envs/dl/lib/python3.6/site-packages/ipykernel/kernelbase.py\", line 235, in dispatch_shell\n    handler(stream, idents, msg)\n  File \"/home/abanihi/anaconda3/envs/dl/lib/python3.6/site-packages/ipykernel/kernelbase.py\", line 399, in execute_request\n    user_expressions, allow_stdin)\n  File \"/home/abanihi/anaconda3/envs/dl/lib/python3.6/site-packages/ipykernel/ipkernel.py\", line 196, in do_execute\n    res = shell.run_cell(code, store_history=store_history, silent=silent)\n  File \"/home/abanihi/anaconda3/envs/dl/lib/python3.6/site-packages/ipykernel/zmqshell.py\", line 533, in run_cell\n    return super(ZMQInteractiveShell, self).run_cell(*args, **kwargs)\n  File \"/home/abanihi/anaconda3/envs/dl/lib/python3.6/site-packages/IPython/core/interactiveshell.py\", line 2698, in run_cell\n    interactivity=interactivity, compiler=compiler, result=result)\n  File \"/home/abanihi/anaconda3/envs/dl/lib/python3.6/site-packages/IPython/core/interactiveshell.py\", line 2802, in run_ast_nodes\n    if self.run_code(code, result):\n  File \"/home/abanihi/anaconda3/envs/dl/lib/python3.6/site-packages/IPython/core/interactiveshell.py\", line 2862, in run_code\n    exec(code_obj, self.user_global_ns, self.user_ns)\n  File \"<ipython-input-63-c07d8a5da95f>\", line 4, in <module>\n    y_target = tf.placeholder(shape=[None, 1], dtype=tf.float32)\n  File \"/home/abanihi/anaconda3/envs/dl/lib/python3.6/site-packages/tensorflow/python/ops/array_ops.py\", line 1548, in placeholder\n    return gen_array_ops._placeholder(dtype=dtype, shape=shape, name=name)\n  File \"/home/abanihi/anaconda3/envs/dl/lib/python3.6/site-packages/tensorflow/python/ops/gen_array_ops.py\", line 2094, in _placeholder\n    name=name)\n  File \"/home/abanihi/anaconda3/envs/dl/lib/python3.6/site-packages/tensorflow/python/framework/op_def_library.py\", line 767, in apply_op\n    op_def=op_def)\n  File \"/home/abanihi/anaconda3/envs/dl/lib/python3.6/site-packages/tensorflow/python/framework/ops.py\", line 2630, in create_op\n    original_op=self._default_original_op, op_def=op_def)\n  File \"/home/abanihi/anaconda3/envs/dl/lib/python3.6/site-packages/tensorflow/python/framework/ops.py\", line 1204, in __init__\n    self._traceback = self._graph._extract_stack()  # pylint: disable=protected-access\n\nInvalidArgumentError (see above for traceback): You must feed a value for placeholder tensor 'Placeholder_1' with dtype float and shape [?,1]\n\t [[Node: Placeholder_1 = Placeholder[dtype=DT_FLOAT, shape=[?,1], _device=\"/job:localhost/replica:0/task:0/cpu:0\"]()]]\n"
     ]
    }
   ],
   "source": [
    "loss_stochastic = []\n",
    "for i in range(100):\n",
    "    rand_index = np.random.choice(100)\n",
    "    rand_x = [x_vals[rand_index]]\n",
    "    rand_y = [y_vals[rand_index]]\n",
    "    \n",
    "    sess.run(train_step, feed_dict={x_data: rand_x, y_target: rand_y})\n",
    "    \n",
    "    if (i + 1) % 5== 0:\n",
    "        print('Step --> '+ str(i+1) + ' A = ' + str(sess.run(A)))\n",
    "        temp_loss = sess.run(loss, feed_dict={x_data: rand_x, y_target: rand_y})\n",
    "        print('Loss = ' + str(temp_loss))\n",
    "        loss_stochastic.append(temp_loss)"
   ]
  },
  {
   "cell_type": "code",
   "execution_count": 74,
   "metadata": {},
   "outputs": [
    {
     "data": {
      "application/json": {
       "Software versions": [
        {
         "module": "Python",
         "version": "3.6.2 64bit [GCC 4.8.2 20140120 (Red Hat 4.8.2-15)]"
        },
        {
         "module": "IPython",
         "version": "6.1.0"
        },
        {
         "module": "OS",
         "version": "Linux 4.4.0 53 generic x86_64 with debian stretch sid"
        },
        {
         "module": "numpy",
         "version": "1.12.1"
        },
        {
         "module": "tensorflow",
         "version": "1.3.0"
        }
       ]
      },
      "text/html": [
       "<table><tr><th>Software</th><th>Version</th></tr><tr><td>Python</td><td>3.6.2 64bit [GCC 4.8.2 20140120 (Red Hat 4.8.2-15)]</td></tr><tr><td>IPython</td><td>6.1.0</td></tr><tr><td>OS</td><td>Linux 4.4.0 53 generic x86_64 with debian stretch sid</td></tr><tr><td>numpy</td><td>1.12.1</td></tr><tr><td>tensorflow</td><td>1.3.0</td></tr><tr><td colspan='2'>Sun Sep 17 14:42:57 2017 CDT</td></tr></table>"
      ],
      "text/latex": [
       "\\begin{tabular}{|l|l|}\\hline\n",
       "{\\bf Software} & {\\bf Version} \\\\ \\hline\\hline\n",
       "Python & 3.6.2 64bit [GCC 4.8.2 20140120 (Red Hat 4.8.2-15)] \\\\ \\hline\n",
       "IPython & 6.1.0 \\\\ \\hline\n",
       "OS & Linux 4.4.0 53 generic x86\\_64 with debian stretch sid \\\\ \\hline\n",
       "numpy & 1.12.1 \\\\ \\hline\n",
       "tensorflow & 1.3.0 \\\\ \\hline\n",
       "\\hline \\multicolumn{2}{|l|}{Sun Sep 17 14:42:57 2017 CDT} \\\\ \\hline\n",
       "\\end{tabular}\n"
      ],
      "text/plain": [
       "Software versions\n",
       "Python 3.6.2 64bit [GCC 4.8.2 20140120 (Red Hat 4.8.2-15)]\n",
       "IPython 6.1.0\n",
       "OS Linux 4.4.0 53 generic x86_64 with debian stretch sid\n",
       "numpy 1.12.1\n",
       "tensorflow 1.3.0\n",
       "Sun Sep 17 14:42:57 2017 CDT"
      ]
     },
     "execution_count": 74,
     "metadata": {},
     "output_type": "execute_result"
    }
   ],
   "source": [
    "%load_ext version_information\n",
    "%version_information numpy, tensorflow"
   ]
  }
 ],
 "metadata": {
  "kernelspec": {
   "display_name": "Python 3",
   "language": "python",
   "name": "python3"
  },
  "language_info": {
   "codemirror_mode": {
    "name": "ipython",
    "version": 3
   },
   "file_extension": ".py",
   "mimetype": "text/x-python",
   "name": "python",
   "nbconvert_exporter": "python",
   "pygments_lexer": "ipython3",
   "version": "3.6.2"
  },
  "toc": {
   "nav_menu": {},
   "number_sections": true,
   "sideBar": true,
   "skip_h1_title": false,
   "toc_cell": true,
   "toc_position": {},
   "toc_section_display": "block",
   "toc_window_display": true
  }
 },
 "nbformat": 4,
 "nbformat_minor": 2
}
