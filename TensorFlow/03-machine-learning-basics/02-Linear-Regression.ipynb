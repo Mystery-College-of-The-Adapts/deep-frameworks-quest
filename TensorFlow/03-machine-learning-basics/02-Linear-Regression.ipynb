{
 "cells": [
  {
   "cell_type": "markdown",
   "metadata": {},
   "source": [
    "# Linear Regression\n",
    "- Linear Regression is the simplest form of modeling for a supervised learning problem.\n",
    "- Given a set of data points as training data, we find the linear function that best fits them.\n",
    "\n",
    "- The general formula for a linear function is:\n",
    "$$y(x_1, x_2, x_3, ..., x_k) = w_1x_1+w_2x_2+w_3x_3+...+w_kx_k+b$$\n",
    "- Its matrix(or tensor) form:\n",
    "$$Y=XW^T  + b$$ where $X=(x_1,...,x_k)$ and $W=(w_1,...,w_k)$"
   ]
  },
  {
   "cell_type": "code",
   "execution_count": 1,
   "metadata": {
    "collapsed": true
   },
   "outputs": [],
   "source": [
    "import tensorflow as tf"
   ]
  },
  {
   "cell_type": "code",
   "execution_count": 2,
   "metadata": {
    "collapsed": true
   },
   "outputs": [],
   "source": [
    "# Initialize variables/model parameters\n",
    "W = tf.Variable(tf.zeros([2, 1]), name=\"weights\")\n",
    "b = tf.Variable(0., name=\"bias\")"
   ]
  },
  {
   "cell_type": "code",
   "execution_count": 3,
   "metadata": {
    "collapsed": true
   },
   "outputs": [],
   "source": [
    "def inference(X):\n",
    "    return tf.matmul(X, W) + b"
   ]
  },
  {
   "cell_type": "markdown",
   "metadata": {},
   "source": [
    "- Time to define how to compute the loss. For this simple model we will use a squared error, which sums the squared difference of all the predicted values for each training example with their corresponding expected values. It's also known as **L2 norm** or **L2 loss function**.\n",
    "\n",
    "$$loss = \\sum_i(y_i - ypredicted_i)^2$$"
   ]
  },
  {
   "cell_type": "code",
   "execution_count": 4,
   "metadata": {
    "collapsed": true
   },
   "outputs": [],
   "source": [
    "def loss(X,Y):\n",
    "    Y_predicted = inference(X)\n",
    "    return tf.reduce_sum(tf.squared_difference(Y, Y_predicted))"
   ]
  },
  {
   "cell_type": "markdown",
   "metadata": {},
   "source": [
    "# Dataset\n",
    "We are going to work with a dataset that relates age in years and weight in kilograms with blood fat content (http://people.sc.fsu.edu/~jburkardt/datasets/regression/x09.txt)"
   ]
  },
  {
   "cell_type": "code",
   "execution_count": 5,
   "metadata": {
    "collapsed": true
   },
   "outputs": [],
   "source": [
    "def inputs():\n",
    "    weight_age = [[84, 46], [73, 20], [65, 52], \n",
    "                  [70, 30], [76, 57], [69, 25],\n",
    "                  [63, 28], [72, 36], [79, 57],\n",
    "                  [75, 44]]\n",
    "    \n",
    "    blood_fat_content = [354, 190, 405, 263, 451, 302,\n",
    "                         288, 385, 402, 365]\n",
    "    \n",
    "    return tf.to_float(weight_age), tf.to_float(blood_fat_content)\n",
    "    "
   ]
  },
  {
   "cell_type": "code",
   "execution_count": 6,
   "metadata": {
    "collapsed": true
   },
   "outputs": [],
   "source": [
    "def train(total_loss):\n",
    "    learning_rate = 0.000001\n",
    "    return tf.train.GradientDescentOptimizer(learning_rate)\\\n",
    "                   .minimize(total_loss)"
   ]
  },
  {
   "cell_type": "code",
   "execution_count": 8,
   "metadata": {
    "collapsed": true
   },
   "outputs": [],
   "source": [
    "def evaluate(sess, X, Y):\n",
    "    print sess.run(inference([[71., 35.]])) # ~ 263\n",
    "    print sess.run(inference([[70., 23.]])) # ~ 302"
   ]
  },
  {
   "cell_type": "code",
   "execution_count": 13,
   "metadata": {},
   "outputs": [
    {
     "name": "stdout",
     "output_type": "stream",
     "text": [
      "loss:  [2413308.5]\n",
      "loss:  [686254.88]\n",
      "loss:  [667614.25]\n",
      "loss:  [655491.19]\n",
      "loss:  [647606.69]\n",
      "loss:  [642478.69]\n",
      "loss:  [639143.06]\n",
      "loss:  [636973.25]\n",
      "loss:  [635561.38]\n",
      "loss:  [634642.69]\n",
      "[[ 331.31930542]]\n",
      "[[ 329.05212402]]\n"
     ]
    }
   ],
   "source": [
    "# Launch the graph in a session\n",
    "with tf.Session() as sess:\n",
    "    tf.global_variables_initializer().run()\n",
    "    \n",
    "    X, Y = inputs()\n",
    "    total_loss = loss(X, Y)\n",
    "    train_op = train(total_loss)\n",
    "    \n",
    "    initial_step = 0\n",
    "    training_steps = 100\n",
    "    for step in range(initial_step, training_steps):\n",
    "        sess.run([train_op])\n",
    "        if step % 10 == 0:\n",
    "            print \"loss: \", sess.run([total_loss])\n",
    "            \n",
    "    evaluate(sess, X, Y)\n",
    "    sess.close()"
   ]
  }
 ],
 "metadata": {
  "kernelspec": {
   "display_name": "Python 2",
   "language": "python",
   "name": "python2"
  },
  "language_info": {
   "codemirror_mode": {
    "name": "ipython",
    "version": 2
   },
   "file_extension": ".py",
   "mimetype": "text/x-python",
   "name": "python",
   "nbconvert_exporter": "python",
   "pygments_lexer": "ipython2",
   "version": "2.7.13"
  }
 },
 "nbformat": 4,
 "nbformat_minor": 2
}
