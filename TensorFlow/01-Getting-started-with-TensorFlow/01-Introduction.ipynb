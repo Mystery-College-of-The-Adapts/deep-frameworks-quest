{
 "cells": [
  {
   "cell_type": "markdown",
   "metadata": {},
   "source": [
    "# Deep Learning\n",
    "- Deep Learning is the process of using multi-layer neural networks-incredibly flexible models that can use a huge variety and combination of different mathematical techniques.\n",
    "- The power of deep learning is that it gives the model more flexibility in deciding how to use data to best effect.Instead of a person having to make wild guesses as to which inputs automatically determine useful, higher-order combinations of its input values.\n",
    "- This enables a much more sophisticated decision making process, making computers more intelligent than ever. With deep learning, wer are capable of:\n",
    "    - creating self-driving cars\n",
    "    - machine translation\n",
    "    - facial recognition\n",
    "    - predictive analytics\n",
    "    - machine music composition\n",
    "    "
   ]
  },
  {
   "cell_type": "markdown",
   "metadata": {},
   "source": [
    "# TensorFlow: a modern machine learning library\n",
    "\n",
    "- Open sourced to the public by Google in Nov 2015\n",
    "- Is the result of years of lessons learned from creating and using its predecessor, DIstBelief.\n",
    "- It is made to be:\n",
    "    - flexible\n",
    "    - efficient\n",
    "    - extensible\n",
    "    - portable\n",
    "    \n",
    "# TensorFlow: Library for numerical computation\n",
    "- While TF does contain a package **learn** *AKA Scikit Flow* that emulates the functionality of **Scikit-learn**, it is important to note that TensorFlow's primary purpose is not to provide out-of-the-box machine learning solutions.\n",
    "- Instead, TF provides an extensive suite of functions and classes that allow users to define models from scratch mathematically.\n",
    "- It is just as well suited to performing complex mathematical computations.\n",
    "\n",
    "\n",
    "# Data Flow Graphs\n",
    "- The computation model for TF is a [**directed graph**](https://en.wikipedia.org/wiki/Directed_graph) where \n",
    "    - the nodes are functions/computations\n",
    "    - the edges are numbers/matrices/tensors\n",
    "    \n",
    "![](https://i.imgur.com/ECJX8Iz.jpg)\n",
    "\n",
    "**What is a tensor?** A tensor is an n-dimensional matrix"
   ]
  },
  {
   "cell_type": "markdown",
   "metadata": {},
   "source": [
    "# TensorFlow important aspects\n",
    "## 1. Distributed\n",
    "- TF is designed to be scalable across multiple computers, as well as multiple CPUs and GPUs within single machines.\n",
    "- As of version 0.8.0 the distributed runtime is available as part of the TF built-in library.\n",
    "\n",
    "## 2. A suite of software\n",
    "- **TensorFlow** is the API for defining machine learning models, training them with data, and exporting them for further use.\n",
    "- **TensorBoard** is a graph visualization software that is included with any standard TensorFlow installation. TensorBoard is useful for summary statistics, analyzing training, and debugging your TF code.\n",
    "- **TensorFlow Serving** is a software that facilitates easy development of pre-trained TF models."
   ]
  },
  {
   "cell_type": "markdown",
   "metadata": {},
   "source": [
    "# When to use TensorFlow\n",
    "- **Researching, developing, and iterating through new machine learning architectures**\n",
    "- **Taking models directly from training to deployment**\n",
    "- **Implementing existing complex architectures**\n",
    "- **Large-scale distributed models**\n",
    "- **Create and train models for mobile/embedded systems**"
   ]
  },
  {
   "cell_type": "markdown",
   "metadata": {},
   "source": [
    "# TensorFlow's strengths\n",
    "## 1. Usability\n",
    "- TF workflow is relatively easy to wrap your head around, and it's consistent API means that you don't need to learn an entire new way to work when you try out different models.\n",
    "- TF's API is stable, and the maintainers fight to ensure that every incorporated change is backwards-compatible.\n",
    "- TF integrates seamlessly with Numpy, which will make most Python-savvy data scientists feel right at home.\n",
    "- Unlike some other libraries, TF does not have any compile time. This allows you to iterate more quickly over ideas without sitting around.\n",
    "- There are multiple higher-level interfaces built on top of TF already, such as **Keras** and **SKFlow**. \n",
    "\n",
    "## 2. Flexibility\n",
    "- TF is capable of running on machines of all shapes and sizes. This alows it to be useful from supercomputers all the way down to embedded systems- and everything in between.\n",
    "- Its distributed architecture allows it to train models with massive datasets in a reasonable amount of time.\n",
    "- TF can utilize CPUs, GPUs, ot both at the same time.\n",
    "\n",
    "## 3. Efficiency\n",
    "- TF boasts impressive times for much of its library, vying for the top spot amongst the open-source machine learning frameworks.\n",
    "- TF's efficiency is still improving as more and more developers work towards better implementations.\n",
    "\n",
    "## 4. Support\n",
    "- TF is backed by Google. Google is throwing a ton of resources into TF, since it wants TF to be the **lingua franca** of machine learning researchers and developers.\n",
    "- An incredible community has developed around TF, and it's relatively easy to get responses from informed members of the community or developers on GitHub.\n",
    "\n",
    "## 5. Extra Features\n",
    "- TensorBoard is invaluable when debugging and visualizing your model, and there is nothing quite like it available in other machine learning libraries.\n",
    "- TensorFlow serving may be the piece of software that allows more startup companies to devote services and resources to machine learning, as the cost of reimplementing code in order to deploy a model is no joke."
   ]
  },
  {
   "cell_type": "markdown",
   "metadata": {},
   "source": [
    "# Challenges when using TensorFlow\n",
    "## 1. Distributed support is still maturing\n",
    "- Requires manually defining the role of each device, which is tedious and error-prone.\n",
    "- Because it is brand new, there are less examples to learn from.\n",
    "\n",
    "## 2. Implementing custom code is tricky\n",
    "\n",
    "## 3. Certain features are still missing\n"
   ]
  }
 ],
 "metadata": {
  "kernelspec": {
   "display_name": "Python 2",
   "language": "python",
   "name": "python2"
  },
  "language_info": {
   "codemirror_mode": {
    "name": "ipython",
    "version": 2
   },
   "file_extension": ".py",
   "mimetype": "text/x-python",
   "name": "python",
   "nbconvert_exporter": "python",
   "pygments_lexer": "ipython2",
   "version": "2.7.13"
  }
 },
 "nbformat": 4,
 "nbformat_minor": 2
}
