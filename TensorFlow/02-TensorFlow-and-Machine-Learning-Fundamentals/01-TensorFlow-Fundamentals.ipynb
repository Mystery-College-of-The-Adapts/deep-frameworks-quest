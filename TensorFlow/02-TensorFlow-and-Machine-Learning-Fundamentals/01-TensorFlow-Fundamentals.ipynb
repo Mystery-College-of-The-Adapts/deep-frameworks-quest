{
 "cells": [
  {
   "cell_type": "markdown",
   "metadata": {},
   "source": [
    "# Introduction to Computation Graphs\n",
    "- At the core of every TF program is the **computation graph**.\n",
    "- A computation graph is a specific type of directed graph that is used for:\n",
    "    - defining, unsurprisingly, computational structure\n",
    "    \n",
    "![](https://i.imgur.com/v9cLnlB.jpg)\n",
    "\n",
    "The above example can be looked at as a simple equation:\n",
    "$$f(1, 2) = 1 + 2 = 3$$\n",
    "\n",
    "The fundamental building blocks of TF graphs are:\n",
    "- **Nodes:**\n",
    "    - Typically drawn as circles, ovals, or boxes\n",
    "    - Represent some sort of computation or action being done on or with data in the graph's context.\n",
    "    \n",
    "- **Edges:**\n",
    "    - actual values that get passed to and from Operations\n",
    "    - typically drawn as arrows"
   ]
  },
  {
   "cell_type": "markdown",
   "metadata": {},
   "source": [
    "# Defining Computation Graphs in TensorFlow\n",
    "TensorFlow workflow pattern follows two steps:\n",
    "- Define the computation graph\n",
    "- Run the graph (with data)"
   ]
  },
  {
   "cell_type": "markdown",
   "metadata": {},
   "source": [
    "# Building a TensorFlow Graph\n",
    "![](https://i.imgur.com/ECJX8Iz.jpg)"
   ]
  },
  {
   "cell_type": "code",
   "execution_count": 1,
   "metadata": {
    "collapsed": true
   },
   "outputs": [],
   "source": [
    "import tensorflow as tf\n",
    "import numpy as np\n",
    "import matplotlib\n",
    "%matplotlib inline \n",
    "import matplotlib.pyplot as plt\n",
    "matplotlib.style.use('ggplot')"
   ]
  },
  {
   "cell_type": "code",
   "execution_count": 3,
   "metadata": {},
   "outputs": [],
   "source": [
    "a = tf.constant(5, name=\"input_a\")\n",
    "b = tf.constant(3, name=\"input_b\")\n",
    "c = tf.multiply(a, b, name=\"mul_c\")\n",
    "d = tf.add(a, b, name=\"add_d\")\n",
    "e = tf.add(c, d, name=\"add_e\")"
   ]
  },
  {
   "cell_type": "code",
   "execution_count": 4,
   "metadata": {},
   "outputs": [
    {
     "data": {
      "text/plain": [
       "23"
      ]
     },
     "execution_count": 4,
     "metadata": {},
     "output_type": "execute_result"
    }
   ],
   "source": [
    "sess = tf.Session()\n",
    "sess.run(e)"
   ]
  },
  {
   "cell_type": "code",
   "execution_count": 5,
   "metadata": {},
   "outputs": [
    {
     "data": {
      "text/plain": [
       "15"
      ]
     },
     "execution_count": 5,
     "metadata": {},
     "output_type": "execute_result"
    }
   ],
   "source": [
    "sess.run(c)"
   ]
  },
  {
   "cell_type": "code",
   "execution_count": 6,
   "metadata": {
    "collapsed": true
   },
   "outputs": [],
   "source": [
    "output = sess.run(e)"
   ]
  },
  {
   "cell_type": "code",
   "execution_count": 11,
   "metadata": {},
   "outputs": [],
   "source": [
    "# TensorBoard config\n",
    "writer = tf.summary.FileWriter('./my_graph', sess.graph)"
   ]
  },
  {
   "cell_type": "code",
   "execution_count": 12,
   "metadata": {
    "collapsed": true
   },
   "outputs": [],
   "source": [
    "writer.close()\n",
    "sess.close()"
   ]
  },
  {
   "cell_type": "markdown",
   "metadata": {},
   "source": [
    "# Thinking with Tensors\n",
    "- 1-D Tensor --> a vector\n",
    "- 2-D Tensor --> a matrix\n",
    "\n",
    "![](https://i.imgur.com/gzhEMCY.jpg)\n",
    "\n",
    "This graph has several advantages over the previous example:\n",
    "- The client only has to send input to a single node, which simplifies using the graph.\n",
    "- The nodes that directly depend on the input now only have to keep track of one dependency instead of two.\n",
    "- We now have the option of making the graph take in vectors of any length, if we'd like. This would make the graph more flexible.\n",
    "- In TF, all the data passed from node to node are **Tensor** objects.\n",
    "- Tensors are just a superset of matrices!"
   ]
  },
  {
   "cell_type": "code",
   "execution_count": 13,
   "metadata": {
    "collapsed": true
   },
   "outputs": [],
   "source": [
    "a = tf.constant([5, 3], name=\"input_a\")\n",
    "b = tf.reduce_prod(a, name=\"prod_b\")\n",
    "c = tf.reduce_sum(a, name=\"sum_c\")\n",
    "d = tf.add(b, c, name=\"add_d\")"
   ]
  },
  {
   "cell_type": "code",
   "execution_count": 14,
   "metadata": {
    "collapsed": true
   },
   "outputs": [],
   "source": [
    "sess = tf.Session()"
   ]
  },
  {
   "cell_type": "code",
   "execution_count": 15,
   "metadata": {},
   "outputs": [
    {
     "data": {
      "text/plain": [
       "23"
      ]
     },
     "execution_count": 15,
     "metadata": {},
     "output_type": "execute_result"
    }
   ],
   "source": [
    "sess.run(d)"
   ]
  },
  {
   "cell_type": "markdown",
   "metadata": {},
   "source": [
    "# Python Native Types\n",
    "- TF can take in Python numbers, booleans, strings, or lists of any of the above.\n",
    "- Single values --> 0-D Tensor(or scalar)\n",
    "- list of values --> 1-D Tensor(vector)\n",
    "- list of lists of values -> 2-D Tensor(matrix)"
   ]
  },
  {
   "cell_type": "markdown",
   "metadata": {},
   "source": [
    "# NumPy arrays\n",
    "- TF is tightly integrated with **NumPy**\n",
    "- TF data types are based on those from NumPy"
   ]
  },
  {
   "cell_type": "code",
   "execution_count": 16,
   "metadata": {},
   "outputs": [
    {
     "data": {
      "text/plain": [
       "True"
      ]
     },
     "execution_count": 16,
     "metadata": {},
     "output_type": "execute_result"
    }
   ],
   "source": [
    "np.int32 == tf.int32"
   ]
  },
  {
   "cell_type": "markdown",
   "metadata": {},
   "source": [
    "- Any NumPy array can be passed into any TF Op."
   ]
  },
  {
   "cell_type": "markdown",
   "metadata": {},
   "source": [
    "# TensorFlow operations\n",
    "- Are nodes that perform computations on or with Tensor objects\n",
    "- After computation, they return zero or more tensors.\n",
    "\n",
    "## Overloaded operators\n",
    "- TF also overloads common mathematical operators to make multiplication, addition, subtraction, and other common operations more concise.\n",
    "\n"
   ]
  },
  {
   "cell_type": "markdown",
   "metadata": {},
   "source": [
    "# TensorFlow graphs\n",
    " Creating a Graph is simple-its constructor doesn't take any variables:"
   ]
  },
  {
   "cell_type": "code",
   "execution_count": 17,
   "metadata": {
    "collapsed": true
   },
   "outputs": [],
   "source": [
    "# create a new graph\n",
    "g = tf.Graph()"
   ]
  },
  {
   "cell_type": "markdown",
   "metadata": {},
   "source": [
    "Once we have our Graph initialized, we can add Operations to it by using the ```Graph.as_default()``` method to access its context manager."
   ]
  },
  {
   "cell_type": "code",
   "execution_count": 18,
   "metadata": {
    "collapsed": true
   },
   "outputs": [],
   "source": [
    "with g.as_default():\n",
    "    # create Operations as usual; they will be adding to graph 'g'\n",
    "    a = tf.multiply(2, 3)"
   ]
  },
  {
   "cell_type": "markdown",
   "metadata": {},
   "source": [
    "- TF automatically creates a ```Graph``` when the library is loaded and assigns it to be the default. Thus, any Operations, tensors, etc. defined outside of a ```Graph.as_default()``` context manager will automatically be placed in the default graph:"
   ]
  },
  {
   "cell_type": "code",
   "execution_count": 19,
   "metadata": {
    "collapsed": true
   },
   "outputs": [],
   "source": [
    "# Placed in the default graph\n",
    "in_default_graph = tf.add(1, 2)"
   ]
  },
  {
   "cell_type": "code",
   "execution_count": 20,
   "metadata": {
    "collapsed": true
   },
   "outputs": [],
   "source": [
    "# Placed in graph 'g'\n",
    "with g.as_default():\n",
    "    in_graph_g = tf.multiply(2, 3)"
   ]
  },
  {
   "cell_type": "code",
   "execution_count": 21,
   "metadata": {
    "collapsed": true
   },
   "outputs": [],
   "source": [
    "# We are no longer in the with block, so this is placed in the default graph\n",
    "also_in_default_graph = tf.subtract(5, 1)"
   ]
  },
  {
   "cell_type": "code",
   "execution_count": 22,
   "metadata": {
    "collapsed": true
   },
   "outputs": [],
   "source": [
    "# To get a handle to the default graph, use the ```tf.get_default_graph()``` function:\n",
    "default_graph = tf.get_default_graph()"
   ]
  },
  {
   "cell_type": "markdown",
   "metadata": {},
   "source": [
    "# TensorFlow Sessions\n",
    "- Are responsible for graph execution.\n",
    "- The constructor takes in three optional parameters:\n",
    "    - ```target``` specifies the execution engine to use\n",
    "    - ```graph``` specifies the ```Graph``` object that will be launched in the ```session```. The default value is ```None```.\n",
    "    - ```config``` allows users to specify options to configure the session, such as limiting the number of CPUs or GPUs to use, setting optimization parameters for graphs, and logging options."
   ]
  },
  {
   "cell_type": "code",
   "execution_count": 23,
   "metadata": {
    "collapsed": true
   },
   "outputs": [],
   "source": [
    "a = tf.add(2, 5)\n",
    "b = tf.multiply(a, 3)\n",
    "\n",
    "# Start up a session using the default graph\n",
    "sess = tf.Session()"
   ]
  },
  {
   "cell_type": "markdown",
   "metadata": {},
   "source": [
    "Once a **Session** is opened, you can use its primary method, ```run()```, to calculate the value of a desired ```Tensor``` output"
   ]
  },
  {
   "cell_type": "code",
   "execution_count": 24,
   "metadata": {},
   "outputs": [
    {
     "data": {
      "text/plain": [
       "21"
      ]
     },
     "execution_count": 24,
     "metadata": {},
     "output_type": "execute_result"
    }
   ],
   "source": [
    "sess.run(b)"
   ]
  },
  {
   "cell_type": "markdown",
   "metadata": {},
   "source": [
    "```Session.run()``` takes in one required parameter, **```fetches```**, as well as three optional parameters:\n",
    "- ```feed_dict```\n",
    "- ```options```\n",
    "- ```run_metadata```"
   ]
  },
  {
   "cell_type": "markdown",
   "metadata": {},
   "source": [
    "## 1. Fetches\n",
    "- ```fetches``` accepts any graph element (either an operation or Tensor object), which specifies what the user would like to execute.\n",
    "- If the requested object is a **Tensor**, then the output of ```run()``` will be a NumPy array.\n",
    "- If the object is an ```Operation```, then the output will be ```None```."
   ]
  },
  {
   "cell_type": "code",
   "execution_count": 25,
   "metadata": {},
   "outputs": [
    {
     "data": {
      "text/plain": [
       "21"
      ]
     },
     "execution_count": 25,
     "metadata": {},
     "output_type": "execute_result"
    }
   ],
   "source": [
    "sess.run(b) # we set fetches to the tensor b"
   ]
  },
  {
   "cell_type": "code",
   "execution_count": 26,
   "metadata": {},
   "outputs": [
    {
     "data": {
      "text/plain": [
       "[7, 21]"
      ]
     },
     "execution_count": 26,
     "metadata": {},
     "output_type": "execute_result"
    }
   ],
   "source": [
    "sess.run([a, b]) # pass in a list of graph elements"
   ]
  },
  {
   "cell_type": "markdown",
   "metadata": {},
   "source": [
    "- When ```fetches``` is a list, the output of ```run()``` will be a list with values corresponding to the output of the requested elements.\n",
    "- In addition using ```fetches``` to get ```Tensor``` outputs, we can give ```fetches``` a direct handle to an **operation** whcih is a useful side-effect when run.\n",
    "    - Example: ```tf.global_variables_initializer()```"
   ]
  },
  {
   "cell_type": "code",
   "execution_count": 28,
   "metadata": {},
   "outputs": [],
   "source": [
    "# Performs the computations needed to initialize Variables, but returns ```None```\n",
    "sess.run(tf.global_variables_initializer())"
   ]
  },
  {
   "cell_type": "markdown",
   "metadata": {},
   "source": [
    "## 2. Feed Dictionary\n",
    "- The parameter ```feed_dict``` is used to override ```Tensor``` values in the graph, and it expects a Python dictionary object as input.\n",
    "- The keys in the dictionary are handles to ```Tensor``` objects that should be overridden, while the values can be numbers, strings, lists, or NumPy arrays.\n",
    "- The values must of the same type."
   ]
  },
  {
   "cell_type": "code",
   "execution_count": 29,
   "metadata": {
    "collapsed": true
   },
   "outputs": [],
   "source": [
    "# create Operations, Tensors, etc (using teh default graph)\n",
    "a = tf.add(2, 5)\n",
    "b = tf.multiply(a, 3)"
   ]
  },
  {
   "cell_type": "code",
   "execution_count": 30,
   "metadata": {
    "collapsed": true
   },
   "outputs": [],
   "source": [
    "# Start up a Session using the default graph\n",
    "sess = tf.Session()"
   ]
  },
  {
   "cell_type": "code",
   "execution_count": 31,
   "metadata": {
    "collapsed": true
   },
   "outputs": [],
   "source": [
    "# Define a dictionary that says to replace the value of a with 15\n",
    "replace_dict = {a:15}\n"
   ]
  },
  {
   "cell_type": "code",
   "execution_count": 32,
   "metadata": {},
   "outputs": [
    {
     "data": {
      "text/plain": [
       "45"
      ]
     },
     "execution_count": 32,
     "metadata": {},
     "output_type": "execute_result"
    }
   ],
   "source": [
    "# Run the session, passing in replace_dict as the value to feed_dict\n",
    "sess.run(b, feed_dict=replace_dict)"
   ]
  },
  {
   "cell_type": "code",
   "execution_count": 33,
   "metadata": {
    "collapsed": true
   },
   "outputs": [],
   "source": [
    "sess.close()"
   ]
  },
  {
   "cell_type": "code",
   "execution_count": null,
   "metadata": {
    "collapsed": true
   },
   "outputs": [],
   "source": []
  }
 ],
 "metadata": {
  "kernelspec": {
   "display_name": "Python 2",
   "language": "python",
   "name": "python2"
  },
  "language_info": {
   "codemirror_mode": {
    "name": "ipython",
    "version": 2
   },
   "file_extension": ".py",
   "mimetype": "text/x-python",
   "name": "python",
   "nbconvert_exporter": "python",
   "pygments_lexer": "ipython2",
   "version": "2.7.13"
  }
 },
 "nbformat": 4,
 "nbformat_minor": 2
}
