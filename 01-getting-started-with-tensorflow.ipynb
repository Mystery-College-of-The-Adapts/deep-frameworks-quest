{
 "cells": [
  {
   "cell_type": "markdown",
   "metadata": {
    "toc": "true"
   },
   "source": [
    " # Table of Contents\n",
    "<div class=\"toc\" style=\"margin-top: 1em;\"><ul class=\"toc-item\" id=\"toc-level0\"><li><span><a href=\"http://localhost:8888/notebooks/01-getting-started-with-tensorflow.ipynb#Getting-Started-with-TensorFlow\" data-toc-modified-id=\"Getting-Started-with-TensorFlow-1\"><span class=\"toc-item-num\">1&nbsp;&nbsp;</span>Getting Started with TensorFlow</a></span><ul class=\"toc-item\"><li><span><a href=\"http://localhost:8888/notebooks/01-getting-started-with-tensorflow.ipynb#TF-algorithms-workflow\" data-toc-modified-id=\"TF-algorithms-workflow-1.1\"><span class=\"toc-item-num\">1.1&nbsp;&nbsp;</span>TF algorithms workflow</a></span></li><li><span><a href=\"http://localhost:8888/notebooks/01-getting-started-with-tensorflow.ipynb#Declaring-Tensors\" data-toc-modified-id=\"Declaring-Tensors-1.2\"><span class=\"toc-item-num\">1.2&nbsp;&nbsp;</span>Declaring Tensors</a></span><ul class=\"toc-item\"><li><span><a href=\"http://localhost:8888/notebooks/01-getting-started-with-tensorflow.ipynb#Fixed-tensors\" data-toc-modified-id=\"Fixed-tensors-1.2.1\"><span class=\"toc-item-num\">1.2.1&nbsp;&nbsp;</span>Fixed tensors</a></span></li><li><span><a href=\"http://localhost:8888/notebooks/01-getting-started-with-tensorflow.ipynb#Tensors-of-similar-shape\" data-toc-modified-id=\"Tensors-of-similar-shape-1.2.2\"><span class=\"toc-item-num\">1.2.2&nbsp;&nbsp;</span>Tensors of similar shape</a></span></li><li><span><a href=\"http://localhost:8888/notebooks/01-getting-started-with-tensorflow.ipynb#Sequence-tensors\" data-toc-modified-id=\"Sequence-tensors-1.2.3\"><span class=\"toc-item-num\">1.2.3&nbsp;&nbsp;</span>Sequence tensors</a></span></li><li><span><a href=\"http://localhost:8888/notebooks/01-getting-started-with-tensorflow.ipynb#Random-Tensors\" data-toc-modified-id=\"Random-Tensors-1.2.4\"><span class=\"toc-item-num\">1.2.4&nbsp;&nbsp;</span>Random Tensors</a></span></li></ul></li><li><span><a href=\"http://localhost:8888/notebooks/01-getting-started-with-tensorflow.ipynb#Using-Placeholders-and-Variables\" data-toc-modified-id=\"Using-Placeholders-and-Variables-1.3\"><span class=\"toc-item-num\">1.3&nbsp;&nbsp;</span>Using Placeholders and Variables</a></span></li><li><span><a href=\"http://localhost:8888/notebooks/01-getting-started-with-tensorflow.ipynb#Working-with-Matrices\" data-toc-modified-id=\"Working-with-Matrices-1.4\"><span class=\"toc-item-num\">1.4&nbsp;&nbsp;</span>Working with Matrices</a></span><ul class=\"toc-item\"><li><span><a href=\"http://localhost:8888/notebooks/01-getting-started-with-tensorflow.ipynb#Creating-matrices\" data-toc-modified-id=\"Creating-matrices-1.4.1\"><span class=\"toc-item-num\">1.4.1&nbsp;&nbsp;</span>Creating matrices</a></span></li><li><span><a href=\"http://localhost:8888/notebooks/01-getting-started-with-tensorflow.ipynb#Addition-and-Subtraction\" data-toc-modified-id=\"Addition-and-Subtraction-1.4.2\"><span class=\"toc-item-num\">1.4.2&nbsp;&nbsp;</span>Addition and Subtraction</a></span></li><li><span><a href=\"http://localhost:8888/notebooks/01-getting-started-with-tensorflow.ipynb#Multiplication\" data-toc-modified-id=\"Multiplication-1.4.3\"><span class=\"toc-item-num\">1.4.3&nbsp;&nbsp;</span>Multiplication</a></span></li><li><span><a href=\"http://localhost:8888/notebooks/01-getting-started-with-tensorflow.ipynb#Transpose\" data-toc-modified-id=\"Transpose-1.4.4\"><span class=\"toc-item-num\">1.4.4&nbsp;&nbsp;</span>Transpose</a></span></li><li><span><a href=\"http://localhost:8888/notebooks/01-getting-started-with-tensorflow.ipynb#Determinant\" data-toc-modified-id=\"Determinant-1.4.5\"><span class=\"toc-item-num\">1.4.5&nbsp;&nbsp;</span>Determinant</a></span></li><li><span><a href=\"http://localhost:8888/notebooks/01-getting-started-with-tensorflow.ipynb#Inverse\" data-toc-modified-id=\"Inverse-1.4.6\"><span class=\"toc-item-num\">1.4.6&nbsp;&nbsp;</span>Inverse</a></span></li><li><span><a href=\"http://localhost:8888/notebooks/01-getting-started-with-tensorflow.ipynb#Decomposition\" data-toc-modified-id=\"Decomposition-1.4.7\"><span class=\"toc-item-num\">1.4.7&nbsp;&nbsp;</span>Decomposition</a></span></li><li><span><a href=\"http://localhost:8888/notebooks/01-getting-started-with-tensorflow.ipynb#Eigenvalues-and-Eigenvectors\" data-toc-modified-id=\"Eigenvalues-and-Eigenvectors-1.4.8\"><span class=\"toc-item-num\">1.4.8&nbsp;&nbsp;</span>Eigenvalues and Eigenvectors</a></span></li></ul></li><li><span><a href=\"http://localhost:8888/notebooks/01-getting-started-with-tensorflow.ipynb#Implementing-Activation-Functions\" data-toc-modified-id=\"Implementing-Activation-Functions-1.5\"><span class=\"toc-item-num\">1.5&nbsp;&nbsp;</span>Implementing Activation Functions</a></span><ul class=\"toc-item\"><li><span><a href=\"http://localhost:8888/notebooks/01-getting-started-with-tensorflow.ipynb#Rectified-Linear-Unit,-ReLU\" data-toc-modified-id=\"Rectified-Linear-Unit,-ReLU-1.5.1\"><span class=\"toc-item-num\">1.5.1&nbsp;&nbsp;</span>Rectified Linear Unit, ReLU</a></span></li><li><span><a href=\"http://localhost:8888/notebooks/01-getting-started-with-tensorflow.ipynb#Sigmoid\" data-toc-modified-id=\"Sigmoid-1.5.2\"><span class=\"toc-item-num\">1.5.2&nbsp;&nbsp;</span>Sigmoid</a></span></li><li><span><a href=\"http://localhost:8888/notebooks/01-getting-started-with-tensorflow.ipynb#tanh\" data-toc-modified-id=\"tanh-1.5.3\"><span class=\"toc-item-num\">1.5.3&nbsp;&nbsp;</span>tanh</a></span></li><li><span><a href=\"http://localhost:8888/notebooks/01-getting-started-with-tensorflow.ipynb#softsign\" data-toc-modified-id=\"softsign-1.5.4\"><span class=\"toc-item-num\">1.5.4&nbsp;&nbsp;</span>softsign</a></span></li><li><span><a href=\"http://localhost:8888/notebooks/01-getting-started-with-tensorflow.ipynb#softplus\" data-toc-modified-id=\"softplus-1.5.5\"><span class=\"toc-item-num\">1.5.5&nbsp;&nbsp;</span>softplus</a></span></li><li><span><a href=\"http://localhost:8888/notebooks/01-getting-started-with-tensorflow.ipynb#Exponential-Linear-Unit,-ELU\" data-toc-modified-id=\"Exponential-Linear-Unit,-ELU-1.5.6\"><span class=\"toc-item-num\">1.5.6&nbsp;&nbsp;</span>Exponential Linear Unit, ELU</a></span></li></ul></li></ul></li></ul></div>"
   ]
  },
  {
   "cell_type": "markdown",
   "metadata": {},
   "source": [
    "# Getting Started with TensorFlow"
   ]
  },
  {
   "cell_type": "markdown",
   "metadata": {},
   "source": [
    "## TF algorithms workflow"
   ]
  },
  {
   "cell_type": "markdown",
   "metadata": {},
   "source": [
    "1. Import or Generate datasets\n",
    "2. Transform and normalize data with ```data = tf.nn.batch_norm_with_global_normalization(...)```\n",
    "3. Partition datasets into train, test, and validation sets.\n",
    "4. Set algorithm parameters(hyperparameters)\n",
    "5. Initialize variables and placeholders\n",
    "6. Define the model structure\n",
    "7. Declare the loss functions\n",
    "8. Initialize and train the model\n",
    "9. Evaluate the model\n",
    "10. Tune hyperparameters\n",
    "11. Deploy/predict new outcomes"
   ]
  },
  {
   "cell_type": "markdown",
   "metadata": {
    "collapsed": true
   },
   "source": [
    "## Declaring Tensors"
   ]
  },
  {
   "cell_type": "code",
   "execution_count": 1,
   "metadata": {
    "collapsed": true
   },
   "outputs": [],
   "source": [
    "import tensorflow as tf\n",
    "import numpy as np"
   ]
  },
  {
   "cell_type": "markdown",
   "metadata": {},
   "source": [
    "### Fixed tensors"
   ]
  },
  {
   "cell_type": "markdown",
   "metadata": {},
   "source": [
    "- Create a zero filled tensor."
   ]
  },
  {
   "cell_type": "code",
   "execution_count": 2,
   "metadata": {
    "collapsed": true
   },
   "outputs": [],
   "source": [
    "row_dim = 8\n",
    "col_dim = 9"
   ]
  },
  {
   "cell_type": "code",
   "execution_count": 3,
   "metadata": {},
   "outputs": [
    {
     "data": {
      "text/plain": [
       "<tf.Tensor 'zeros:0' shape=(8, 9) dtype=float32>"
      ]
     },
     "execution_count": 3,
     "metadata": {},
     "output_type": "execute_result"
    }
   ],
   "source": [
    "zero_tsr = tf.zeros([row_dim, col_dim])\n",
    "zero_tsr"
   ]
  },
  {
   "cell_type": "markdown",
   "metadata": {},
   "source": [
    "- Create a one filled tensor."
   ]
  },
  {
   "cell_type": "code",
   "execution_count": 4,
   "metadata": {},
   "outputs": [
    {
     "data": {
      "text/plain": [
       "<tf.Tensor 'ones:0' shape=(8, 9) dtype=float32>"
      ]
     },
     "execution_count": 4,
     "metadata": {},
     "output_type": "execute_result"
    }
   ],
   "source": [
    "ones_tsr = tf.ones([row_dim, col_dim])\n",
    "ones_tsr"
   ]
  },
  {
   "cell_type": "markdown",
   "metadata": {},
   "source": [
    "- Create a constant filled tensor"
   ]
  },
  {
   "cell_type": "code",
   "execution_count": 5,
   "metadata": {},
   "outputs": [
    {
     "data": {
      "text/plain": [
       "<tf.Tensor 'Fill:0' shape=(8, 9) dtype=int32>"
      ]
     },
     "execution_count": 5,
     "metadata": {},
     "output_type": "execute_result"
    }
   ],
   "source": [
    "filled_tsr = tf.fill([row_dim, col_dim], 20)\n",
    "filled_tsr"
   ]
  },
  {
   "cell_type": "markdown",
   "metadata": {},
   "source": [
    "- Create a tensor out of an existing constant\n"
   ]
  },
  {
   "cell_type": "code",
   "execution_count": 6,
   "metadata": {},
   "outputs": [
    {
     "data": {
      "text/plain": [
       "<tf.Tensor 'Const:0' shape=(3,) dtype=int32>"
      ]
     },
     "execution_count": 6,
     "metadata": {},
     "output_type": "execute_result"
    }
   ],
   "source": [
    "constant_tsr = tf.constant([1,2,3])\n",
    "constant_tsr"
   ]
  },
  {
   "cell_type": "markdown",
   "metadata": {},
   "source": [
    "### Tensors of similar shape"
   ]
  },
  {
   "cell_type": "markdown",
   "metadata": {},
   "source": [
    "- Initialize variables based on shape of other tensors"
   ]
  },
  {
   "cell_type": "code",
   "execution_count": 7,
   "metadata": {},
   "outputs": [
    {
     "data": {
      "text/plain": [
       "<tf.Tensor 'zeros_like:0' shape=(3,) dtype=int32>"
      ]
     },
     "execution_count": 7,
     "metadata": {},
     "output_type": "execute_result"
    }
   ],
   "source": [
    "zeros_similar = tf.zeros_like(constant_tsr)\n",
    "zeros_similar"
   ]
  },
  {
   "cell_type": "code",
   "execution_count": 8,
   "metadata": {},
   "outputs": [
    {
     "data": {
      "text/plain": [
       "<tf.Tensor 'ones_like:0' shape=(3,) dtype=int32>"
      ]
     },
     "execution_count": 8,
     "metadata": {},
     "output_type": "execute_result"
    }
   ],
   "source": [
    "ones_similar = tf.ones_like(constant_tsr)\n",
    "ones_similar"
   ]
  },
  {
   "cell_type": "markdown",
   "metadata": {},
   "source": [
    "### Sequence tensors"
   ]
  },
  {
   "cell_type": "markdown",
   "metadata": {},
   "source": [
    "- Specify tensors that contain defined intervals. The following functions behave very similar to the ```range()``` outputs and numpy's ```linspace()``` outputs."
   ]
  },
  {
   "cell_type": "code",
   "execution_count": 9,
   "metadata": {},
   "outputs": [
    {
     "data": {
      "text/plain": [
       "<tf.Tensor 'LinSpace:0' shape=(20,) dtype=float32>"
      ]
     },
     "execution_count": 9,
     "metadata": {},
     "output_type": "execute_result"
    }
   ],
   "source": [
    "linear_tsr = tf.linspace(start=0.0, stop=10.0, num=20)\n",
    "linear_tsr"
   ]
  },
  {
   "cell_type": "code",
   "execution_count": 10,
   "metadata": {},
   "outputs": [
    {
     "data": {
      "text/plain": [
       "<tf.Tensor 'range:0' shape=(3,) dtype=int32>"
      ]
     },
     "execution_count": 10,
     "metadata": {},
     "output_type": "execute_result"
    }
   ],
   "source": [
    "integer_seq_tsr = tf.range(start=6, limit=15, delta=3)\n",
    "integer_seq_tsr"
   ]
  },
  {
   "cell_type": "markdown",
   "metadata": {},
   "source": [
    "### Random Tensors"
   ]
  },
  {
   "cell_type": "markdown",
   "metadata": {},
   "source": [
    "- Random tensors from a uniform distribution\n",
    "\n",
    "- Draws from the interval that includes the ```minval``` but not the ```maxval(minval<= x <=maxval)```."
   ]
  },
  {
   "cell_type": "code",
   "execution_count": 11,
   "metadata": {},
   "outputs": [
    {
     "data": {
      "text/plain": [
       "<tf.Tensor 'random_uniform:0' shape=(8, 9) dtype=float32>"
      ]
     },
     "execution_count": 11,
     "metadata": {},
     "output_type": "execute_result"
    }
   ],
   "source": [
    "randunif_tsr = tf.random_uniform([row_dim, col_dim], minval=0, maxval=1)\n",
    "randunif_tsr"
   ]
  },
  {
   "cell_type": "markdown",
   "metadata": {},
   "source": [
    "- Random tensor from a normal distribution"
   ]
  },
  {
   "cell_type": "code",
   "execution_count": 12,
   "metadata": {},
   "outputs": [
    {
     "data": {
      "text/plain": [
       "<tf.Tensor 'random_normal:0' shape=(8, 9) dtype=float32>"
      ]
     },
     "execution_count": 12,
     "metadata": {},
     "output_type": "execute_result"
    }
   ],
   "source": [
    "randnorm_tsr = tf.random_normal([row_dim, col_dim], mean=0.0, stddev=1.0)\n",
    "randnorm_tsr"
   ]
  },
  {
   "cell_type": "markdown",
   "metadata": {},
   "source": [
    "- Generate random values that are assured within certain bounds."
   ]
  },
  {
   "cell_type": "code",
   "execution_count": 13,
   "metadata": {},
   "outputs": [
    {
     "data": {
      "text/plain": [
       "<tf.Tensor 'truncated_normal:0' shape=(8, 9) dtype=float32>"
      ]
     },
     "execution_count": 13,
     "metadata": {},
     "output_type": "execute_result"
    }
   ],
   "source": [
    "runcnorm_tsr = tf.truncated_normal([row_dim, col_dim], mean=0.0, stddev=1.0)\n",
    "runcnorm_tsr"
   ]
  },
  {
   "cell_type": "markdown",
   "metadata": {},
   "source": [
    "- Randomizing entries of arrays."
   ]
  },
  {
   "cell_type": "code",
   "execution_count": 14,
   "metadata": {},
   "outputs": [
    {
     "data": {
      "text/plain": [
       "<tf.Tensor 'RandomShuffle:0' shape=(8, 9) dtype=int32>"
      ]
     },
     "execution_count": 14,
     "metadata": {},
     "output_type": "execute_result"
    }
   ],
   "source": [
    "shuffled_output = tf.random_shuffle(filled_tsr)\n",
    "shuffled_output"
   ]
  },
  {
   "cell_type": "code",
   "execution_count": 15,
   "metadata": {},
   "outputs": [
    {
     "data": {
      "text/plain": [
       "<tf.Tensor 'random_crop:0' shape=(4, 4) dtype=int32>"
      ]
     },
     "execution_count": 15,
     "metadata": {},
     "output_type": "execute_result"
    }
   ],
   "source": [
    "cropped_output = tf.random_crop(filled_tsr, size=[4,4])\n",
    "cropped_output"
   ]
  },
  {
   "cell_type": "markdown",
   "metadata": {},
   "source": [
    "## Using Placeholders and Variables"
   ]
  },
  {
   "cell_type": "markdown",
   "metadata": {},
   "source": [
    "- **Variables** are the parameters of the algorithm and TF keeps track of how to change these to optimize the algorithm.\n",
    "- **Placeholders** are objects that allow you to feed in data for a specific type and shape and depend on the results of the computational graph"
   ]
  },
  {
   "cell_type": "code",
   "execution_count": 16,
   "metadata": {
    "collapsed": true
   },
   "outputs": [],
   "source": [
    "var = tf.Variable(tf.zeros([3,4]))"
   ]
  },
  {
   "cell_type": "code",
   "execution_count": 17,
   "metadata": {
    "collapsed": true
   },
   "outputs": [],
   "source": [
    "sess = tf.Session()"
   ]
  },
  {
   "cell_type": "code",
   "execution_count": 18,
   "metadata": {
    "collapsed": true
   },
   "outputs": [],
   "source": [
    "initialize_op = tf.global_variables_initializer()"
   ]
  },
  {
   "cell_type": "code",
   "execution_count": 19,
   "metadata": {},
   "outputs": [],
   "source": [
    "sess.run(initialize_op)"
   ]
  },
  {
   "cell_type": "code",
   "execution_count": 20,
   "metadata": {},
   "outputs": [
    {
     "data": {
      "text/plain": [
       "array([[ 0.,  0.,  0.,  0.],\n",
       "       [ 0.,  0.,  0.,  0.],\n",
       "       [ 0.,  0.,  0.,  0.]], dtype=float32)"
      ]
     },
     "execution_count": 20,
     "metadata": {},
     "output_type": "execute_result"
    }
   ],
   "source": [
    "sess.run(var)"
   ]
  },
  {
   "cell_type": "markdown",
   "metadata": {},
   "source": [
    "- **Placeholders** are just holding position for data to be fed into the graph. Placeholders get data from a ```feed_dict``` argument in the session."
   ]
  },
  {
   "cell_type": "code",
   "execution_count": 21,
   "metadata": {
    "collapsed": true
   },
   "outputs": [],
   "source": [
    "x = tf.placeholder(tf.float32, shape=[2,2])\n",
    "y = tf.identity(x)"
   ]
  },
  {
   "cell_type": "code",
   "execution_count": 22,
   "metadata": {
    "collapsed": true
   },
   "outputs": [],
   "source": [
    "x_vals = np.random.rand(2, 2)"
   ]
  },
  {
   "cell_type": "code",
   "execution_count": 23,
   "metadata": {},
   "outputs": [
    {
     "data": {
      "text/plain": [
       "array([[ 0.23918618,  0.39906269],\n",
       "       [ 0.66620022,  0.7303313 ]], dtype=float32)"
      ]
     },
     "execution_count": 23,
     "metadata": {},
     "output_type": "execute_result"
    }
   ],
   "source": [
    "sess.run(y, feed_dict={x: x_vals})"
   ]
  },
  {
   "cell_type": "markdown",
   "metadata": {},
   "source": [
    "## Working with Matrices"
   ]
  },
  {
   "cell_type": "markdown",
   "metadata": {},
   "source": [
    "### Creating matrices"
   ]
  },
  {
   "cell_type": "code",
   "execution_count": 24,
   "metadata": {
    "collapsed": true
   },
   "outputs": [],
   "source": [
    "identity_matrix = tf.diag([1.0, 1.0, 1.0])\n",
    "A = tf.truncated_normal([2, 3])\n",
    "B = tf.fill([2, 3], 10.0)\n",
    "C = tf.random_uniform([3,2])\n",
    "D = tf.convert_to_tensor(np.array([[1., 2., 3.], [-3., -7., -1.], [0., 5., -2.]]))"
   ]
  },
  {
   "cell_type": "code",
   "execution_count": 25,
   "metadata": {},
   "outputs": [
    {
     "data": {
      "text/plain": [
       "array([[ 1.,  0.,  0.],\n",
       "       [ 0.,  1.,  0.],\n",
       "       [ 0.,  0.,  1.]], dtype=float32)"
      ]
     },
     "execution_count": 25,
     "metadata": {},
     "output_type": "execute_result"
    }
   ],
   "source": [
    "sess.run(identity_matrix)"
   ]
  },
  {
   "cell_type": "code",
   "execution_count": 26,
   "metadata": {},
   "outputs": [
    {
     "data": {
      "text/plain": [
       "(array([[-0.32632449,  1.34579277, -0.29237071],\n",
       "        [ 0.4092541 , -1.52901757, -0.02025244]], dtype=float32),\n",
       " array([[ 10.,  10.,  10.],\n",
       "        [ 10.,  10.,  10.]], dtype=float32))"
      ]
     },
     "execution_count": 26,
     "metadata": {},
     "output_type": "execute_result"
    }
   ],
   "source": [
    "sess.run(A),  sess.run(B)"
   ]
  },
  {
   "cell_type": "code",
   "execution_count": 27,
   "metadata": {},
   "outputs": [
    {
     "data": {
      "text/plain": [
       "array([[ 0.37997091,  0.88248253],\n",
       "       [ 0.82891083,  0.99469984],\n",
       "       [ 0.82615101,  0.26731133]], dtype=float32)"
      ]
     },
     "execution_count": 27,
     "metadata": {},
     "output_type": "execute_result"
    }
   ],
   "source": [
    "sess.run(C)"
   ]
  },
  {
   "cell_type": "code",
   "execution_count": 28,
   "metadata": {},
   "outputs": [
    {
     "data": {
      "text/plain": [
       "array([[ 1.,  2.,  3.],\n",
       "       [-3., -7., -1.],\n",
       "       [ 0.,  5., -2.]])"
      ]
     },
     "execution_count": 28,
     "metadata": {},
     "output_type": "execute_result"
    }
   ],
   "source": [
    "sess.run(D)"
   ]
  },
  {
   "cell_type": "markdown",
   "metadata": {},
   "source": [
    "### Addition and Subtraction"
   ]
  },
  {
   "cell_type": "code",
   "execution_count": 29,
   "metadata": {},
   "outputs": [
    {
     "data": {
      "text/plain": [
       "array([[  8.89369202,   8.67115593,  10.57224464],\n",
       "       [ 11.18019295,  10.01214409,  10.06138611]], dtype=float32)"
      ]
     },
     "execution_count": 29,
     "metadata": {},
     "output_type": "execute_result"
    }
   ],
   "source": [
    "sess.run(A+B)"
   ]
  },
  {
   "cell_type": "code",
   "execution_count": 30,
   "metadata": {},
   "outputs": [
    {
     "data": {
      "text/plain": [
       "array([[ 0.,  0.,  0.],\n",
       "       [ 0.,  0.,  0.]], dtype=float32)"
      ]
     },
     "execution_count": 30,
     "metadata": {},
     "output_type": "execute_result"
    }
   ],
   "source": [
    "sess.run(B-B)"
   ]
  },
  {
   "cell_type": "markdown",
   "metadata": {},
   "source": [
    "### Multiplication"
   ]
  },
  {
   "cell_type": "code",
   "execution_count": 31,
   "metadata": {},
   "outputs": [
    {
     "data": {
      "text/plain": [
       "array([[ 10.,  10.,  10.],\n",
       "       [ 10.,  10.,  10.]], dtype=float32)"
      ]
     },
     "execution_count": 31,
     "metadata": {},
     "output_type": "execute_result"
    }
   ],
   "source": [
    "sess.run(tf.matmul(B, identity_matrix))"
   ]
  },
  {
   "cell_type": "markdown",
   "metadata": {},
   "source": [
    "### Transpose"
   ]
  },
  {
   "cell_type": "code",
   "execution_count": 32,
   "metadata": {},
   "outputs": [
    {
     "data": {
      "text/plain": [
       "array([[ 0.3348223 ,  0.51810145,  0.76940835],\n",
       "       [ 0.26021373,  0.14425159,  0.33913887]], dtype=float32)"
      ]
     },
     "execution_count": 32,
     "metadata": {},
     "output_type": "execute_result"
    }
   ],
   "source": [
    "sess.run(tf.transpose(C))"
   ]
  },
  {
   "cell_type": "markdown",
   "metadata": {},
   "source": [
    "### Determinant"
   ]
  },
  {
   "cell_type": "code",
   "execution_count": 33,
   "metadata": {},
   "outputs": [
    {
     "data": {
      "text/plain": [
       "-38.0"
      ]
     },
     "execution_count": 33,
     "metadata": {},
     "output_type": "execute_result"
    }
   ],
   "source": [
    "sess.run(tf.matrix_determinant(D))"
   ]
  },
  {
   "cell_type": "markdown",
   "metadata": {},
   "source": [
    "### Inverse"
   ]
  },
  {
   "cell_type": "code",
   "execution_count": 34,
   "metadata": {},
   "outputs": [
    {
     "data": {
      "text/plain": [
       "array([[-0.5       , -0.5       , -0.5       ],\n",
       "       [ 0.15789474,  0.05263158,  0.21052632],\n",
       "       [ 0.39473684,  0.13157895,  0.02631579]])"
      ]
     },
     "execution_count": 34,
     "metadata": {},
     "output_type": "execute_result"
    }
   ],
   "source": [
    "sess.run(tf.matrix_inverse(D))"
   ]
  },
  {
   "cell_type": "markdown",
   "metadata": {},
   "source": [
    "### Decomposition"
   ]
  },
  {
   "cell_type": "code",
   "execution_count": 35,
   "metadata": {},
   "outputs": [
    {
     "data": {
      "text/plain": [
       "array([[ 1.,  0.,  0.],\n",
       "       [ 0.,  1.,  0.],\n",
       "       [ 0.,  0.,  1.]], dtype=float32)"
      ]
     },
     "execution_count": 35,
     "metadata": {},
     "output_type": "execute_result"
    }
   ],
   "source": [
    "sess.run(tf.cholesky(identity_matrix))"
   ]
  },
  {
   "cell_type": "markdown",
   "metadata": {},
   "source": [
    "### Eigenvalues and Eigenvectors"
   ]
  },
  {
   "cell_type": "code",
   "execution_count": 36,
   "metadata": {},
   "outputs": [
    {
     "data": {
      "text/plain": [
       "(array([-10.65907521,  -0.22750691,   2.88658212]),\n",
       " array([[ 0.21749542,  0.63250104, -0.74339638],\n",
       "        [ 0.84526515,  0.2587998 ,  0.46749277],\n",
       "        [-0.4880805 ,  0.73004459,  0.47834331]]))"
      ]
     },
     "execution_count": 36,
     "metadata": {},
     "output_type": "execute_result"
    }
   ],
   "source": [
    "sess.run(tf.self_adjoint_eig(D))"
   ]
  },
  {
   "cell_type": "markdown",
   "metadata": {},
   "source": [
    "## Implementing Activation Functions"
   ]
  },
  {
   "cell_type": "markdown",
   "metadata": {},
   "source": [
    "### Rectified Linear Unit, ReLU"
   ]
  },
  {
   "cell_type": "code",
   "execution_count": 37,
   "metadata": {},
   "outputs": [
    {
     "data": {
      "text/plain": [
       "array([ 3. , -5.9,  1.2,  4. ])"
      ]
     },
     "execution_count": 37,
     "metadata": {},
     "output_type": "execute_result"
    }
   ],
   "source": [
    "data = np.array([3.0, -5.9, 1.2, 4.0])\n",
    "data"
   ]
  },
  {
   "cell_type": "code",
   "execution_count": 38,
   "metadata": {},
   "outputs": [
    {
     "data": {
      "text/plain": [
       "array([ 3. ,  0. ,  1.2,  4. ])"
      ]
     },
     "execution_count": 38,
     "metadata": {},
     "output_type": "execute_result"
    }
   ],
   "source": [
    "sess.run(tf.nn.relu(data))"
   ]
  },
  {
   "cell_type": "code",
   "execution_count": 39,
   "metadata": {},
   "outputs": [
    {
     "data": {
      "text/plain": [
       "array([ 3. ,  0. ,  1.2,  4. ])"
      ]
     },
     "execution_count": 39,
     "metadata": {},
     "output_type": "execute_result"
    }
   ],
   "source": [
    "sess.run(tf.nn.relu6(data))"
   ]
  },
  {
   "cell_type": "markdown",
   "metadata": {},
   "source": [
    "### Sigmoid\n",
    "\n",
    "- Sigmoid function is the most common continuous and smooth activation function. It is also called a logistic function."
   ]
  },
  {
   "cell_type": "code",
   "execution_count": 40,
   "metadata": {},
   "outputs": [
    {
     "data": {
      "text/plain": [
       "array([ 0.95257413,  0.00273196,  0.76852478,  0.98201379])"
      ]
     },
     "execution_count": 40,
     "metadata": {},
     "output_type": "execute_result"
    }
   ],
   "source": [
    "sess.run(tf.nn.sigmoid(data))"
   ]
  },
  {
   "cell_type": "markdown",
   "metadata": {},
   "source": [
    "### tanh"
   ]
  },
  {
   "cell_type": "code",
   "execution_count": 41,
   "metadata": {},
   "outputs": [
    {
     "data": {
      "text/plain": [
       "array([ 0.99505475, -0.99998499,  0.83365461,  0.9993293 ])"
      ]
     },
     "execution_count": 41,
     "metadata": {},
     "output_type": "execute_result"
    }
   ],
   "source": [
    "sess.run(tf.nn.tanh(data))"
   ]
  },
  {
   "cell_type": "markdown",
   "metadata": {},
   "source": [
    "### softsign"
   ]
  },
  {
   "cell_type": "code",
   "execution_count": 42,
   "metadata": {},
   "outputs": [
    {
     "data": {
      "text/plain": [
       "array([ 0.75      , -0.85507246,  0.54545455,  0.8       ])"
      ]
     },
     "execution_count": 42,
     "metadata": {},
     "output_type": "execute_result"
    }
   ],
   "source": [
    "sess.run(tf.nn.softsign(data))"
   ]
  },
  {
   "cell_type": "markdown",
   "metadata": {},
   "source": [
    "### softplus"
   ]
  },
  {
   "cell_type": "code",
   "execution_count": 43,
   "metadata": {},
   "outputs": [
    {
     "data": {
      "text/plain": [
       "array([  3.04858735e+00,   2.73569938e-03,   1.46328247e+00,\n",
       "         4.01814993e+00])"
      ]
     },
     "execution_count": 43,
     "metadata": {},
     "output_type": "execute_result"
    }
   ],
   "source": [
    "sess.run(tf.nn.softplus(data))"
   ]
  },
  {
   "cell_type": "markdown",
   "metadata": {},
   "source": [
    "### Exponential Linear Unit, ELU"
   ]
  },
  {
   "cell_type": "code",
   "execution_count": 44,
   "metadata": {},
   "outputs": [
    {
     "data": {
      "text/plain": [
       "array([ 3.        , -0.99726056,  1.2       ,  4.        ])"
      ]
     },
     "execution_count": 44,
     "metadata": {},
     "output_type": "execute_result"
    }
   ],
   "source": [
    "sess.run(tf.nn.elu(data))"
   ]
  },
  {
   "cell_type": "markdown",
   "metadata": {},
   "source": [
    "NOTE: These activation functions are the way that we introduce nonlinearities in neural networks or other computational graphs in the future."
   ]
  },
  {
   "cell_type": "code",
   "execution_count": 45,
   "metadata": {},
   "outputs": [
    {
     "data": {
      "application/json": {
       "Software versions": [
        {
         "module": "Python",
         "version": "3.6.2 64bit [GCC 4.8.2 20140120 (Red Hat 4.8.2-15)]"
        },
        {
         "module": "IPython",
         "version": "6.1.0"
        },
        {
         "module": "OS",
         "version": "Linux 4.4.0 53 generic x86_64 with debian stretch sid"
        },
        {
         "module": "tensorflow",
         "version": "1.3.0"
        },
        {
         "module": "numpy",
         "version": "1.12.1"
        }
       ]
      },
      "text/html": [
       "<table><tr><th>Software</th><th>Version</th></tr><tr><td>Python</td><td>3.6.2 64bit [GCC 4.8.2 20140120 (Red Hat 4.8.2-15)]</td></tr><tr><td>IPython</td><td>6.1.0</td></tr><tr><td>OS</td><td>Linux 4.4.0 53 generic x86_64 with debian stretch sid</td></tr><tr><td>tensorflow</td><td>1.3.0</td></tr><tr><td>numpy</td><td>1.12.1</td></tr><tr><td colspan='2'>Sun Sep 17 08:36:16 2017 CDT</td></tr></table>"
      ],
      "text/latex": [
       "\\begin{tabular}{|l|l|}\\hline\n",
       "{\\bf Software} & {\\bf Version} \\\\ \\hline\\hline\n",
       "Python & 3.6.2 64bit [GCC 4.8.2 20140120 (Red Hat 4.8.2-15)] \\\\ \\hline\n",
       "IPython & 6.1.0 \\\\ \\hline\n",
       "OS & Linux 4.4.0 53 generic x86\\_64 with debian stretch sid \\\\ \\hline\n",
       "tensorflow & 1.3.0 \\\\ \\hline\n",
       "numpy & 1.12.1 \\\\ \\hline\n",
       "\\hline \\multicolumn{2}{|l|}{Sun Sep 17 08:36:16 2017 CDT} \\\\ \\hline\n",
       "\\end{tabular}\n"
      ],
      "text/plain": [
       "Software versions\n",
       "Python 3.6.2 64bit [GCC 4.8.2 20140120 (Red Hat 4.8.2-15)]\n",
       "IPython 6.1.0\n",
       "OS Linux 4.4.0 53 generic x86_64 with debian stretch sid\n",
       "tensorflow 1.3.0\n",
       "numpy 1.12.1\n",
       "Sun Sep 17 08:36:16 2017 CDT"
      ]
     },
     "execution_count": 45,
     "metadata": {},
     "output_type": "execute_result"
    }
   ],
   "source": [
    "%load_ext version_information\n",
    "%version_information tensorflow, numpy"
   ]
  }
 ],
 "metadata": {
  "kernelspec": {
   "display_name": "Python 3",
   "language": "python",
   "name": "python3"
  },
  "language_info": {
   "codemirror_mode": {
    "name": "ipython",
    "version": 3
   },
   "file_extension": ".py",
   "mimetype": "text/x-python",
   "name": "python",
   "nbconvert_exporter": "python",
   "pygments_lexer": "ipython3",
   "version": "3.6.2"
  },
  "toc": {
   "nav_menu": {},
   "number_sections": true,
   "sideBar": true,
   "skip_h1_title": false,
   "toc_cell": true,
   "toc_position": {},
   "toc_section_display": "block",
   "toc_window_display": true
  }
 },
 "nbformat": 4,
 "nbformat_minor": 2
}
