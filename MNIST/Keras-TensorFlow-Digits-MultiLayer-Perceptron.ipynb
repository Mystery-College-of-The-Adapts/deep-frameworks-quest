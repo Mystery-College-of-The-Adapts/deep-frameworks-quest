{
 "cells": [
  {
   "cell_type": "code",
   "execution_count": 1,
   "metadata": {},
   "outputs": [
    {
     "data": {
      "application/javascript": [
       "IPython.notebook.set_autosave_interval(20000)"
      ]
     },
     "metadata": {},
     "output_type": "display_data"
    },
    {
     "name": "stdout",
     "output_type": "stream",
     "text": [
      "Autosaving every 20 seconds\n"
     ]
    }
   ],
   "source": [
    "%autosave 20"
   ]
  },
  {
   "cell_type": "code",
   "execution_count": 2,
   "metadata": {
    "collapsed": true
   },
   "outputs": [],
   "source": [
    "# Author: Anderson Banihirwe\n",
    "# License: MIT"
   ]
  },
  {
   "cell_type": "markdown",
   "metadata": {},
   "source": [
    "![](http://deeplearning.net/tutorial/_images/mlp.png)\n",
    "\n",
    "<h1 align=\"center\"> Backpropagation and Multilayer Perceptron</h1>"
   ]
  },
  {
   "cell_type": "markdown",
   "metadata": {},
   "source": [
    "<h1 id=\"tocheading\">Table of Contents</h1>\n",
    "<div id=\"toc\"></div>"
   ]
  },
  {
   "cell_type": "markdown",
   "metadata": {},
   "source": [
    "# Goals:\n",
    "- Train a neural network with keras\n",
    "- Implement Gradient Descent in NumPy\n",
    "- Auto-differentiation with TensorFlow\n",
    "\n",
    "# Dataset Introduction\n",
    "\n",
    "We are going to use sklearn-digits: 10 classes Handwritten digits. For more details, go [here](http://scikit-learn.org/stable/modules/generated/sklearn.datasets.load_digits.html#sklearn.datasets.load_digits).\n",
    "\n",
    "Each datapoint is a 8x8 image of a digit:\n",
    "\n",
    "\n",
    "|                   | Description   |\n",
    "|-------------------|---------------|\n",
    "| Classes           | 10            |\n",
    "| Samples per class | ~180          |\n",
    "| Samples total     | 1797          |\n",
    "| Dimensionality    | 64            |\n",
    "| Features          | integers 0-16 |"
   ]
  },
  {
   "cell_type": "markdown",
   "metadata": {},
   "source": [
    "# Load the data"
   ]
  },
  {
   "cell_type": "code",
   "execution_count": 3,
   "metadata": {
    "collapsed": true
   },
   "outputs": [],
   "source": [
    "%matplotlib inline\n",
    "import matplotlib.pyplot as plt\n",
    "import numpy as np\n",
    "from sklearn.datasets import load_digits\n",
    "import sklearn\n",
    "import matplotlib as mpl"
   ]
  },
  {
   "cell_type": "code",
   "execution_count": 4,
   "metadata": {},
   "outputs": [
    {
     "name": "stdout",
     "output_type": "stream",
     "text": [
      "The scikit-learn version is 0.18.1.\n",
      "The NumPy version is 1.12.1.\n",
      "The Matplotlib version is 2.0.0.\n"
     ]
    }
   ],
   "source": [
    "print('The scikit-learn version is {}.'.format(sklearn.__version__))\n",
    "print('The NumPy version is {}.'.format(np.__version__))\n",
    "print('The Matplotlib version is {}.'.format(mpl.__version__))"
   ]
  },
  {
   "cell_type": "markdown",
   "metadata": {},
   "source": [
    "# Initialize Random Number Generator\n",
    "\n",
    "Next we need to initialize the random number generator to a constant value (7).\n",
    "\n",
    "*This is important to ensure that the results we achieve from this model can be achieved again precisely. It ensures that the stochastic process of training a neural network model can be reproduced.*"
   ]
  },
  {
   "cell_type": "code",
   "execution_count": 5,
   "metadata": {},
   "outputs": [],
   "source": [
    "# fix random seed for reproducibility\n",
    "seed = 7\n",
    "np.random.seed(seed)"
   ]
  },
  {
   "cell_type": "code",
   "execution_count": 6,
   "metadata": {},
   "outputs": [
    {
     "name": "stdout",
     "output_type": "stream",
     "text": [
      "(1797, 64)\n",
      "<class 'numpy.ndarray'>\n"
     ]
    }
   ],
   "source": [
    "digits = load_digits()\n",
    "print(digits.data.shape)\n",
    "print(type(digits.data))"
   ]
  },
  {
   "cell_type": "code",
   "execution_count": 7,
   "metadata": {},
   "outputs": [
    {
     "data": {
      "image/png": "[encoded data removed]",
      "text/plain": [
       "<matplotlib.figure.Figure at 0x29206f25e80>"
      ]
     },
     "metadata": {},
     "output_type": "display_data"
    }
   ],
   "source": [
    "# Display some digit\n",
    "plt.imshow(digits.images[0], cmap=plt.cm.gray_r, interpolation='nearest')\n",
    "plt.title(\"image label: {}\".format(digits.target[0]))\n",
    "plt.show()"
   ]
  },
  {
   "cell_type": "markdown",
   "metadata": {},
   "source": [
    "# Data Preprocessing\n",
    "We are going to do some preprocessing before training our classifier.\n",
    "- Convert our data in an array using ```np.asarray()```.\n",
    "- Split our dataset into training and testing sets with ```train_test_split()```\n",
    "- Feature Scaling using standardization: This is used to bring all values into the same range. Feature standardization makes the values of each feature in the data have zero-mean (when subtracting the mean in the numerator) and unit-variance. $$x'=\\frac{x-\\bar{x}}{\\sigma}$$ Where $x$ is the original feature vector, ${\\bar {x}}$ is the mean of that feature vector, and  $\\sigma$  is its standard deviation.\n",
    "\n",
    " - The motivation behind this:  Standardization of a dataset is a common requirement for many machine learning estimators: they might behave badly if the individual feature do not more or less look like standard normally distributed data (e.g. Gaussian with 0 mean and unit variance). For instance many elements used in the objective function of a learning algorithm (such as the RBF kernel of Support Vector Machines or the L1 and L2 regularizers of linear models) assume that all features are centered around 0 and have variance in the same order. If a feature has a variance that is orders of magnitude larger that others, it might dominate the objective function and make the estimator unable to learn from other features correctly as expected.\n",
    " \n",
    " - Another reason why feature scaling is applied is that [**gradient descent**](https://en.wikipedia.org/wiki/Gradient_descent) converges much faster with feature scaling than without it.\n",
    "\n"
   ]
  },
  {
   "cell_type": "code",
   "execution_count": 8,
   "metadata": {},
   "outputs": [],
   "source": [
    "from sklearn import preprocessing\n",
    "from sklearn.model_selection import train_test_split\n",
    "\n",
    "# Convert our data in array\n",
    "data = np.asarray(digits.data, dtype='float32')\n",
    "target = np.asarray(digits.target, dtype='int32')\n",
    "\n",
    "# Split our data in training and testing set\n",
    "X_train, X_test, y_train, y_test = train_test_split(\n",
    "                        data, target, test_size=0.15, random_state=37)\n",
    "\n",
    "# Feature Standardization mean = 0; standard deviation = 1.0\n",
    "scaler = preprocessing.StandardScaler()\n",
    "X_train = scaler.fit_transform(X_train)\n",
    "X_test = scaler.fit_transform(X_test)"
   ]
  },
  {
   "cell_type": "code",
   "execution_count": 9,
   "metadata": {},
   "outputs": [
    {
     "name": "stdout",
     "output_type": "stream",
     "text": [
      "Scaler Mean:\n",
      "\n",
      " [  0.00000000e+00   3.33333343e-01   5.27407408e+00   1.17962961e+01\n",
      "   1.18000002e+01   5.62222242e+00   1.44444442e+00   1.88888893e-01\n",
      "   0.00000000e+00   1.99629629e+00   1.05851851e+01   1.22555552e+01\n",
      "   1.03740740e+01   8.01111126e+00   1.86296296e+00   1.59259260e-01\n",
      "   0.00000000e+00   2.51851845e+00   1.02888889e+01   7.68148136e+00\n",
      "   7.01481485e+00   7.62962961e+00   1.98518515e+00   8.14814791e-02\n",
      "   0.00000000e+00   2.36666656e+00   9.35555553e+00   9.32222176e+00\n",
      "   9.61481476e+00   7.44074059e+00   2.59629631e+00   0.00000000e+00\n",
      "   0.00000000e+00   2.21481490e+00   7.57407427e+00   9.02962971e+00\n",
      "   9.90740776e+00   8.47037029e+00   2.96296287e+00   0.00000000e+00\n",
      "   1.11111114e-02   1.65925920e+00   7.06296301e+00   7.22592592e+00\n",
      "   7.79629612e+00   8.07407379e+00   3.28888893e+00   3.33333351e-02\n",
      "   0.00000000e+00   8.22222233e-01   7.58518505e+00   9.39259243e+00\n",
      "   9.68518543e+00   8.65555573e+00   3.48888898e+00   1.92592591e-01\n",
      "   0.00000000e+00   2.81481475e-01   5.67407417e+00   1.22555552e+01\n",
      "   1.19555559e+01   6.44814825e+00   2.02962971e+00   4.88888890e-01]\n",
      "\n",
      "\n",
      " [ 1.          0.88610721  4.84260416  4.17922258  4.16386461  5.56159687\n",
      "  3.47619796  1.18222332  1.          3.05322933  5.46692038  3.86214614\n",
      "  4.88126326  6.01262808  3.80542278  1.02225459  1.          3.45843577\n",
      "  5.27940273  5.78715467  6.1955595   6.14544773  3.70981526  0.50992852\n",
      "  1.          2.96691489  5.97087288  5.87240124  6.26806498  5.78008842\n",
      "  3.92286372  1.          1.          3.2894578   6.15600061  6.29278278\n",
      "  5.9618187   5.89640665  3.49689054  1.          0.18223554  3.05908155\n",
      "  6.60805702  6.30261946  6.16615391  5.85456657  4.34931803  0.28995571\n",
      "  1.          1.92975235  5.71532679  5.18487167  5.22183561  6.02124929\n",
      "  4.78247929  0.91081041  1.          0.89568484  5.24769163  4.33391714\n",
      "  4.73343563  5.76283646  4.30407476  2.25048709]\n"
     ]
    }
   ],
   "source": [
    "print(\"Scaler Mean:\\n\\n\", scaler.mean_)\n",
    "print(\"\\n\\n\", scaler.scale_)"
   ]
  },
  {
   "cell_type": "markdown",
   "metadata": {},
   "source": [
    "Let's display one of the transformed sample (after feature standardization)"
   ]
  },
  {
   "cell_type": "code",
   "execution_count": 10,
   "metadata": {},
   "outputs": [
    {
     "data": {
      "image/png": "[encoded data removed]",
      "text/plain": [
       "<matplotlib.figure.Figure at 0x29206f2acf8>"
      ]
     },
     "metadata": {},
     "output_type": "display_data"
    }
   ],
   "source": [
    "sample_index = 0\n",
    "plt.imshow(X_train[sample_index].reshape(8, 8), cmap=plt.cm.gray_r, \n",
    "           interpolation=\"nearest\")\n",
    "plt.title(\"Transformed Sample\\n(Standardization)\");"
   ]
  },
  {
   "cell_type": "markdown",
   "metadata": {},
   "source": [
    "The Scaler object make it possible to recover the original sample:"
   ]
  },
  {
   "cell_type": "code",
   "execution_count": 11,
   "metadata": {},
   "outputs": [
    {
     "data": {
      "image/png": "[encoded data removed]",
      "text/plain": [
       "<matplotlib.figure.Figure at 0x29206d556a0>"
      ]
     },
     "metadata": {},
     "output_type": "display_data"
    }
   ],
   "source": [
    "plt.imshow(scaler.inverse_transform(X_train[sample_index]).reshape(8, 8), \n",
    "           cmap=plt.cm.gray_r, interpolation=\"nearest\")\n",
    "plt.title(\"original sample\");"
   ]
  },
  {
   "cell_type": "code",
   "execution_count": 12,
   "metadata": {},
   "outputs": [
    {
     "name": "stdout",
     "output_type": "stream",
     "text": [
      "X_train-shape --> (1527, 64)\n",
      "y_train-shape --> (1527,)\n",
      "X_test-shape  --> (270, 64)\n",
      "y_test-shape  --> (270,)\n"
     ]
    }
   ],
   "source": [
    "print(\"X_train-shape --> {}\".format(X_train.shape))\n",
    "print(\"y_train-shape --> {}\".format(y_train.shape))\n",
    "print(\"X_test-shape  --> {}\".format(X_test.shape))\n",
    "print(\"y_test-shape  --> {}\".format(y_test.shape))"
   ]
  },
  {
   "cell_type": "markdown",
   "metadata": {},
   "source": [
    "# Feed Forward Neural Network with Keras\n",
    "\n",
    "## Objectives\n",
    "The objectives of this section include:\n",
    "- Building and training a feedforward network using [**```Keras```**](https://keras.io/getting-started/sequential-model-guide/)\n",
    "- Experimenting with different optimizers, activations, size of layers, initialization methods.\n",
    "\n",
    "## 1.Keras Workflow\n",
    "\n",
    "### Encode The Output Variable\n",
    "\n",
    "When modeling multi-class classification problems using neural networks, it is good practice to reshape the output attribute from a vector that contains values for each class value to be a matrix with a boolean for each class value and whether or not a given instance has that class value or not.\n",
    "\n",
    "This is called  [\"one-hot-encoding\"](https://en.wikipedia.org/wiki/One-hot) or creating dummy variables from a categorical variable.\n",
    "\n",
    "For example, in this problem 10 class values are integer 0 to 9.\n",
    "Let's print the first five observations from the training set labels."
   ]
  },
  {
   "cell_type": "code",
   "execution_count": 13,
   "metadata": {},
   "outputs": [
    {
     "data": {
      "text/plain": [
       "array([2, 9, 5, 1, 6])"
      ]
     },
     "execution_count": 13,
     "metadata": {},
     "output_type": "execute_result"
    }
   ],
   "source": [
    "y_train[:5]"
   ]
  },
  {
   "cell_type": "markdown",
   "metadata": {},
   "source": [
    "As you can see, each label is just one integer value. We observe that the first entry is \"Two\". We can turn this into a one-hot encoded binary matrix for each data instance. We can do this by first encoding the labels consistently to integers using the scikit-learn [```class LabelEncoder```](http://scikit-learn.org/stable/modules/generated/sklearn.preprocessing.LabelEncoder.html#sklearn.preprocessing.LabelEncoder). Then convert the vector of integers to a one hot encoding using the Keras function [```to_categorical()```](https://keras.io/utils/).\n"
   ]
  },
  {
   "cell_type": "code",
   "execution_count": 14,
   "metadata": {},
   "outputs": [
    {
     "name": "stderr",
     "output_type": "stream",
     "text": [
      "Using TensorFlow backend.\n"
     ]
    }
   ],
   "source": [
    "from sklearn.preprocessing import LabelEncoder\n",
    "from keras.utils.np_utils import to_categorical\n",
    "\n",
    "# encode class values as integers\n",
    "encoder = LabelEncoder()\n",
    "encoder.fit(y_train)\n",
    "endoded_Y = encoder.transform(y_train)\n",
    "Y_train = to_categorical(endoded_Y)"
   ]
  },
  {
   "cell_type": "code",
   "execution_count": 15,
   "metadata": {},
   "outputs": [
    {
     "data": {
      "text/plain": [
       "array([[ 0.,  0.,  1.,  0.,  0.,  0.,  0.,  0.,  0.,  0.],\n",
       "       [ 0.,  0.,  0.,  0.,  0.,  0.,  0.,  0.,  0.,  1.],\n",
       "       [ 0.,  0.,  0.,  0.,  0.,  1.,  0.,  0.,  0.,  0.],\n",
       "       [ 0.,  1.,  0.,  0.,  0.,  0.,  0.,  0.,  0.,  0.],\n",
       "       [ 0.,  0.,  0.,  0.,  0.,  0.,  1.,  0.,  0.,  0.]])"
      ]
     },
     "execution_count": 15,
     "metadata": {},
     "output_type": "execute_result"
    }
   ],
   "source": [
    "Y_train[0:5]"
   ]
  },
  {
   "cell_type": "markdown",
   "metadata": {},
   "source": [
    "### Define The Neural Network Model\n",
    "\n",
    "We can now build and train our feed-forward neural network using the high level API from keras. \n",
    "\n",
    "**Note:** The Keras library provides wrapper classes to allow you to use neural network models developed with Keras in Scikit-learn. \n",
    "\n",
    "There is a [```KerasClassifier```](https://keras.io/scikit-learn-api/) class in Keras that can be used as an Estimator in scikit-learn, the base type of model in the library. The KerasClassifier takes the name of a function as an argument. This function must return the constructed neural network model, ready for training.\n",
    "\n",
    "Below is a function that will create a baseline feed-forward network for digit classification. It creates a simple fully connected network with one hidden layer that contains **100 neurons units**.\n",
    "\n",
    "- First we define the model by stacking layers with the right dimensions\n",
    "- then we define a loss function and plug the SGD optimizer\n",
    "- then we feed the model the training data for fixed number of epochs\n"
   ]
  },
  {
   "cell_type": "code",
   "execution_count": 16,
   "metadata": {},
   "outputs": [
    {
     "name": "stdout",
     "output_type": "stream",
     "text": [
      "Keras version is 2.0.3.\n"
     ]
    }
   ],
   "source": [
    "import keras\n",
    "from keras.models import Sequential\n",
    "from keras.layers.core import Dense, Activation\n",
    "from keras import optimizers\n",
    "from keras.wrappers.scikit_learn import KerasClassifier\n",
    "print('Keras version is {}.'.format(keras.__version__))"
   ]
  },
  {
   "cell_type": "code",
   "execution_count": 17,
   "metadata": {
    "collapsed": true
   },
   "outputs": [],
   "source": [
    "# define some constants\n",
    "N = X_train.shape[1]\n",
    "H = 100\n",
    "K = 10"
   ]
  },
  {
   "cell_type": "code",
   "execution_count": 47,
   "metadata": {},
   "outputs": [
    {
     "data": {
      "text/plain": [
       "64"
      ]
     },
     "execution_count": 47,
     "metadata": {},
     "output_type": "execute_result"
    }
   ],
   "source": [
    "X_train.shape[1]"
   ]
  },
  {
   "cell_type": "code",
   "execution_count": 18,
   "metadata": {
    "collapsed": true
   },
   "outputs": [],
   "source": [
    "# define baseline mlp model\n",
    "def baseline_mlp_model():\n",
    "    # Create model\n",
    "    model = Sequential()\n",
    "    model.add(Dense(units=H, input_dim=N))\n",
    "    model.add(Activation(\"tanh\"))\n",
    "    model.add(Dense(K))\n",
    "    model.add(Activation(\"softmax\"))\n",
    "    \n",
    "    model.compile(optimizer=optimizers.SGD(lr=0.01),\n",
    "                  loss='categorical_crossentropy', metrics=['accuracy'])\n",
    "    return model\n",
    "    \n",
    "    "
   ]
  },
  {
   "cell_type": "markdown",
   "metadata": {},
   "source": [
    "We can now create our KerasClassifier for use in scikit-learn.\n",
    "\n",
    "We can also pass arguments in the construction of the KerasClassifier class that will be passed on to the ```fit()``` function internally used to train the neural network. Here, we pass the number of epochs as 20 and batch size as 32 to use when training the model. Debugging is also turned on when training by setting verbose to 1."
   ]
  },
  {
   "cell_type": "code",
   "execution_count": 43,
   "metadata": {
    "collapsed": true
   },
   "outputs": [],
   "source": [
    "estimator = KerasClassifier(build_fn=baseline_mlp_model, \n",
    "                            epochs=15, batch_size= 32, verbose=2)"
   ]
  },
  {
   "cell_type": "markdown",
   "metadata": {},
   "source": [
    "### Evaluate The Model with k-Fold Cross Validation\n",
    "\n",
    "We can now evaluate the neural network model on our training data.\n",
    "\n",
    "The scikit-learn has excellent capability to evaluate models using a suite of techniques. The gold standard for evaluating machine learning models is [**k-fold cross validation**](http://scikit-learn.org/stable/modules/generated/sklearn.model_selection.KFold.html).\n",
    "\n",
    "First we can define the model evaluation procedure. Here, we set the number of folds to be 10 (an excellent default) and to shuffle the data before partitioning it.\n"
   ]
  },
  {
   "cell_type": "code",
   "execution_count": 44,
   "metadata": {},
   "outputs": [],
   "source": [
    "from sklearn.model_selection import KFold\n",
    "from sklearn.model_selection import cross_val_score\n",
    "from sklearn.pipeline import Pipeline\n",
    "kfold = KFold(n_splits=5, shuffle=True, random_state=seed)"
   ]
  },
  {
   "cell_type": "markdown",
   "metadata": {},
   "source": [
    "Now we can evaluate our model (estimator) on our dataset (X_train and Y_train) using a 10-fold cross validation procedure (kfold).\n",
    "\n"
   ]
  },
  {
   "cell_type": "code",
   "execution_count": 45,
   "metadata": {},
   "outputs": [
    {
     "name": "stdout",
     "output_type": "stream",
     "text": [
      "Epoch 1/15\n",
      "1s - loss: 1.9957 - acc: 0.2695\n",
      "Epoch 2/15\n",
      "0s - loss: 1.3675 - acc: 0.6216\n",
      "Epoch 3/15\n",
      "0s - loss: 1.0296 - acc: 0.7527\n",
      "Epoch 4/15\n",
      "0s - loss: 0.8323 - acc: 0.8165\n",
      "Epoch 5/15\n",
      "0s - loss: 0.7029 - acc: 0.8518\n",
      "Epoch 6/15\n",
      "0s - loss: 0.6127 - acc: 0.8706\n",
      "Epoch 7/15\n",
      "0s - loss: 0.5454 - acc: 0.8894\n",
      "Epoch 8/15\n",
      "0s - loss: 0.4923 - acc: 0.9034\n",
      "Epoch 9/15\n",
      "0s - loss: 0.4502 - acc: 0.9140\n",
      "Epoch 10/15\n",
      "0s - loss: 0.4153 - acc: 0.9181\n",
      "Epoch 11/15\n",
      "0s - loss: 0.3859 - acc: 0.9247\n",
      "Epoch 12/15\n",
      "0s - loss: 0.3612 - acc: 0.9345\n",
      "Epoch 13/15\n",
      "0s - loss: 0.3400 - acc: 0.9427\n",
      "Epoch 14/15\n",
      "0s - loss: 0.3215 - acc: 0.9427\n",
      "Epoch 15/15\n",
      "0s - loss: 0.3052 - acc: 0.9476\n",
      "Epoch 1/15\n",
      "2s - loss: 2.0786 - acc: 0.3276\n",
      "Epoch 2/15\n",
      "0s - loss: 1.4051 - acc: 0.6093\n",
      "Epoch 3/15\n",
      "0s - loss: 1.0423 - acc: 0.7690\n",
      "Epoch 4/15\n",
      "0s - loss: 0.8385 - acc: 0.8354\n",
      "Epoch 5/15\n",
      "0s - loss: 0.7081 - acc: 0.8608\n",
      "Epoch 6/15\n",
      "0s - loss: 0.6173 - acc: 0.8821\n",
      "Epoch 7/15\n",
      "0s - loss: 0.5494 - acc: 0.8927\n",
      "Epoch 8/15\n",
      "0s - loss: 0.4974 - acc: 0.9066\n",
      "Epoch 9/15\n",
      "0s - loss: 0.4555 - acc: 0.9173\n",
      "Epoch 10/15\n",
      "0s - loss: 0.4217 - acc: 0.9230\n",
      "Epoch 11/15\n",
      "0s - loss: 0.3930 - acc: 0.9287\n",
      "Epoch 12/15\n",
      "0s - loss: 0.3685 - acc: 0.9345\n",
      "Epoch 13/15\n",
      "0s - loss: 0.3471 - acc: 0.9369\n",
      "Epoch 14/15\n",
      "0s - loss: 0.3290 - acc: 0.9427\n",
      "Epoch 15/15\n",
      "0s - loss: 0.3128 - acc: 0.9435\n",
      "Epoch 1/15\n",
      "2s - loss: 1.9685 - acc: 0.3241\n",
      "Epoch 2/15\n",
      "0s - loss: 1.3739 - acc: 0.6588\n",
      "Epoch 3/15\n",
      "0s - loss: 1.0567 - acc: 0.7610\n",
      "Epoch 4/15\n",
      "0s - loss: 0.8675 - acc: 0.8200\n",
      "Epoch 5/15\n",
      "0s - loss: 0.7429 - acc: 0.8502\n",
      "Epoch 6/15\n",
      "0s - loss: 0.6533 - acc: 0.8658\n",
      "Epoch 7/15\n",
      "0s - loss: 0.5856 - acc: 0.8797\n",
      "Epoch 8/15\n",
      "0s - loss: 0.5308 - acc: 0.8953\n",
      "Epoch 9/15\n",
      "0s - loss: 0.4864 - acc: 0.9018\n",
      "Epoch 10/15\n",
      "0s - loss: 0.4505 - acc: 0.9083\n",
      "Epoch 11/15\n",
      "0s - loss: 0.4196 - acc: 0.9206\n",
      "Epoch 12/15\n",
      "0s - loss: 0.3933 - acc: 0.9247\n",
      "Epoch 13/15\n",
      "0s - loss: 0.3711 - acc: 0.9288\n",
      "Epoch 14/15\n",
      "0s - loss: 0.3512 - acc: 0.9337\n",
      "Epoch 15/15\n",
      "0s - loss: 0.3334 - acc: 0.9370\n",
      "Epoch 1/15\n",
      "2s - loss: 2.1944 - acc: 0.2259\n",
      "Epoch 2/15\n",
      "0s - loss: 1.4530 - acc: 0.6162\n",
      "Epoch 3/15\n",
      "0s - loss: 1.0637 - acc: 0.7897\n",
      "Epoch 4/15\n",
      "0s - loss: 0.8416 - acc: 0.8552\n",
      "Epoch 5/15\n",
      "0s - loss: 0.7008 - acc: 0.8854\n",
      "Epoch 6/15\n",
      "0s - loss: 0.6049 - acc: 0.9010\n",
      "Epoch 7/15\n",
      "0s - loss: 0.5351 - acc: 0.9157\n",
      "Epoch 8/15\n",
      "0s - loss: 0.4816 - acc: 0.9264\n",
      "Epoch 9/15\n",
      "0s - loss: 0.4392 - acc: 0.9337\n",
      "Epoch 10/15\n",
      "0s - loss: 0.4050 - acc: 0.9411\n",
      "Epoch 11/15\n",
      "0s - loss: 0.3767 - acc: 0.9411\n",
      "Epoch 12/15\n",
      "0s - loss: 0.3524 - acc: 0.9444\n",
      "Epoch 13/15\n",
      "0s - loss: 0.3318 - acc: 0.9452\n",
      "Epoch 14/15\n",
      "0s - loss: 0.3136 - acc: 0.9476\n",
      "Epoch 15/15\n",
      "0s - loss: 0.2980 - acc: 0.9509\n",
      "Epoch 1/15\n",
      "0s - loss: 2.1255 - acc: 0.2954\n",
      "Epoch 2/15\n",
      "0s - loss: 1.4893 - acc: 0.5646\n",
      "Epoch 3/15\n",
      "0s - loss: 1.1291 - acc: 0.7144\n",
      "Epoch 4/15\n",
      "0s - loss: 0.9090 - acc: 0.7897\n",
      "Epoch 5/15\n",
      "0s - loss: 0.7628 - acc: 0.8388\n",
      "Epoch 6/15\n",
      "0s - loss: 0.6575 - acc: 0.8658\n",
      "Epoch 7/15\n",
      "0s - loss: 0.5797 - acc: 0.8846\n",
      "Epoch 8/15\n",
      "0s - loss: 0.5191 - acc: 0.8985\n",
      "Epoch 9/15\n",
      "0s - loss: 0.4702 - acc: 0.9133\n",
      "Epoch 10/15\n",
      "0s - loss: 0.4306 - acc: 0.9247\n",
      "Epoch 11/15\n",
      "0s - loss: 0.3980 - acc: 0.9337\n",
      "Epoch 12/15\n",
      "0s - loss: 0.3700 - acc: 0.9411\n",
      "Epoch 13/15\n",
      "0s - loss: 0.3463 - acc: 0.9460\n",
      "Epoch 14/15\n",
      "0s - loss: 0.3258 - acc: 0.9493\n",
      "Epoch 15/15\n",
      "0s - loss: 0.3081 - acc: 0.9534\n",
      "\n",
      "\n",
      "Classifier trained in 37.844 seconds\n"
     ]
    }
   ],
   "source": [
    "from time import time \n",
    "t0 = time()\n",
    "\n",
    "results = cross_val_score(estimator, X_train, Y_train, cv=kfold)\n",
    "\n",
    "tt = time() - t0\n",
    "\n",
    "print(\"\\n\\nClassifier trained in {} seconds\".format(round(tt, 3)))"
   ]
  },
  {
   "cell_type": "code",
   "execution_count": 46,
   "metadata": {},
   "outputs": [
    {
     "name": "stdout",
     "output_type": "stream",
     "text": [
      "Baseline MLP: 92.27% (1.14%)\n"
     ]
    }
   ],
   "source": [
    "print(\"Baseline MLP: %.2f%% (%.2f%%)\" % (results.mean()*100, results.std()*100))"
   ]
  },
  {
   "cell_type": "markdown",
   "metadata": {},
   "source": [
    "Evaluating the model only takes approximately 38 seconds and returns an object that describes the evaluation of the 10 constructed models for each of the splits of the dataset."
   ]
  },
  {
   "cell_type": "markdown",
   "metadata": {},
   "source": [
    "Summary\n",
    "\n",
    "In this post you discovered how to develop and evaluate a neural network using the Keras Python library for deep learning.\n",
    "\n",
    "By completing this tutorial, you learned:\n",
    "\n",
    "How to load data and make it available to Keras.\n",
    "How to prepare multi-class classification data for modeling using one hot encoding.\n",
    "How to use Keras neural network models with scikit-learn.\n",
    "How to define a neural network using Keras for multi-class classification.\n",
    "How to evaluate a Keras neural network model using scikit-learn with k-fold cross validation\n",
    "Do you have any questions about deep learning with Keras or this post?\n",
    "\n",
    "Ask your questions in the comments below and I will do my best to answer them."
   ]
  },
  {
   "cell_type": "code",
   "execution_count": 49,
   "metadata": {
    "collapsed": true
   },
   "outputs": [],
   "source": [
    "# MLP for Digits Dataset with grid search via sklearn\n",
    "from keras.models import Sequential\n",
    "from keras.layers import Dense\n",
    "from keras.wrappers.scikit_learn import KerasClassifier\n",
    "from sklearn.model_selection import GridSearchCV"
   ]
  },
  {
   "cell_type": "code",
   "execution_count": 50,
   "metadata": {
    "collapsed": true
   },
   "outputs": [],
   "source": [
    "# Function to create model, required for KerasClassifier\n",
    "def create_model(optimizer='rmsprop', init='glorot_uniform'):\n",
    "    # Create model\n",
    "    model = Sequential()\n",
    "    model.add(Dense(units=100, input_dim=64, kernel_initializer=init, activation='relu'))\n",
    "    model.add(Dense(units=64, kernel_initializer=init, activation='relu'))\n",
    "    model.add(Dense(units=10, kernel_initializer=init, activation='sigmoid'))\n",
    "    # Compile model\n",
    "    model.compile(loss='categorical_crossentropy', optimizer=optimizer, \n",
    "                  metrics=['accuracy'])\n",
    "    \n",
    "    return model\n",
    "    "
   ]
  },
  {
   "cell_type": "code",
   "execution_count": null,
   "metadata": {},
   "outputs": [],
   "source": [
    "# Create model\n",
    "model = KerasClassifier(build_fn=create_model, verbose=0)\n",
    "\n",
    "# Grid search epochs, batch_size and optimizer\n",
    "optimizers = ['rmsprop', 'adam', 'sgd', 'adagrad']\n",
    "init = ['glorot_uniform', 'normal', 'uniform']\n",
    "epochs = [50, 100, 150]\n",
    "batches = [16, 32, 64]\n",
    "param_grid = dict(optimizer=optimizers, epochs=epochs, \n",
    "                  batch_size=batches, init=init)\n",
    "grid = GridSearchCV(estimator=model, param_grid=param_grid)\n",
    "grid_result = grid.fit(X_train, Y_train)"
   ]
  },
  {
   "cell_type": "code",
   "execution_count": null,
   "metadata": {
    "collapsed": true
   },
   "outputs": [],
   "source": [
    "# Summarize results\n",
    "print(\"Best: {:.f} using {:.s}\\n\\n\".format(grid_result.best_score, \n",
    "                                       grid_result.best_params_))"
   ]
  },
  {
   "cell_type": "code",
   "execution_count": null,
   "metadata": {
    "collapsed": true
   },
   "outputs": [],
   "source": [
    "means = grid_result.cv_results_['mean_test_score']\n",
    "stds = grid_result.cv_results_['std_test_score']\n",
    "params = grid_result.cv_results_['params']\n",
    "\n",
    "for mean, stdev, param in zip(means, stds, params):\n",
    "    print(\"{:.f} ({:.f}) with: {:r}\".format(mean, stdev, param))"
   ]
  },
  {
   "cell_type": "code",
   "execution_count": null,
   "metadata": {
    "collapsed": true
   },
   "outputs": [],
   "source": []
  },
  {
   "cell_type": "code",
   "execution_count": 28,
   "metadata": {},
   "outputs": [
    {
     "data": {
      "application/javascript": [
       "$.getScript('https://kmahelona.github.io/ipython_notebook_goodies/ipython_notebook_toc.js')"
      ],
      "text/plain": [
       "<IPython.core.display.Javascript object>"
      ]
     },
     "metadata": {},
     "output_type": "display_data"
    }
   ],
   "source": [
    "%%javascript\n",
    "$.getScript('https://kmahelona.github.io/ipython_notebook_goodies/ipython_notebook_toc.js')"
   ]
  }
 ],
 "metadata": {
  "kernelspec": {
   "display_name": "Python 3",
   "language": "python",
   "name": "python3"
  },
  "language_info": {
   "codemirror_mode": {
    "name": "ipython",
    "version": 3
   },
   "file_extension": ".py",
   "mimetype": "text/x-python",
   "name": "python",
   "nbconvert_exporter": "python",
   "pygments_lexer": "ipython3",
   "version": "3.5.3"
  }
 },
 "nbformat": 4,
 "nbformat_minor": 2
}
