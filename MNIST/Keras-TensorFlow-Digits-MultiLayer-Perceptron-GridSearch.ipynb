{
 "cells": [
  {
   "cell_type": "code",
   "execution_count": 1,
   "metadata": {
    "collapsed": false
   },
   "outputs": [
    {
     "data": {
      "application/javascript": [
       "IPython.notebook.set_autosave_interval(20000)"
      ]
     },
     "metadata": {},
     "output_type": "display_data"
    },
    {
     "name": "stdout",
     "output_type": "stream",
     "text": [
      "Autosaving every 20 seconds\n"
     ]
    }
   ],
   "source": [
    "%autosave 20"
   ]
  },
  {
   "cell_type": "code",
   "execution_count": 2,
   "metadata": {
    "collapsed": true
   },
   "outputs": [],
   "source": [
    "# Author: Anderson Banihirwe\n",
    "# License: MIT"
   ]
  },
  {
   "cell_type": "markdown",
   "metadata": {},
   "source": [
    "![](http://deeplearning.net/tutorial/_images/mlp.png)\n",
    "\n",
    "<h1 align=\"center\"> Backpropagation and Multilayer Perceptron</h1>"
   ]
  },
  {
   "cell_type": "markdown",
   "metadata": {},
   "source": [
    "<h1 id=\"tocheading\">Table of Contents</h1>\n",
    "<div id=\"toc\"></div>"
   ]
  },
  {
   "cell_type": "markdown",
   "metadata": {},
   "source": [
    "# Goals:\n",
    "- Train a neural network with keras\n",
    "- Implement Gradient Descent in NumPy\n",
    "- Auto-differentiation with TensorFlow\n",
    "\n",
    "# Dataset Introduction\n",
    "\n",
    "We are going to use sklearn-digits: 10 classes Handwritten digits. For more details, go [here](http://scikit-learn.org/stable/modules/generated/sklearn.datasets.load_digits.html#sklearn.datasets.load_digits).\n",
    "\n",
    "Each datapoint is a 8x8 image of a digit:\n",
    "\n",
    "\n",
    "|                   | Description   |\n",
    "|-------------------|---------------|\n",
    "| Classes           | 10            |\n",
    "| Samples per class | ~180          |\n",
    "| Samples total     | 1797          |\n",
    "| Dimensionality    | 64            |\n",
    "| Features          | integers 0-16 |"
   ]
  },
  {
   "cell_type": "markdown",
   "metadata": {},
   "source": [
    "# Load the data"
   ]
  },
  {
   "cell_type": "code",
   "execution_count": 3,
   "metadata": {
    "collapsed": true
   },
   "outputs": [],
   "source": [
    "%matplotlib inline\n",
    "import matplotlib.pyplot as plt\n",
    "import numpy as np\n",
    "from sklearn.datasets import load_digits\n",
    "import sklearn\n",
    "import matplotlib as mpl"
   ]
  },
  {
   "cell_type": "code",
   "execution_count": 4,
   "metadata": {
    "collapsed": false
   },
   "outputs": [
    {
     "name": "stdout",
     "output_type": "stream",
     "text": [
      "The scikit-learn version is 0.18.1.\n",
      "The NumPy version is 1.12.1.\n",
      "The Matplotlib version is 2.0.1.\n"
     ]
    }
   ],
   "source": [
    "print('The scikit-learn version is {}.'.format(sklearn.__version__))\n",
    "print('The NumPy version is {}.'.format(np.__version__))\n",
    "print('The Matplotlib version is {}.'.format(mpl.__version__))"
   ]
  },
  {
   "cell_type": "markdown",
   "metadata": {},
   "source": [
    "# Initialize Random Number Generator\n",
    "\n",
    "Next we need to initialize the random number generator to a constant value (7).\n",
    "\n",
    "*This is important to ensure that the results we achieve from this model can be achieved again precisely. It ensures that the stochastic process of training a neural network model can be reproduced.*"
   ]
  },
  {
   "cell_type": "code",
   "execution_count": 5,
   "metadata": {
    "collapsed": true
   },
   "outputs": [],
   "source": [
    "# fix random seed for reproducibility\n",
    "seed = 7\n",
    "np.random.seed(seed)"
   ]
  },
  {
   "cell_type": "code",
   "execution_count": 6,
   "metadata": {
    "collapsed": false
   },
   "outputs": [
    {
     "name": "stdout",
     "output_type": "stream",
     "text": [
      "(1797, 64)\n",
      "<class 'numpy.ndarray'>\n"
     ]
    }
   ],
   "source": [
    "digits = load_digits()\n",
    "print(digits.data.shape)\n",
    "print(type(digits.data))"
   ]
  },
  {
   "cell_type": "code",
   "execution_count": 7,
   "metadata": {
    "collapsed": false
   },
   "outputs": [
    {
     "data": {
      "image/png": "[encoded data removed]",
      "text/plain": [
       "<matplotlib.figure.Figure at 0x7f477081a2e8>"
      ]
     },
     "metadata": {},
     "output_type": "display_data"
    }
   ],
   "source": [
    "# Display some digit\n",
    "plt.imshow(digits.images[0], cmap=plt.cm.gray_r, interpolation='nearest')\n",
    "plt.title(\"image label: {}\".format(digits.target[0]))\n",
    "plt.show()"
   ]
  },
  {
   "cell_type": "markdown",
   "metadata": {},
   "source": [
    "# Data Preprocessing\n",
    "We are going to do some preprocessing before training our classifier.\n",
    "- Convert our data in an array using ```np.asarray()```.\n",
    "- Split our dataset into training and testing sets with ```train_test_split()```\n",
    "- Feature Scaling using standardization: This is used to bring all values into the same range. Feature standardization makes the values of each feature in the data have zero-mean (when subtracting the mean in the numerator) and unit-variance. $$x'=\\frac{x-\\bar{x}}{\\sigma}$$ Where $x$ is the original feature vector, ${\\bar {x}}$ is the mean of that feature vector, and  $\\sigma$  is its standard deviation.\n",
    "\n",
    " - The motivation behind this:  Standardization of a dataset is a common requirement for many machine learning estimators: they might behave badly if the individual feature do not more or less look like standard normally distributed data (e.g. Gaussian with 0 mean and unit variance). For instance many elements used in the objective function of a learning algorithm (such as the RBF kernel of Support Vector Machines or the L1 and L2 regularizers of linear models) assume that all features are centered around 0 and have variance in the same order. If a feature has a variance that is orders of magnitude larger that others, it might dominate the objective function and make the estimator unable to learn from other features correctly as expected.\n",
    " \n",
    " - Another reason why feature scaling is applied is that [**gradient descent**](https://en.wikipedia.org/wiki/Gradient_descent) converges much faster with feature scaling than without it.\n",
    "\n"
   ]
  },
  {
   "cell_type": "code",
   "execution_count": 8,
   "metadata": {
    "collapsed": true
   },
   "outputs": [],
   "source": [
    "from sklearn import preprocessing\n",
    "from sklearn.model_selection import train_test_split\n",
    "\n",
    "# Convert our data in array\n",
    "data = np.asarray(digits.data, dtype='float32')\n",
    "target = np.asarray(digits.target, dtype='int32')\n",
    "\n",
    "# Split our data in training and testing set\n",
    "X_train, X_test, y_train, y_test = train_test_split(\n",
    "                        data, target, test_size=0.15, random_state=37)\n",
    "\n",
    "# Feature Standardization mean = 0; standard deviation = 1.0\n",
    "scaler = preprocessing.StandardScaler()\n",
    "X_train = scaler.fit_transform(X_train)\n",
    "X_test = scaler.fit_transform(X_test)"
   ]
  },
  {
   "cell_type": "code",
   "execution_count": 9,
   "metadata": {
    "collapsed": false
   },
   "outputs": [
    {
     "name": "stdout",
     "output_type": "stream",
     "text": [
      "Scaler Mean:\n",
      "\n",
      " [  0.00000000e+00   3.33333343e-01   5.27407408e+00   1.17962961e+01\n",
      "   1.18000002e+01   5.62222242e+00   1.44444442e+00   1.88888893e-01\n",
      "   0.00000000e+00   1.99629629e+00   1.05851851e+01   1.22555552e+01\n",
      "   1.03740740e+01   8.01111126e+00   1.86296296e+00   1.59259260e-01\n",
      "   0.00000000e+00   2.51851845e+00   1.02888889e+01   7.68148136e+00\n",
      "   7.01481485e+00   7.62962961e+00   1.98518515e+00   8.14814791e-02\n",
      "   0.00000000e+00   2.36666656e+00   9.35555553e+00   9.32222176e+00\n",
      "   9.61481476e+00   7.44074059e+00   2.59629631e+00   0.00000000e+00\n",
      "   0.00000000e+00   2.21481490e+00   7.57407427e+00   9.02962971e+00\n",
      "   9.90740776e+00   8.47037029e+00   2.96296287e+00   0.00000000e+00\n",
      "   1.11111114e-02   1.65925920e+00   7.06296301e+00   7.22592592e+00\n",
      "   7.79629612e+00   8.07407379e+00   3.28888893e+00   3.33333351e-02\n",
      "   0.00000000e+00   8.22222233e-01   7.58518505e+00   9.39259243e+00\n",
      "   9.68518543e+00   8.65555573e+00   3.48888898e+00   1.92592591e-01\n",
      "   0.00000000e+00   2.81481475e-01   5.67407417e+00   1.22555552e+01\n",
      "   1.19555559e+01   6.44814825e+00   2.02962971e+00   4.88888890e-01]\n",
      "\n",
      "\n",
      " [ 1.          0.88610721  4.84260416  4.17922258  4.16386461  5.56159687\n",
      "  3.47619796  1.18222332  1.          3.05322933  5.46692038  3.86214614\n",
      "  4.88126326  6.01262808  3.80542278  1.02225459  1.          3.45843577\n",
      "  5.27940273  5.78715467  6.1955595   6.14544773  3.70981526  0.50992852\n",
      "  1.          2.96691489  5.97087288  5.87240124  6.26806498  5.78008842\n",
      "  3.92286372  1.          1.          3.2894578   6.15600061  6.29278278\n",
      "  5.9618187   5.89640665  3.49689054  1.          0.18223554  3.05908155\n",
      "  6.60805702  6.30261946  6.16615391  5.85456657  4.34931803  0.28995571\n",
      "  1.          1.92975235  5.71532679  5.18487167  5.22183561  6.02124929\n",
      "  4.78247929  0.91081041  1.          0.89568484  5.24769163  4.33391714\n",
      "  4.73343563  5.76283646  4.30407476  2.25048709]\n"
     ]
    }
   ],
   "source": [
    "print(\"Scaler Mean:\\n\\n\", scaler.mean_)\n",
    "print(\"\\n\\n\", scaler.scale_)"
   ]
  },
  {
   "cell_type": "markdown",
   "metadata": {},
   "source": [
    "Let's display one of the transformed sample (after feature standardization)"
   ]
  },
  {
   "cell_type": "code",
   "execution_count": 10,
   "metadata": {
    "collapsed": false
   },
   "outputs": [
    {
     "data": {
      "image/png": "[encoded data removed]",
      "text/plain": [
       "<matplotlib.figure.Figure at 0x7f477020bda0>"
      ]
     },
     "metadata": {},
     "output_type": "display_data"
    }
   ],
   "source": [
    "sample_index = 0\n",
    "plt.imshow(X_train[sample_index].reshape(8, 8), cmap=plt.cm.gray_r, \n",
    "           interpolation=\"nearest\")\n",
    "plt.title(\"Transformed Sample\\n(Standardization)\");"
   ]
  },
  {
   "cell_type": "markdown",
   "metadata": {},
   "source": [
    "The Scaler object make it possible to recover the original sample:"
   ]
  },
  {
   "cell_type": "code",
   "execution_count": 11,
   "metadata": {
    "collapsed": false
   },
   "outputs": [
    {
     "data": {
      "image/png": "[encoded data removed]",
      "text/plain": [
       "<matplotlib.figure.Figure at 0x7f47702ab358>"
      ]
     },
     "metadata": {},
     "output_type": "display_data"
    }
   ],
   "source": [
    "plt.imshow(scaler.inverse_transform(X_train[sample_index]).reshape(8, 8), \n",
    "           cmap=plt.cm.gray_r, interpolation=\"nearest\")\n",
    "plt.title(\"original sample\");"
   ]
  },
  {
   "cell_type": "code",
   "execution_count": 12,
   "metadata": {
    "collapsed": false
   },
   "outputs": [
    {
     "name": "stdout",
     "output_type": "stream",
     "text": [
      "X_train-shape --> (1527, 64)\n",
      "y_train-shape --> (1527,)\n",
      "X_test-shape  --> (270, 64)\n",
      "y_test-shape  --> (270,)\n"
     ]
    }
   ],
   "source": [
    "print(\"X_train-shape --> {}\".format(X_train.shape))\n",
    "print(\"y_train-shape --> {}\".format(y_train.shape))\n",
    "print(\"X_test-shape  --> {}\".format(X_test.shape))\n",
    "print(\"y_test-shape  --> {}\".format(y_test.shape))"
   ]
  },
  {
   "cell_type": "markdown",
   "metadata": {},
   "source": [
    "# Feed Forward Neural Network with Keras\n",
    "\n",
    "## Objectives\n",
    "The objectives of this section include:\n",
    "- Building and training a feedforward network using [**```Keras```**](https://keras.io/getting-started/sequential-model-guide/)\n",
    "- Experimenting with different optimizers, activations, size of layers, initialization methods.\n",
    "\n",
    "## 1.Keras Workflow\n",
    "\n",
    "### Encode The Output Variable\n",
    "\n",
    "When modeling multi-class classification problems using neural networks, it is good practice to reshape the output attribute from a vector that contains values for each class value to be a matrix with a boolean for each class value and whether or not a given instance has that class value or not.\n",
    "\n",
    "This is called  [\"one-hot-encoding\"](https://en.wikipedia.org/wiki/One-hot) or creating dummy variables from a categorical variable.\n",
    "\n",
    "For example, in this problem 10 class values are integer 0 to 9.\n",
    "Let's print the first five observations from the training set labels."
   ]
  },
  {
   "cell_type": "code",
   "execution_count": 13,
   "metadata": {
    "collapsed": false
   },
   "outputs": [
    {
     "data": {
      "text/plain": [
       "array([2, 9, 5, 1, 6], dtype=int32)"
      ]
     },
     "execution_count": 13,
     "metadata": {},
     "output_type": "execute_result"
    }
   ],
   "source": [
    "y_train[:5]"
   ]
  },
  {
   "cell_type": "markdown",
   "metadata": {},
   "source": [
    "As you can see, each label is just one integer value. We observe that the first entry is \"Two\". We can turn this into a one-hot encoded binary matrix for each data instance. We can do this by first encoding the labels consistently to integers using the scikit-learn [```class LabelEncoder```](http://scikit-learn.org/stable/modules/generated/sklearn.preprocessing.LabelEncoder.html#sklearn.preprocessing.LabelEncoder). Then convert the vector of integers to a one hot encoding using the Keras function [```to_categorical()```](https://keras.io/utils/).\n"
   ]
  },
  {
   "cell_type": "code",
   "execution_count": 14,
   "metadata": {
    "collapsed": false
   },
   "outputs": [
    {
     "name": "stderr",
     "output_type": "stream",
     "text": [
      "Using TensorFlow backend.\n"
     ]
    }
   ],
   "source": [
    "from sklearn.preprocessing import LabelEncoder\n",
    "from keras.utils.np_utils import to_categorical\n",
    "\n",
    "# encode class values as integers\n",
    "encoder = LabelEncoder()\n",
    "encoder.fit(y_train)\n",
    "endoded_Y = encoder.transform(y_train)\n",
    "Y_train = to_categorical(endoded_Y)"
   ]
  },
  {
   "cell_type": "code",
   "execution_count": 15,
   "metadata": {
    "collapsed": false
   },
   "outputs": [
    {
     "data": {
      "text/plain": [
       "array([[ 0.,  0.,  1.,  0.,  0.,  0.,  0.,  0.,  0.,  0.],\n",
       "       [ 0.,  0.,  0.,  0.,  0.,  0.,  0.,  0.,  0.,  1.],\n",
       "       [ 0.,  0.,  0.,  0.,  0.,  1.,  0.,  0.,  0.,  0.],\n",
       "       [ 0.,  1.,  0.,  0.,  0.,  0.,  0.,  0.,  0.,  0.],\n",
       "       [ 0.,  0.,  0.,  0.,  0.,  0.,  1.,  0.,  0.,  0.]])"
      ]
     },
     "execution_count": 15,
     "metadata": {},
     "output_type": "execute_result"
    }
   ],
   "source": [
    "Y_train[0:5]"
   ]
  },
  {
   "cell_type": "markdown",
   "metadata": {},
   "source": [
    "### Define The Neural Network Model\n",
    "\n",
    "We can now build and train our feed-forward neural network using the high level API from keras. \n",
    "\n",
    "**Note:** The Keras library provides wrapper classes to allow you to use neural network models developed with Keras in Scikit-learn. \n",
    "\n",
    "There is a [```KerasClassifier```](https://keras.io/scikit-learn-api/) class in Keras that can be used as an Estimator in scikit-learn, the base type of model in the library. The KerasClassifier takes the name of a function as an argument. This function must return the constructed neural network model, ready for training.\n",
    "\n",
    "Below is a function that will create a baseline feed-forward network for digit classification. It creates a simple fully connected network with one hidden layer that contains **100 neurons units**.\n",
    "\n",
    "- First we define the model by stacking layers with the right dimensions\n",
    "- then we define a loss function and plug the SGD optimizer\n",
    "- then we feed the model the training data for fixed number of epochs\n"
   ]
  },
  {
   "cell_type": "code",
   "execution_count": 16,
   "metadata": {
    "collapsed": false
   },
   "outputs": [
    {
     "name": "stdout",
     "output_type": "stream",
     "text": [
      "Keras version is 2.0.4.\n"
     ]
    }
   ],
   "source": [
    "import keras\n",
    "from keras.models import Sequential\n",
    "from keras.layers.core import Dense, Activation\n",
    "from keras import optimizers\n",
    "from keras.wrappers.scikit_learn import KerasClassifier\n",
    "print('Keras version is {}.'.format(keras.__version__))"
   ]
  },
  {
   "cell_type": "code",
   "execution_count": 17,
   "metadata": {
    "collapsed": true
   },
   "outputs": [],
   "source": [
    "# define some constants\n",
    "N = X_train.shape[1]\n",
    "H = 100\n",
    "K = 10"
   ]
  },
  {
   "cell_type": "code",
   "execution_count": 18,
   "metadata": {
    "collapsed": false
   },
   "outputs": [
    {
     "data": {
      "text/plain": [
       "64"
      ]
     },
     "execution_count": 18,
     "metadata": {},
     "output_type": "execute_result"
    }
   ],
   "source": [
    "X_train.shape[1]"
   ]
  },
  {
   "cell_type": "code",
   "execution_count": 19,
   "metadata": {
    "collapsed": true
   },
   "outputs": [],
   "source": [
    "# define baseline mlp model\n",
    "def baseline_mlp_model():\n",
    "    # Create model\n",
    "    model = Sequential()\n",
    "    model.add(Dense(units=H, input_dim=N))\n",
    "    model.add(Activation(\"tanh\"))\n",
    "    model.add(Dense(K))\n",
    "    model.add(Activation(\"softmax\"))\n",
    "    \n",
    "    model.compile(optimizer=optimizers.SGD(lr=0.01),\n",
    "                  loss='categorical_crossentropy', metrics=['accuracy'])\n",
    "    return model\n",
    "    \n",
    "    "
   ]
  },
  {
   "cell_type": "markdown",
   "metadata": {},
   "source": [
    "We can now create our KerasClassifier for use in scikit-learn.\n",
    "\n",
    "We can also pass arguments in the construction of the KerasClassifier class that will be passed on to the ```fit()``` function internally used to train the neural network. Here, we pass the number of epochs as 20 and batch size as 32 to use when training the model. Debugging is also turned on when training by setting verbose to 1."
   ]
  },
  {
   "cell_type": "code",
   "execution_count": 20,
   "metadata": {
    "collapsed": true
   },
   "outputs": [],
   "source": [
    "estimator = KerasClassifier(build_fn=baseline_mlp_model, \n",
    "                            epochs=15, batch_size= 32, verbose=2)"
   ]
  },
  {
   "cell_type": "markdown",
   "metadata": {},
   "source": [
    "### Evaluate The Model with k-Fold Cross Validation\n",
    "\n",
    "We can now evaluate the neural network model on our training data.\n",
    "\n",
    "The scikit-learn has excellent capability to evaluate models using a suite of techniques. The gold standard for evaluating machine learning models is [**k-fold cross validation**](http://scikit-learn.org/stable/modules/generated/sklearn.model_selection.KFold.html).\n",
    "\n",
    "First we can define the model evaluation procedure. Here, we set the number of folds to be 10 (an excellent default) and to shuffle the data before partitioning it.\n"
   ]
  },
  {
   "cell_type": "code",
   "execution_count": 21,
   "metadata": {
    "collapsed": true
   },
   "outputs": [],
   "source": [
    "from sklearn.model_selection import KFold\n",
    "from sklearn.model_selection import cross_val_score\n",
    "from sklearn.pipeline import Pipeline\n",
    "kfold = KFold(n_splits=5, shuffle=True, random_state=seed)"
   ]
  },
  {
   "cell_type": "markdown",
   "metadata": {},
   "source": [
    "Now we can evaluate our model (estimator) on our dataset (X_train and Y_train) using a 10-fold cross validation procedure (kfold).\n",
    "\n"
   ]
  },
  {
   "cell_type": "code",
   "execution_count": 22,
   "metadata": {
    "collapsed": false
   },
   "outputs": [
    {
     "name": "stdout",
     "output_type": "stream",
     "text": [
      "Epoch 1/15\n",
      "0s - loss: 2.1110 - acc: 0.2596\n",
      "Epoch 2/15\n",
      "0s - loss: 1.4683 - acc: 0.5725\n",
      "Epoch 3/15\n",
      "0s - loss: 1.1134 - acc: 0.7396\n",
      "Epoch 4/15\n",
      "0s - loss: 0.8966 - acc: 0.8075\n",
      "Epoch 5/15\n",
      "0s - loss: 0.7542 - acc: 0.8313\n",
      "Epoch 6/15\n",
      "0s - loss: 0.6524 - acc: 0.8509\n",
      "Epoch 7/15\n",
      "0s - loss: 0.5768 - acc: 0.8763\n",
      "Epoch 8/15\n",
      "0s - loss: 0.5184 - acc: 0.8976\n",
      "Epoch 9/15\n",
      "0s - loss: 0.4715 - acc: 0.9091\n",
      "Epoch 10/15\n",
      "0s - loss: 0.4332 - acc: 0.9189\n",
      "Epoch 11/15\n",
      "0s - loss: 0.4018 - acc: 0.9287\n",
      "Epoch 12/15\n",
      "0s - loss: 0.3754 - acc: 0.9361\n",
      "Epoch 13/15\n",
      "0s - loss: 0.3523 - acc: 0.9402\n",
      "Epoch 14/15\n",
      "0s - loss: 0.3325 - acc: 0.9451\n",
      "Epoch 15/15\n",
      "0s - loss: 0.3153 - acc: 0.9468\n",
      "Epoch 1/15\n",
      "0s - loss: 2.0544 - acc: 0.3030\n",
      "Epoch 2/15\n",
      "0s - loss: 1.4092 - acc: 0.6110\n",
      "Epoch 3/15\n",
      "0s - loss: 1.0623 - acc: 0.7600\n",
      "Epoch 4/15\n",
      "0s - loss: 0.8595 - acc: 0.8116\n",
      "Epoch 5/15\n",
      "0s - loss: 0.7273 - acc: 0.8428\n",
      "Epoch 6/15\n",
      "0s - loss: 0.6336 - acc: 0.8698\n",
      "Epoch 7/15\n",
      "0s - loss: 0.5636 - acc: 0.8927\n",
      "Epoch 8/15\n",
      "0s - loss: 0.5095 - acc: 0.9009\n",
      "Epoch 9/15\n",
      "0s - loss: 0.4668 - acc: 0.9075\n",
      "Epoch 10/15\n",
      "0s - loss: 0.4305 - acc: 0.9148\n",
      "Epoch 11/15\n",
      "0s - loss: 0.4007 - acc: 0.9206\n",
      "Epoch 12/15\n",
      "0s - loss: 0.3752 - acc: 0.9271\n",
      "Epoch 13/15\n",
      "0s - loss: 0.3524 - acc: 0.9304\n",
      "Epoch 14/15\n",
      "0s - loss: 0.3332 - acc: 0.9337\n",
      "Epoch 15/15\n",
      "0s - loss: 0.3162 - acc: 0.9386\n",
      "Epoch 1/15\n",
      "0s - loss: 1.9864 - acc: 0.3159\n",
      "Epoch 2/15\n",
      "0s - loss: 1.3735 - acc: 0.6915\n",
      "Epoch 3/15\n",
      "0s - loss: 1.0415 - acc: 0.7848\n",
      "Epoch 4/15\n",
      "0s - loss: 0.8464 - acc: 0.8314\n",
      "Epoch 5/15\n",
      "0s - loss: 0.7199 - acc: 0.8543\n",
      "Epoch 6/15\n",
      "0s - loss: 0.6284 - acc: 0.8740\n",
      "Epoch 7/15\n",
      "0s - loss: 0.5615 - acc: 0.8879\n",
      "Epoch 8/15\n",
      "0s - loss: 0.5089 - acc: 0.9010\n",
      "Epoch 9/15\n",
      "0s - loss: 0.4657 - acc: 0.9141\n",
      "Epoch 10/15\n",
      "0s - loss: 0.4305 - acc: 0.9223\n",
      "Epoch 11/15\n",
      "0s - loss: 0.4010 - acc: 0.9296\n",
      "Epoch 12/15\n",
      "0s - loss: 0.3762 - acc: 0.9345\n",
      "Epoch 13/15\n",
      "0s - loss: 0.3547 - acc: 0.9354\n",
      "Epoch 14/15\n",
      "0s - loss: 0.3359 - acc: 0.9378\n",
      "Epoch 15/15\n",
      "0s - loss: 0.3193 - acc: 0.9403\n",
      "Epoch 1/15\n",
      "0s - loss: 2.1060 - acc: 0.2921\n",
      "Epoch 2/15\n",
      "0s - loss: 1.4706 - acc: 0.6129\n",
      "Epoch 3/15\n",
      "0s - loss: 1.1137 - acc: 0.7390\n",
      "Epoch 4/15\n",
      "0s - loss: 0.8991 - acc: 0.7954\n",
      "Epoch 5/15\n",
      "0s - loss: 0.7571 - acc: 0.8421\n",
      "Epoch 6/15\n",
      "0s - loss: 0.6554 - acc: 0.8691\n",
      "Epoch 7/15\n",
      "0s - loss: 0.5799 - acc: 0.8879\n",
      "Epoch 8/15\n",
      "0s - loss: 0.5208 - acc: 0.9034\n",
      "Epoch 9/15\n",
      "0s - loss: 0.4734 - acc: 0.9165\n",
      "Epoch 10/15\n",
      "0s - loss: 0.4343 - acc: 0.9255\n",
      "Epoch 11/15\n",
      "0s - loss: 0.4023 - acc: 0.9296\n",
      "Epoch 12/15\n",
      "0s - loss: 0.3748 - acc: 0.9354\n",
      "Epoch 13/15\n",
      "0s - loss: 0.3515 - acc: 0.9403\n",
      "Epoch 14/15\n",
      "0s - loss: 0.3315 - acc: 0.9411\n",
      "Epoch 15/15\n",
      "0s - loss: 0.3136 - acc: 0.9444\n",
      "Epoch 1/15\n",
      "0s - loss: 2.0646 - acc: 0.3396\n",
      "Epoch 2/15\n",
      "0s - loss: 1.4330 - acc: 0.6031\n",
      "Epoch 3/15\n",
      "0s - loss: 1.0743 - acc: 0.7324\n",
      "Epoch 4/15\n",
      "0s - loss: 0.8575 - acc: 0.8142\n",
      "Epoch 5/15\n",
      "0s - loss: 0.7153 - acc: 0.8552\n",
      "Epoch 6/15\n",
      "0s - loss: 0.6176 - acc: 0.8797\n",
      "Epoch 7/15\n",
      "0s - loss: 0.5449 - acc: 0.8985\n",
      "Epoch 8/15\n",
      "0s - loss: 0.4898 - acc: 0.9100\n",
      "Epoch 9/15\n",
      "0s - loss: 0.4461 - acc: 0.9182\n",
      "Epoch 10/15\n",
      "0s - loss: 0.4098 - acc: 0.9280\n",
      "Epoch 11/15\n",
      "0s - loss: 0.3805 - acc: 0.9321\n",
      "Epoch 12/15\n",
      "0s - loss: 0.3552 - acc: 0.9394\n",
      "Epoch 13/15\n",
      "0s - loss: 0.3338 - acc: 0.9403\n",
      "Epoch 14/15\n",
      "0s - loss: 0.3152 - acc: 0.9419\n",
      "Epoch 15/15\n",
      "0s - loss: 0.2989 - acc: 0.9460\n",
      "\n",
      "\n",
      "Classifier trained in 8.349 seconds\n"
     ]
    }
   ],
   "source": [
    "from time import time \n",
    "t0 = time()\n",
    "\n",
    "results = cross_val_score(estimator, X_train, Y_train, cv=kfold)\n",
    "\n",
    "tt = time() - t0\n",
    "\n",
    "print(\"\\n\\nClassifier trained in {} seconds\".format(round(tt, 3)))"
   ]
  },
  {
   "cell_type": "code",
   "execution_count": 23,
   "metadata": {
    "collapsed": false
   },
   "outputs": [
    {
     "name": "stdout",
     "output_type": "stream",
     "text": [
      "Baseline MLP: 92.80% (1.13%)\n"
     ]
    }
   ],
   "source": [
    "print(\"Baseline MLP: %.2f%% (%.2f%%)\" % (results.mean()*100, results.std()*100))"
   ]
  },
  {
   "cell_type": "markdown",
   "metadata": {},
   "source": [
    "Evaluating the model only takes approximately 38 seconds and returns an object that describes the evaluation of the 10 constructed models for each of the splits of the dataset."
   ]
  },
  {
   "cell_type": "markdown",
   "metadata": {},
   "source": [
    "Summary\n",
    "\n",
    "In this post you discovered how to develop and evaluate a neural network using the Keras Python library for deep learning.\n",
    "\n",
    "By completing this tutorial, you learned:\n",
    "\n",
    "How to load data and make it available to Keras.\n",
    "How to prepare multi-class classification data for modeling using one hot encoding.\n",
    "How to use Keras neural network models with scikit-learn.\n",
    "How to define a neural network using Keras for multi-class classification.\n",
    "How to evaluate a Keras neural network model using scikit-learn with k-fold cross validation\n",
    "Do you have any questions about deep learning with Keras or this post?\n",
    "\n",
    "Ask your questions in the comments below and I will do my best to answer them."
   ]
  },
  {
   "cell_type": "code",
   "execution_count": 24,
   "metadata": {
    "collapsed": true
   },
   "outputs": [],
   "source": [
    "# MLP for Digits Dataset with grid search via sklearn\n",
    "from keras.models import Sequential\n",
    "from keras.layers import Dense\n",
    "from keras.wrappers.scikit_learn import KerasClassifier\n",
    "from sklearn.model_selection import GridSearchCV"
   ]
  },
  {
   "cell_type": "code",
   "execution_count": 25,
   "metadata": {
    "collapsed": true
   },
   "outputs": [],
   "source": [
    "# Function to create model, required for KerasClassifier\n",
    "def create_model(optimizer='rmsprop', init='glorot_uniform'):\n",
    "    # Create model\n",
    "    model = Sequential()\n",
    "    model.add(Dense(units=100, input_dim=64, kernel_initializer=init, activation='relu'))\n",
    "    model.add(Dense(units=64, kernel_initializer=init, activation='relu'))\n",
    "    model.add(Dense(units=10, kernel_initializer=init, activation='sigmoid'))\n",
    "    # Compile model\n",
    "    model.compile(loss='categorical_crossentropy', optimizer=optimizer, \n",
    "                  metrics=['accuracy'])\n",
    "\n",
    "    \n",
    "    return model\n",
    "    "
   ]
  },
  {
   "cell_type": "code",
   "execution_count": 26,
   "metadata": {
    "collapsed": true
   },
   "outputs": [],
   "source": [
    "# Create model\n",
    "model = KerasClassifier(build_fn=create_model, verbose=0)\n",
    "\n",
    "# Grid search epochs, batch_size and optimizer\n",
    "optimizers = ['rmsprop', 'adam', 'sgd', 'adagrad']\n",
    "init = ['glorot_uniform', 'normal', 'uniform']\n",
    "epochs = [15, 30, 60]\n",
    "batches = [16, 32, 64]\n",
    "param_grid = dict(optimizer=optimizers, epochs=epochs, \n",
    "                  batch_size=batches, init=init)\n",
    "grid = GridSearchCV(estimator=model, param_grid=param_grid)\n",
    "grid_result = grid.fit(X_train, Y_train)"
   ]
  },
  {
   "cell_type": "code",
   "execution_count": 29,
   "metadata": {
    "collapsed": false
   },
   "outputs": [
    {
     "name": "stdout",
     "output_type": "stream",
     "text": [
      "Best: 0.981009 using {'epochs': 30, 'optimizer': 'rmsprop', 'batch_size': 64, 'init': 'glorot_uniform'}\n",
      "\n",
      "\n"
     ]
    }
   ],
   "source": [
    "# Summarize results\n",
    "print(\"Best: %f using %s\\n\\n\" % (grid_result.best_score_, \n",
    "                                       grid_result.best_params_))"
   ]
  },
  {
   "cell_type": "code",
   "execution_count": 30,
   "metadata": {
    "collapsed": false
   },
   "outputs": [
    {
     "name": "stdout",
     "output_type": "stream",
     "text": [
      "0.975769 (0.006483) with: {'epochs': 15, 'optimizer': 'rmsprop', 'batch_size': 16, 'init': 'glorot_uniform'}\n",
      "0.973805 (0.004901) with: {'epochs': 15, 'optimizer': 'adam', 'batch_size': 16, 'init': 'glorot_uniform'}\n",
      "0.921415 (0.010018) with: {'epochs': 15, 'optimizer': 'sgd', 'batch_size': 16, 'init': 'glorot_uniform'}\n",
      "0.976424 (0.008335) with: {'epochs': 15, 'optimizer': 'adagrad', 'batch_size': 16, 'init': 'glorot_uniform'}\n",
      "0.971840 (0.001852) with: {'epochs': 15, 'optimizer': 'rmsprop', 'batch_size': 16, 'init': 'normal'}\n",
      "0.970530 (0.002778) with: {'epochs': 15, 'optimizer': 'adam', 'batch_size': 16, 'init': 'normal'}\n",
      "0.659463 (0.055111) with: {'epochs': 15, 'optimizer': 'sgd', 'batch_size': 16, 'init': 'normal'}\n",
      "0.966601 (0.003208) with: {'epochs': 15, 'optimizer': 'adagrad', 'batch_size': 16, 'init': 'normal'}\n",
      "0.963982 (0.003339) with: {'epochs': 15, 'optimizer': 'rmsprop', 'batch_size': 16, 'init': 'uniform'}\n",
      "0.968566 (0.003208) with: {'epochs': 15, 'optimizer': 'adam', 'batch_size': 16, 'init': 'uniform'}\n",
      "0.216765 (0.042633) with: {'epochs': 15, 'optimizer': 'sgd', 'batch_size': 16, 'init': 'uniform'}\n",
      "0.957433 (0.001852) with: {'epochs': 15, 'optimizer': 'adagrad', 'batch_size': 16, 'init': 'uniform'}\n",
      "0.977734 (0.002450) with: {'epochs': 30, 'optimizer': 'rmsprop', 'batch_size': 16, 'init': 'glorot_uniform'}\n",
      "0.975769 (0.003705) with: {'epochs': 30, 'optimizer': 'adam', 'batch_size': 16, 'init': 'glorot_uniform'}\n",
      "0.956778 (0.003208) with: {'epochs': 30, 'optimizer': 'sgd', 'batch_size': 16, 'init': 'glorot_uniform'}\n",
      "0.973805 (0.002450) with: {'epochs': 30, 'optimizer': 'adagrad', 'batch_size': 16, 'init': 'glorot_uniform'}\n",
      "0.975115 (0.003339) with: {'epochs': 30, 'optimizer': 'rmsprop', 'batch_size': 16, 'init': 'normal'}\n",
      "0.976424 (0.002778) with: {'epochs': 30, 'optimizer': 'adam', 'batch_size': 16, 'init': 'normal'}\n",
      "0.821218 (0.006992) with: {'epochs': 30, 'optimizer': 'sgd', 'batch_size': 16, 'init': 'normal'}\n",
      "0.974460 (0.002778) with: {'epochs': 30, 'optimizer': 'adagrad', 'batch_size': 16, 'init': 'normal'}\n",
      "0.971840 (0.003339) with: {'epochs': 30, 'optimizer': 'rmsprop', 'batch_size': 16, 'init': 'uniform'}\n",
      "0.969876 (0.004037) with: {'epochs': 30, 'optimizer': 'adam', 'batch_size': 16, 'init': 'uniform'}\n",
      "0.474132 (0.145828) with: {'epochs': 30, 'optimizer': 'sgd', 'batch_size': 16, 'init': 'uniform'}\n",
      "0.967911 (0.002450) with: {'epochs': 30, 'optimizer': 'adagrad', 'batch_size': 16, 'init': 'uniform'}\n",
      "0.977079 (0.005633) with: {'epochs': 60, 'optimizer': 'rmsprop', 'batch_size': 16, 'init': 'glorot_uniform'}\n",
      "0.976424 (0.005784) with: {'epochs': 60, 'optimizer': 'adam', 'batch_size': 16, 'init': 'glorot_uniform'}\n",
      "0.971185 (0.009261) with: {'epochs': 60, 'optimizer': 'sgd', 'batch_size': 16, 'init': 'glorot_uniform'}\n",
      "0.973805 (0.007581) with: {'epochs': 60, 'optimizer': 'adagrad', 'batch_size': 16, 'init': 'glorot_uniform'}\n",
      "0.977734 (0.000926) with: {'epochs': 60, 'optimizer': 'rmsprop', 'batch_size': 16, 'init': 'normal'}\n",
      "0.975769 (0.003339) with: {'epochs': 60, 'optimizer': 'adam', 'batch_size': 16, 'init': 'normal'}\n",
      "0.957433 (0.002450) with: {'epochs': 60, 'optimizer': 'sgd', 'batch_size': 16, 'init': 'normal'}\n",
      "0.973150 (0.000926) with: {'epochs': 60, 'optimizer': 'adagrad', 'batch_size': 16, 'init': 'normal'}\n",
      "0.976424 (0.000000) with: {'epochs': 60, 'optimizer': 'rmsprop', 'batch_size': 16, 'init': 'uniform'}\n",
      "0.978389 (0.002778) with: {'epochs': 60, 'optimizer': 'adam', 'batch_size': 16, 'init': 'uniform'}\n",
      "0.867714 (0.020936) with: {'epochs': 60, 'optimizer': 'sgd', 'batch_size': 16, 'init': 'uniform'}\n",
      "0.965946 (0.003339) with: {'epochs': 60, 'optimizer': 'adagrad', 'batch_size': 16, 'init': 'uniform'}\n",
      "0.973150 (0.005633) with: {'epochs': 15, 'optimizer': 'rmsprop', 'batch_size': 32, 'init': 'glorot_uniform'}\n",
      "0.971185 (0.006073) with: {'epochs': 15, 'optimizer': 'adam', 'batch_size': 32, 'init': 'glorot_uniform'}\n",
      "0.833661 (0.010681) with: {'epochs': 15, 'optimizer': 'sgd', 'batch_size': 32, 'init': 'glorot_uniform'}\n",
      "0.975769 (0.009669) with: {'epochs': 15, 'optimizer': 'adagrad', 'batch_size': 32, 'init': 'glorot_uniform'}\n",
      "0.972495 (0.004244) with: {'epochs': 15, 'optimizer': 'rmsprop', 'batch_size': 32, 'init': 'normal'}\n",
      "0.973150 (0.000926) with: {'epochs': 15, 'optimizer': 'adam', 'batch_size': 32, 'init': 'normal'}\n",
      "0.461690 (0.020480) with: {'epochs': 15, 'optimizer': 'sgd', 'batch_size': 32, 'init': 'normal'}\n",
      "0.968566 (0.007351) with: {'epochs': 15, 'optimizer': 'adagrad', 'batch_size': 32, 'init': 'normal'}\n",
      "0.967256 (0.001852) with: {'epochs': 15, 'optimizer': 'rmsprop', 'batch_size': 32, 'init': 'uniform'}\n",
      "0.962672 (0.006416) with: {'epochs': 15, 'optimizer': 'adam', 'batch_size': 32, 'init': 'uniform'}\n",
      "0.186640 (0.123663) with: {'epochs': 15, 'optimizer': 'sgd', 'batch_size': 32, 'init': 'uniform'}\n",
      "0.964637 (0.001604) with: {'epochs': 15, 'optimizer': 'adagrad', 'batch_size': 32, 'init': 'uniform'}\n",
      "0.975115 (0.009121) with: {'epochs': 30, 'optimizer': 'rmsprop', 'batch_size': 32, 'init': 'glorot_uniform'}\n",
      "0.973805 (0.005633) with: {'epochs': 30, 'optimizer': 'adam', 'batch_size': 32, 'init': 'glorot_uniform'}\n",
      "0.926654 (0.002450) with: {'epochs': 30, 'optimizer': 'sgd', 'batch_size': 32, 'init': 'glorot_uniform'}\n",
      "0.975115 (0.009801) with: {'epochs': 30, 'optimizer': 'adagrad', 'batch_size': 32, 'init': 'glorot_uniform'}\n",
      "0.974460 (0.004244) with: {'epochs': 30, 'optimizer': 'rmsprop', 'batch_size': 32, 'init': 'normal'}\n",
      "0.975115 (0.004037) with: {'epochs': 30, 'optimizer': 'adam', 'batch_size': 32, 'init': 'normal'}\n",
      "0.569090 (0.113398) with: {'epochs': 30, 'optimizer': 'sgd', 'batch_size': 32, 'init': 'normal'}\n",
      "0.969876 (0.000926) with: {'epochs': 30, 'optimizer': 'adagrad', 'batch_size': 32, 'init': 'normal'}\n",
      "0.973805 (0.005157) with: {'epochs': 30, 'optimizer': 'rmsprop', 'batch_size': 32, 'init': 'uniform'}\n",
      "0.967911 (0.003339) with: {'epochs': 30, 'optimizer': 'adam', 'batch_size': 32, 'init': 'uniform'}\n",
      "0.175508 (0.074971) with: {'epochs': 30, 'optimizer': 'sgd', 'batch_size': 32, 'init': 'uniform'}\n",
      "0.965946 (0.000926) with: {'epochs': 30, 'optimizer': 'adagrad', 'batch_size': 32, 'init': 'uniform'}\n",
      "0.979044 (0.005633) with: {'epochs': 60, 'optimizer': 'rmsprop', 'batch_size': 32, 'init': 'glorot_uniform'}\n",
      "0.975769 (0.006483) with: {'epochs': 60, 'optimizer': 'adam', 'batch_size': 32, 'init': 'glorot_uniform'}\n",
      "0.954813 (0.008931) with: {'epochs': 60, 'optimizer': 'sgd', 'batch_size': 32, 'init': 'glorot_uniform'}\n",
      "0.971840 (0.006073) with: {'epochs': 60, 'optimizer': 'adagrad', 'batch_size': 32, 'init': 'glorot_uniform'}\n",
      "0.973805 (0.002450) with: {'epochs': 60, 'optimizer': 'rmsprop', 'batch_size': 32, 'init': 'normal'}\n",
      "0.977734 (0.001852) with: {'epochs': 60, 'optimizer': 'adam', 'batch_size': 32, 'init': 'normal'}\n",
      "0.826457 (0.004901) with: {'epochs': 60, 'optimizer': 'sgd', 'batch_size': 32, 'init': 'normal'}\n",
      "0.973150 (0.004037) with: {'epochs': 60, 'optimizer': 'adagrad', 'batch_size': 32, 'init': 'normal'}\n",
      "0.974460 (0.003208) with: {'epochs': 60, 'optimizer': 'rmsprop', 'batch_size': 32, 'init': 'uniform'}\n",
      "0.976424 (0.004812) with: {'epochs': 60, 'optimizer': 'adam', 'batch_size': 32, 'init': 'uniform'}\n",
      "0.407990 (0.118165) with: {'epochs': 60, 'optimizer': 'sgd', 'batch_size': 32, 'init': 'uniform'}\n",
      "0.971840 (0.000926) with: {'epochs': 60, 'optimizer': 'adagrad', 'batch_size': 32, 'init': 'uniform'}\n",
      "0.978389 (0.003208) with: {'epochs': 15, 'optimizer': 'rmsprop', 'batch_size': 64, 'init': 'glorot_uniform'}\n",
      "0.967256 (0.008835) with: {'epochs': 15, 'optimizer': 'adam', 'batch_size': 64, 'init': 'glorot_uniform'}\n",
      "0.554682 (0.061405) with: {'epochs': 15, 'optimizer': 'sgd', 'batch_size': 64, 'init': 'glorot_uniform'}\n",
      "0.969876 (0.006073) with: {'epochs': 15, 'optimizer': 'adagrad', 'batch_size': 64, 'init': 'glorot_uniform'}\n",
      "0.971185 (0.000926) with: {'epochs': 15, 'optimizer': 'rmsprop', 'batch_size': 64, 'init': 'normal'}\n",
      "0.963982 (0.006483) with: {'epochs': 15, 'optimizer': 'adam', 'batch_size': 64, 'init': 'normal'}\n",
      "0.259332 (0.034292) with: {'epochs': 15, 'optimizer': 'sgd', 'batch_size': 64, 'init': 'normal'}\n",
      "0.968566 (0.002778) with: {'epochs': 15, 'optimizer': 'adagrad', 'batch_size': 64, 'init': 'normal'}\n",
      "0.958088 (0.006483) with: {'epochs': 15, 'optimizer': 'rmsprop', 'batch_size': 64, 'init': 'uniform'}\n",
      "0.962017 (0.005633) with: {'epochs': 15, 'optimizer': 'adam', 'batch_size': 64, 'init': 'uniform'}\n",
      "0.187295 (0.036096) with: {'epochs': 15, 'optimizer': 'sgd', 'batch_size': 64, 'init': 'uniform'}\n",
      "0.967911 (0.003705) with: {'epochs': 15, 'optimizer': 'adagrad', 'batch_size': 64, 'init': 'uniform'}\n",
      "0.981009 (0.003339) with: {'epochs': 30, 'optimizer': 'rmsprop', 'batch_size': 64, 'init': 'glorot_uniform'}\n",
      "0.972495 (0.004244) with: {'epochs': 30, 'optimizer': 'adam', 'batch_size': 64, 'init': 'glorot_uniform'}\n",
      "0.829077 (0.038499) with: {'epochs': 30, 'optimizer': 'sgd', 'batch_size': 64, 'init': 'glorot_uniform'}\n",
      "0.973150 (0.002450) with: {'epochs': 30, 'optimizer': 'adagrad', 'batch_size': 64, 'init': 'glorot_uniform'}\n",
      "0.975115 (0.001852) with: {'epochs': 30, 'optimizer': 'rmsprop', 'batch_size': 64, 'init': 'normal'}\n",
      "0.969221 (0.004901) with: {'epochs': 30, 'optimizer': 'adam', 'batch_size': 64, 'init': 'normal'}\n",
      "0.401441 (0.038510) with: {'epochs': 30, 'optimizer': 'sgd', 'batch_size': 64, 'init': 'normal'}\n",
      "0.972495 (0.004812) with: {'epochs': 30, 'optimizer': 'adagrad', 'batch_size': 64, 'init': 'normal'}\n",
      "0.966601 (0.002778) with: {'epochs': 30, 'optimizer': 'rmsprop', 'batch_size': 64, 'init': 'uniform'}\n",
      "0.970530 (0.005557) with: {'epochs': 30, 'optimizer': 'adam', 'batch_size': 64, 'init': 'uniform'}\n",
      "0.161755 (0.071240) with: {'epochs': 30, 'optimizer': 'sgd', 'batch_size': 64, 'init': 'uniform'}\n",
      "0.965291 (0.004037) with: {'epochs': 30, 'optimizer': 'adagrad', 'batch_size': 64, 'init': 'uniform'}\n",
      "0.977734 (0.006483) with: {'epochs': 60, 'optimizer': 'rmsprop', 'batch_size': 64, 'init': 'glorot_uniform'}\n",
      "0.971840 (0.007913) with: {'epochs': 60, 'optimizer': 'adam', 'batch_size': 64, 'init': 'glorot_uniform'}\n",
      "0.927963 (0.008835) with: {'epochs': 60, 'optimizer': 'sgd', 'batch_size': 64, 'init': 'glorot_uniform'}\n",
      "0.977734 (0.004037) with: {'epochs': 60, 'optimizer': 'adagrad', 'batch_size': 64, 'init': 'glorot_uniform'}\n",
      "0.973805 (0.004901) with: {'epochs': 60, 'optimizer': 'rmsprop', 'batch_size': 64, 'init': 'normal'}\n",
      "0.975769 (0.001852) with: {'epochs': 60, 'optimizer': 'adam', 'batch_size': 64, 'init': 'normal'}\n",
      "0.637197 (0.052822) with: {'epochs': 60, 'optimizer': 'sgd', 'batch_size': 64, 'init': 'normal'}\n",
      "0.973150 (0.002450) with: {'epochs': 60, 'optimizer': 'adagrad', 'batch_size': 64, 'init': 'normal'}\n",
      "0.975115 (0.003339) with: {'epochs': 60, 'optimizer': 'rmsprop', 'batch_size': 64, 'init': 'uniform'}\n",
      "0.971840 (0.000926) with: {'epochs': 60, 'optimizer': 'adam', 'batch_size': 64, 'init': 'uniform'}\n",
      "0.204977 (0.053931) with: {'epochs': 60, 'optimizer': 'sgd', 'batch_size': 64, 'init': 'uniform'}\n",
      "0.967256 (0.005633) with: {'epochs': 60, 'optimizer': 'adagrad', 'batch_size': 64, 'init': 'uniform'}\n"
     ]
    }
   ],
   "source": [
    "means = grid_result.cv_results_['mean_test_score']\n",
    "stds = grid_result.cv_results_['std_test_score']\n",
    "params = grid_result.cv_results_['params']\n",
    "\n",
    "for mean, stdev, param in zip(means, stds, params):\n",
    "    print(\"%f (%f) with: %r\" %(mean, stdev, param))"
   ]
  },
  {
   "cell_type": "code",
   "execution_count": 31,
   "metadata": {
    "collapsed": true
   },
   "outputs": [],
   "source": [
    "# selected final model\n",
    "selected_estimator = KerasClassifier(build_fn=create_model, epochs=30,\n",
    "                                     batch_size=64, verbose = 2)\n",
    "kfold = KFold(n_splits=5, shuffle=True, random_state=seed)"
   ]
  },
  {
   "cell_type": "code",
   "execution_count": 32,
   "metadata": {
    "collapsed": false
   },
   "outputs": [
    {
     "name": "stdout",
     "output_type": "stream",
     "text": [
      "Epoch 1/30\n",
      "5s - loss: 1.8974 - acc: 0.5299\n",
      "Epoch 2/30\n",
      "0s - loss: 1.1687 - acc: 0.8567\n",
      "Epoch 3/30\n",
      "0s - loss: 0.5842 - acc: 0.9181\n",
      "Epoch 4/30\n",
      "0s - loss: 0.3165 - acc: 0.9468\n",
      "Epoch 5/30\n",
      "0s - loss: 0.1981 - acc: 0.9672\n",
      "Epoch 6/30\n",
      "0s - loss: 0.1357 - acc: 0.9795\n",
      "Epoch 7/30\n",
      "0s - loss: 0.0968 - acc: 0.9861\n",
      "Epoch 8/30\n",
      "0s - loss: 0.0692 - acc: 0.9918\n",
      "Epoch 9/30\n",
      "0s - loss: 0.0518 - acc: 0.9934\n",
      "Epoch 10/30\n",
      "0s - loss: 0.0373 - acc: 0.9959\n",
      "Epoch 11/30\n",
      "0s - loss: 0.0273 - acc: 0.9975\n",
      "Epoch 12/30\n",
      "0s - loss: 0.0208 - acc: 0.9992\n",
      "Epoch 13/30\n",
      "0s - loss: 0.0154 - acc: 1.0000\n",
      "Epoch 14/30\n",
      "0s - loss: 0.0115 - acc: 1.0000\n",
      "Epoch 15/30\n",
      "0s - loss: 0.0084 - acc: 1.0000\n",
      "Epoch 16/30\n",
      "0s - loss: 0.0062 - acc: 1.0000\n",
      "Epoch 17/30\n",
      "0s - loss: 0.0048 - acc: 1.0000\n",
      "Epoch 18/30\n",
      "0s - loss: 0.0034 - acc: 1.0000\n",
      "Epoch 19/30\n",
      "0s - loss: 0.0023 - acc: 1.0000\n",
      "Epoch 20/30\n",
      "0s - loss: 0.0017 - acc: 1.0000\n",
      "Epoch 21/30\n",
      "0s - loss: 0.0012 - acc: 1.0000\n",
      "Epoch 22/30\n",
      "0s - loss: 7.9457e-04 - acc: 1.0000\n",
      "Epoch 23/30\n",
      "0s - loss: 6.3813e-04 - acc: 1.0000\n",
      "Epoch 24/30\n",
      "0s - loss: 3.8951e-04 - acc: 1.0000\n",
      "Epoch 25/30\n",
      "0s - loss: 2.7690e-04 - acc: 1.0000\n",
      "Epoch 26/30\n",
      "0s - loss: 1.9508e-04 - acc: 1.0000\n",
      "Epoch 27/30\n",
      "0s - loss: 1.2648e-04 - acc: 1.0000\n",
      "Epoch 28/30\n",
      "0s - loss: 7.8410e-05 - acc: 1.0000\n",
      "Epoch 29/30\n",
      "0s - loss: 7.7855e-05 - acc: 1.0000\n",
      "Epoch 30/30\n",
      "0s - loss: 3.8750e-05 - acc: 1.0000\n",
      "Epoch 1/30\n",
      "5s - loss: 2.0938 - acc: 0.4144\n",
      "Epoch 2/30\n",
      "0s - loss: 1.4747 - acc: 0.8149\n",
      "Epoch 3/30\n",
      "0s - loss: 0.7452 - acc: 0.9009\n",
      "Epoch 4/30\n",
      "0s - loss: 0.3744 - acc: 0.9361\n",
      "Epoch 5/30\n",
      "0s - loss: 0.2255 - acc: 0.9558\n",
      "Epoch 6/30\n",
      "0s - loss: 0.1529 - acc: 0.9656\n",
      "Epoch 7/30\n",
      "0s - loss: 0.1104 - acc: 0.9779\n",
      "Epoch 8/30\n",
      "0s - loss: 0.0812 - acc: 0.9861\n",
      "Epoch 9/30\n",
      "0s - loss: 0.0630 - acc: 0.9910\n",
      "Epoch 10/30\n",
      "0s - loss: 0.0463 - acc: 0.9943\n",
      "Epoch 11/30\n",
      "0s - loss: 0.0349 - acc: 0.9943\n",
      "Epoch 12/30\n",
      "0s - loss: 0.0258 - acc: 0.9975\n",
      "Epoch 13/30\n",
      "0s - loss: 0.0200 - acc: 0.9992\n",
      "Epoch 14/30\n",
      "0s - loss: 0.0138 - acc: 0.9984\n",
      "Epoch 15/30\n",
      "0s - loss: 0.0108 - acc: 0.9992\n",
      "Epoch 16/30\n",
      "0s - loss: 0.0083 - acc: 1.0000\n",
      "Epoch 17/30\n",
      "0s - loss: 0.0056 - acc: 1.0000\n",
      "Epoch 18/30\n",
      "0s - loss: 0.0051 - acc: 1.0000\n",
      "Epoch 19/30\n",
      "0s - loss: 0.0035 - acc: 1.0000\n",
      "Epoch 20/30\n",
      "0s - loss: 0.0030 - acc: 1.0000\n",
      "Epoch 21/30\n",
      "0s - loss: 0.0020 - acc: 1.0000\n",
      "Epoch 22/30\n",
      "0s - loss: 0.0013 - acc: 1.0000\n",
      "Epoch 23/30\n",
      "0s - loss: 0.0011 - acc: 1.0000\n",
      "Epoch 24/30\n",
      "0s - loss: 7.9156e-04 - acc: 1.0000\n",
      "Epoch 25/30\n",
      "0s - loss: 5.4920e-04 - acc: 1.0000\n",
      "Epoch 26/30\n",
      "0s - loss: 4.0368e-04 - acc: 1.0000\n",
      "Epoch 27/30\n",
      "0s - loss: 2.6836e-04 - acc: 1.0000\n",
      "Epoch 28/30\n",
      "0s - loss: 1.8644e-04 - acc: 1.0000\n",
      "Epoch 29/30\n",
      "0s - loss: 1.5205e-04 - acc: 1.0000\n",
      "Epoch 30/30\n",
      "0s - loss: 1.0027e-04 - acc: 1.0000\n",
      "Epoch 1/30\n",
      "5s - loss: 1.9425 - acc: 0.5115\n",
      "Epoch 2/30\n",
      "0s - loss: 1.2571 - acc: 0.8486\n",
      "Epoch 3/30\n",
      "0s - loss: 0.6139 - acc: 0.9157\n",
      "Epoch 4/30\n",
      "0s - loss: 0.3206 - acc: 0.9460\n",
      "Epoch 5/30\n",
      "0s - loss: 0.2037 - acc: 0.9648\n",
      "Epoch 6/30\n",
      "0s - loss: 0.1413 - acc: 0.9804\n",
      "Epoch 7/30\n",
      "0s - loss: 0.1026 - acc: 0.9828\n",
      "Epoch 8/30\n",
      "0s - loss: 0.0763 - acc: 0.9885\n",
      "Epoch 9/30\n",
      "0s - loss: 0.0585 - acc: 0.9926\n",
      "Epoch 10/30\n",
      "0s - loss: 0.0442 - acc: 0.9943\n",
      "Epoch 11/30\n",
      "0s - loss: 0.0356 - acc: 0.9951\n",
      "Epoch 12/30\n",
      "0s - loss: 0.0256 - acc: 0.9967\n",
      "Epoch 13/30\n",
      "0s - loss: 0.0204 - acc: 0.9975\n",
      "Epoch 14/30\n",
      "0s - loss: 0.0157 - acc: 0.9984\n",
      "Epoch 15/30\n",
      "0s - loss: 0.0116 - acc: 1.0000\n",
      "Epoch 16/30\n",
      "0s - loss: 0.0080 - acc: 1.0000\n",
      "Epoch 17/30\n",
      "0s - loss: 0.0064 - acc: 1.0000\n",
      "Epoch 18/30\n",
      "0s - loss: 0.0047 - acc: 1.0000\n",
      "Epoch 19/30\n",
      "0s - loss: 0.0035 - acc: 1.0000\n",
      "Epoch 20/30\n",
      "0s - loss: 0.0026 - acc: 1.0000\n",
      "Epoch 21/30\n",
      "0s - loss: 0.0019 - acc: 1.0000\n",
      "Epoch 22/30\n",
      "0s - loss: 0.0015 - acc: 1.0000\n",
      "Epoch 23/30\n",
      "0s - loss: 0.0010 - acc: 1.0000\n",
      "Epoch 24/30\n",
      "0s - loss: 9.1719e-04 - acc: 1.0000\n",
      "Epoch 25/30\n",
      "0s - loss: 5.2151e-04 - acc: 1.0000\n",
      "Epoch 26/30\n",
      "0s - loss: 4.0665e-04 - acc: 1.0000\n",
      "Epoch 27/30\n",
      "0s - loss: 2.8926e-04 - acc: 1.0000\n",
      "Epoch 28/30\n",
      "0s - loss: 2.6683e-04 - acc: 1.0000\n",
      "Epoch 29/30\n",
      "0s - loss: 1.7486e-04 - acc: 1.0000\n",
      "Epoch 30/30\n",
      "0s - loss: 1.1504e-04 - acc: 1.0000\n",
      "Epoch 1/30\n",
      "5s - loss: 1.9238 - acc: 0.5008\n",
      "Epoch 2/30\n",
      "0s - loss: 1.2407 - acc: 0.8347\n",
      "Epoch 3/30\n",
      "0s - loss: 0.6273 - acc: 0.9124\n",
      "Epoch 4/30\n",
      "0s - loss: 0.3355 - acc: 0.9444\n",
      "Epoch 5/30\n",
      "0s - loss: 0.2084 - acc: 0.9591\n",
      "Epoch 6/30\n",
      "0s - loss: 0.1425 - acc: 0.9664\n",
      "Epoch 7/30\n",
      "0s - loss: 0.1022 - acc: 0.9771\n",
      "Epoch 8/30\n",
      "0s - loss: 0.0753 - acc: 0.9877\n",
      "Epoch 9/30\n",
      "0s - loss: 0.0553 - acc: 0.9910\n",
      "Epoch 10/30\n",
      "0s - loss: 0.0399 - acc: 0.9967\n",
      "Epoch 11/30\n",
      "0s - loss: 0.0292 - acc: 0.9984\n",
      "Epoch 12/30\n",
      "0s - loss: 0.0208 - acc: 0.9984\n",
      "Epoch 13/30\n",
      "0s - loss: 0.0154 - acc: 0.9992\n",
      "Epoch 14/30\n",
      "0s - loss: 0.0110 - acc: 1.0000\n",
      "Epoch 15/30\n",
      "0s - loss: 0.0082 - acc: 1.0000\n",
      "Epoch 16/30\n",
      "0s - loss: 0.0062 - acc: 1.0000\n",
      "Epoch 17/30\n",
      "0s - loss: 0.0049 - acc: 1.0000\n",
      "Epoch 18/30\n",
      "0s - loss: 0.0031 - acc: 1.0000\n",
      "Epoch 19/30\n",
      "0s - loss: 0.0024 - acc: 1.0000\n",
      "Epoch 20/30\n",
      "0s - loss: 0.0016 - acc: 1.0000\n",
      "Epoch 21/30\n",
      "0s - loss: 0.0013 - acc: 1.0000\n",
      "Epoch 22/30\n",
      "0s - loss: 8.9148e-04 - acc: 1.0000\n",
      "Epoch 23/30\n",
      "0s - loss: 6.5723e-04 - acc: 1.0000\n",
      "Epoch 24/30\n",
      "0s - loss: 4.1445e-04 - acc: 1.0000\n",
      "Epoch 25/30\n",
      "0s - loss: 3.1959e-04 - acc: 1.0000\n",
      "Epoch 26/30\n",
      "0s - loss: 2.9013e-04 - acc: 1.0000\n",
      "Epoch 27/30\n",
      "0s - loss: 1.5908e-04 - acc: 1.0000\n",
      "Epoch 28/30\n",
      "0s - loss: 1.2437e-04 - acc: 1.0000\n",
      "Epoch 29/30\n",
      "0s - loss: 1.0316e-04 - acc: 1.0000\n",
      "Epoch 30/30\n",
      "0s - loss: 5.7875e-05 - acc: 1.0000\n",
      "Epoch 1/30\n",
      "5s - loss: 1.9922 - acc: 0.5311\n",
      "Epoch 2/30\n",
      "0s - loss: 1.3916 - acc: 0.8331\n",
      "Epoch 3/30\n",
      "0s - loss: 0.6974 - acc: 0.9149\n",
      "Epoch 4/30\n",
      "0s - loss: 0.3203 - acc: 0.9566\n",
      "Epoch 5/30\n",
      "0s - loss: 0.1883 - acc: 0.9664\n",
      "Epoch 6/30\n",
      "0s - loss: 0.1279 - acc: 0.9755\n",
      "Epoch 7/30\n",
      "0s - loss: 0.0899 - acc: 0.9828\n",
      "Epoch 8/30\n",
      "0s - loss: 0.0642 - acc: 0.9885\n",
      "Epoch 9/30\n",
      "0s - loss: 0.0469 - acc: 0.9959\n",
      "Epoch 10/30\n",
      "0s - loss: 0.0350 - acc: 0.9975\n",
      "Epoch 11/30\n",
      "0s - loss: 0.0262 - acc: 0.9984\n",
      "Epoch 12/30\n",
      "0s - loss: 0.0188 - acc: 0.9984\n",
      "Epoch 13/30\n",
      "0s - loss: 0.0142 - acc: 1.0000\n",
      "Epoch 14/30\n",
      "0s - loss: 0.0108 - acc: 1.0000\n",
      "Epoch 15/30\n",
      "0s - loss: 0.0079 - acc: 1.0000\n",
      "Epoch 16/30\n",
      "0s - loss: 0.0053 - acc: 1.0000\n",
      "Epoch 17/30\n",
      "0s - loss: 0.0040 - acc: 1.0000\n",
      "Epoch 18/30\n",
      "0s - loss: 0.0031 - acc: 1.0000\n",
      "Epoch 19/30\n",
      "0s - loss: 0.0022 - acc: 1.0000\n",
      "Epoch 20/30\n",
      "0s - loss: 0.0017 - acc: 1.0000\n",
      "Epoch 21/30\n",
      "0s - loss: 0.0012 - acc: 1.0000\n",
      "Epoch 22/30\n",
      "0s - loss: 7.9274e-04 - acc: 1.0000\n",
      "Epoch 23/30\n",
      "0s - loss: 5.9002e-04 - acc: 1.0000\n",
      "Epoch 24/30\n",
      "0s - loss: 4.4487e-04 - acc: 1.0000\n",
      "Epoch 25/30\n",
      "0s - loss: 2.9262e-04 - acc: 1.0000\n",
      "Epoch 26/30\n",
      "0s - loss: 1.9998e-04 - acc: 1.0000\n",
      "Epoch 27/30\n",
      "0s - loss: 1.3887e-04 - acc: 1.0000\n",
      "Epoch 28/30\n",
      "0s - loss: 1.0354e-04 - acc: 1.0000\n",
      "Epoch 29/30\n",
      "0s - loss: 6.7046e-05 - acc: 1.0000\n",
      "Epoch 30/30\n",
      "0s - loss: 4.7215e-05 - acc: 1.0000\n",
      "\n",
      "\n",
      "Classifier trained in 61.527 seconds\n"
     ]
    }
   ],
   "source": [
    "from time import time \n",
    "t0 = time()\n",
    "\n",
    "results = cross_val_score(selected_estimator, X_train, Y_train, cv=kfold)\n",
    "\n",
    "tt = time() - t0\n",
    "\n",
    "print(\"\\n\\nClassifier trained in {} seconds\".format(round(tt, 3)))"
   ]
  },
  {
   "cell_type": "markdown",
   "metadata": {},
   "source": [
    "## Compute predictions on Test set using ```model.predict_classes(...)```"
   ]
  },
  {
   "cell_type": "code",
   "execution_count": 49,
   "metadata": {
    "collapsed": false
   },
   "outputs": [
    {
     "name": "stdout",
     "output_type": "stream",
     "text": [
      "Epoch 1/30\n",
      "5s - loss: 1.9201 - acc: 0.4623\n",
      "Epoch 2/30\n",
      "0s - loss: 1.0629 - acc: 0.8474\n",
      "Epoch 3/30\n",
      "0s - loss: 0.4568 - acc: 0.9234\n",
      "Epoch 4/30\n",
      "0s - loss: 0.2383 - acc: 0.9522\n",
      "Epoch 5/30\n",
      "0s - loss: 0.1493 - acc: 0.9725\n",
      "Epoch 6/30\n",
      "0s - loss: 0.1021 - acc: 0.9830\n",
      "Epoch 7/30\n",
      "0s - loss: 0.0732 - acc: 0.9876\n",
      "Epoch 8/30\n",
      "0s - loss: 0.0531 - acc: 0.9895\n",
      "Epoch 9/30\n",
      "0s - loss: 0.0400 - acc: 0.9915\n",
      "Epoch 10/30\n",
      "0s - loss: 0.0289 - acc: 0.9974\n",
      "Epoch 11/30\n",
      "0s - loss: 0.0207 - acc: 0.9987\n",
      "Epoch 12/30\n",
      "0s - loss: 0.0155 - acc: 0.9993\n",
      "Epoch 13/30\n",
      "0s - loss: 0.0113 - acc: 0.9993\n",
      "Epoch 14/30\n",
      "0s - loss: 0.0078 - acc: 1.0000\n",
      "Epoch 15/30\n",
      "0s - loss: 0.0058 - acc: 1.0000\n",
      "Epoch 16/30\n",
      "0s - loss: 0.0041 - acc: 1.0000\n",
      "Epoch 17/30\n",
      "0s - loss: 0.0026 - acc: 1.0000\n",
      "Epoch 18/30\n",
      "0s - loss: 0.0021 - acc: 1.0000\n",
      "Epoch 19/30\n",
      "0s - loss: 0.0013 - acc: 1.0000\n",
      "Epoch 20/30\n",
      "0s - loss: 9.2086e-04 - acc: 1.0000\n",
      "Epoch 21/30\n",
      "0s - loss: 6.2715e-04 - acc: 1.0000\n",
      "Epoch 22/30\n",
      "0s - loss: 5.2541e-04 - acc: 1.0000\n",
      "Epoch 23/30\n",
      "0s - loss: 3.4173e-04 - acc: 1.0000\n",
      "Epoch 24/30\n",
      "0s - loss: 1.9280e-04 - acc: 1.0000\n",
      "Epoch 25/30\n",
      "0s - loss: 1.5364e-04 - acc: 1.0000\n",
      "Epoch 26/30\n",
      "0s - loss: 1.1472e-04 - acc: 1.0000\n",
      "Epoch 27/30\n",
      "0s - loss: 5.7145e-05 - acc: 1.0000\n",
      "Epoch 28/30\n",
      "0s - loss: 4.6949e-05 - acc: 1.0000\n",
      "Epoch 29/30\n",
      "0s - loss: 3.1519e-05 - acc: 1.0000\n",
      "Epoch 30/30\n",
      "0s - loss: 1.8498e-05 - acc: 1.0000\n"
     ]
    },
    {
     "data": {
      "text/plain": [
       "<keras.callbacks.History at 0x7f467c49cf60>"
      ]
     },
     "execution_count": 49,
     "metadata": {},
     "output_type": "execute_result"
    }
   ],
   "source": [
    "selected_estimator.fit(X_train, y_train)"
   ]
  },
  {
   "cell_type": "code",
   "execution_count": 50,
   "metadata": {
    "collapsed": false
   },
   "outputs": [],
   "source": [
    "y_pred = selected_estimator.predict(X_test)"
   ]
  },
  {
   "cell_type": "code",
   "execution_count": 70,
   "metadata": {
    "collapsed": false
   },
   "outputs": [
    {
     "name": "stdout",
     "output_type": "stream",
     "text": [
      "test acc: 0.9704\n"
     ]
    },
    {
     "data": {
      "image/png": "[encoded data removed]",
      "text/plain": [
       "<matplotlib.figure.Figure at 0x7f46721fa518>"
      ]
     },
     "metadata": {},
     "output_type": "display_data"
    }
   ],
   "source": [
    "# Let's display the first inputs image, the predicted labels and the true labels\n",
    "plt.figure(figsize=(12, 9))\n",
    "for i in range(20):\n",
    "    plt.subplot(4, 5, i + 1)\n",
    "    plt.subplots_adjust(hspace = .8)\n",
    "    plt.imshow(scaler.inverse_transform(X_test[i]).reshape(8, 8),\n",
    "               cmap=plt.cm.gray_r, interpolation='nearest')\n",
    "    plt.title(\"predicted label: %d\\n true label: %d\"\n",
    "              % (y_pred[i], y_test[i]))\n",
    "    \n",
    "print(\"test acc: %0.4f\" % np.mean(y_pred == y_test))"
   ]
  },
  {
   "cell_type": "code",
   "execution_count": 71,
   "metadata": {
    "collapsed": false
   },
   "outputs": [
    {
     "data": {
      "text/plain": [
       "<matplotlib.text.Text at 0x7f4671b79358>"
      ]
     },
     "execution_count": 71,
     "metadata": {},
     "output_type": "execute_result"
    },
    {
     "data": {
      "image/png": "[encoded data removed]",
      "text/plain": [
       "<matplotlib.figure.Figure at 0x7f4672f79978>"
      ]
     },
     "metadata": {},
     "output_type": "display_data"
    }
   ],
   "source": [
    "sample_idx = 42\n",
    "plt.imshow(scaler.inverse_transform(X_test[sample_idx]).reshape(8, 8),\n",
    "           cmap=plt.cm.gray_r, interpolation='nearest')\n",
    "plt.title(\"true label: %d\" % y_test[sample_idx])\n"
   ]
  },
  {
   "cell_type": "code",
   "execution_count": 72,
   "metadata": {
    "collapsed": true
   },
   "outputs": [],
   "source": [
    "# Compute all probabilities for all samples in the test set at\n",
    "# once:\n",
    "probabilities = selected_estimator.predict_proba(X_test, verbose=0)"
   ]
  },
  {
   "cell_type": "code",
   "execution_count": 73,
   "metadata": {
    "collapsed": false
   },
   "outputs": [
    {
     "name": "stdout",
     "output_type": "stream",
     "text": [
      "Predicted probability distribution for sample #42:\n",
      "0: 0.00000\n",
      "1: 0.00000\n",
      "2: 0.00000\n",
      "3: 0.00000\n",
      "4: 0.00000\n",
      "5: 0.00000\n",
      "6: 0.00000\n",
      "7: 0.00000\n",
      "8: 0.61323\n",
      "9: 0.00000\n",
      "\n",
      "Likelihood of true class for sample #42:\n",
      "0.613228\n",
      "\n",
      "Average negative loglikelihood of the test set:\n",
      "2.18923630504\n"
     ]
    }
   ],
   "source": [
    "print(\"Predicted probability distribution for sample #42:\")\n",
    "for class_idx, prob in enumerate(probabilities[sample_idx]):\n",
    "    print(\"%d: %0.5f\" % (class_idx, prob))\n",
    "print()\n",
    "    \n",
    "print(\"Likelihood of true class for sample #42:\")\n",
    "print(probabilities[sample_idx, y_test[sample_idx]])\n",
    "print()\n",
    "\n",
    "print(\"Average negative loglikelihood of the test set:\")\n",
    "Y_test = to_categorical(y_test)\n",
    "loglikelihoods = np.sum(np.log(probabilities) * Y_test, axis=1)\n",
    "print(-np.mean(loglikelihoods))\n"
   ]
  },
  {
   "cell_type": "code",
   "execution_count": null,
   "metadata": {
    "collapsed": false
   },
   "outputs": [],
   "source": [
    "%%javascript\n",
    "$.getScript('https://kmahelona.github.io/ipython_notebook_goodies/ipython_notebook_toc.js')"
   ]
  }
 ],
 "metadata": {
  "kernelspec": {
   "display_name": "Python 3",
   "language": "python",
   "name": "python3"
  },
  "language_info": {
   "codemirror_mode": {
    "name": "ipython",
    "version": 3
   },
   "file_extension": ".py",
   "mimetype": "text/x-python",
   "name": "python",
   "nbconvert_exporter": "python",
   "pygments_lexer": "ipython3",
   "version": "3.4.3"
  },
  "widgets": {
   "state": {},
   "version": "1.1.2"
  }
 },
 "nbformat": 4,
 "nbformat_minor": 2
}
