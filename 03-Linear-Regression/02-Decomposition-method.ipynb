{
 "cells": [
  {
   "cell_type": "markdown",
   "metadata": {},
   "source": [
    "- Author: Anderson Banihirwe\n",
    "    \n",
    "- Project: Tensorflow Recipes"
   ]
  },
  {
   "cell_type": "markdown",
   "metadata": {
    "toc": "true"
   },
   "source": [
    " # Table of Contents\n",
    "<div class=\"toc\" style=\"margin-top: 1em;\"><ul class=\"toc-item\" id=\"toc-level0\"><li><span><a href=\"http://localhost:8888/notebooks/03-Linear-Regression/02-Decomposition-method.ipynb#Implementing-a-Decomposition-Method\" data-toc-modified-id=\"Implementing-a-Decomposition-Method-1\"><span class=\"toc-item-num\">1&nbsp;&nbsp;</span>Implementing a Decomposition Method</a></span><ul class=\"toc-item\"><li><span><a href=\"http://localhost:8888/notebooks/03-Linear-Regression/02-Decomposition-method.ipynb#Generate-data\" data-toc-modified-id=\"Generate-data-1.1\"><span class=\"toc-item-num\">1.1&nbsp;&nbsp;</span>Generate data</a></span></li><li><span><a href=\"http://localhost:8888/notebooks/03-Linear-Regression/02-Decomposition-method.ipynb#Solve\" data-toc-modified-id=\"Solve-1.2\"><span class=\"toc-item-num\">1.2&nbsp;&nbsp;</span>Solve</a></span></li></ul></li></ul></div>"
   ]
  },
  {
   "cell_type": "markdown",
   "metadata": {},
   "source": [
    "# Implementing a Decomposition Method"
   ]
  },
  {
   "cell_type": "markdown",
   "metadata": {},
   "source": [
    "- Use the Cholesky decomposition, for which relevant functions exist in TensorFlow\n",
    "- Using the built-in Cholesky decomposition method in TensorFlow. One reason people are\n",
    "so interested in decomposing a matrix into more matrices is because the resulting matrices\n",
    "will have assured properties that allow us to use certain methods efficiently. \n",
    "- Here we will solve the system, $Ax=b$, by writing it as $LL'x=b$. We will first solve $Ly=b$ and then solve $L'x=y$ to arrive at our coefficient matrix, $x$.\n"
   ]
  },
  {
   "cell_type": "code",
   "execution_count": 1,
   "metadata": {
    "collapsed": true
   },
   "outputs": [],
   "source": [
    "import tensorflow as tf\n",
    "import numpy as np\n",
    "%matplotlib inline \n",
    "import matplotlib.pyplot as plt\n",
    "import matplotlib\n",
    "matplotlib.style.use('seaborn')"
   ]
  },
  {
   "cell_type": "markdown",
   "metadata": {
    "collapsed": true
   },
   "source": [
    "## Generate data\n"
   ]
  },
  {
   "cell_type": "code",
   "execution_count": 2,
   "metadata": {
    "collapsed": true
   },
   "outputs": [],
   "source": [
    "x_vals = np.linspace(0, 10, 200) #.reshape(200, 1)\n",
    "y_vals = x_vals + np.random.normal(0, 1, 200)"
   ]
  },
  {
   "cell_type": "code",
   "execution_count": 3,
   "metadata": {
    "collapsed": true
   },
   "outputs": [],
   "source": [
    "x_vals_column = np.transpose(np.matrix(x_vals))\n",
    "ones_column = np.transpose(np.matrix(np.repeat(1, 200)))\n",
    "A = np.column_stack((x_vals_column, ones_column))\n",
    "b = np.transpose(np.matrix(y_vals))\n"
   ]
  },
  {
   "cell_type": "code",
   "execution_count": 4,
   "metadata": {
    "collapsed": true
   },
   "outputs": [],
   "source": [
    "# Turn A and B matrices into tensors\n",
    "A_tsr = tf.constant(A)\n",
    "b_tsr = tf.constant(b)"
   ]
  },
  {
   "cell_type": "markdown",
   "metadata": {},
   "source": [
    "## Solve"
   ]
  },
  {
   "cell_type": "code",
   "execution_count": 5,
   "metadata": {},
   "outputs": [],
   "source": [
    "tA_A       = tf.matmul(tf.transpose(A_tsr), A_tsr)\n",
    "L          = tf.cholesky(tA_A)\n",
    "tA_b       = tf.matmul(tf.transpose(A_tsr), b)\n",
    "sol1       = tf.matrix_solve(L, tA_b)\n",
    "sol2       = tf.matrix_solve(tf.transpose(L), sol1)"
   ]
  },
  {
   "cell_type": "code",
   "execution_count": 6,
   "metadata": {
    "collapsed": true
   },
   "outputs": [],
   "source": [
    "# Initialize the variables (i.e. assign their default value)\n",
    "init = tf.global_variables_initializer()"
   ]
  },
  {
   "cell_type": "code",
   "execution_count": 7,
   "metadata": {},
   "outputs": [
    {
     "name": "stdout",
     "output_type": "stream",
     "text": [
      "Slope:  0.9829575969056056\n",
      "Y-intercept: -0.024029022611451904\n"
     ]
    },
    {
     "data": {
      "image/png": "[encoded data removed]",
      "text/plain": [
       "<matplotlib.figure.Figure at 0x7f05c599e940>"
      ]
     },
     "metadata": {},
     "output_type": "display_data"
    }
   ],
   "source": [
    "# start training\n",
    "with tf.Session() as sess:\n",
    "    sess.run(init)\n",
    "    \n",
    "    solution_eval = sess.run(sol2)\n",
    "    \n",
    "    # Extract the coefficients from the solution,the slop and the y-intercept\n",
    "    slope = solution_eval[0][0]\n",
    "    y_intercept = solution_eval[1][0]\n",
    "    \n",
    "    print('Slope:  {}'.format(slope) )\n",
    "    print('Y-intercept: {}'.format(y_intercept))\n",
    "    \n",
    "    best_fit = []\n",
    "    for i in x_vals:\n",
    "        best_fit.append(slope * i + y_intercept)\n",
    "        \n",
    "    plt.plot(x_vals, y_vals, 'o', label='Data')\n",
    "    plt.plot(x_vals, best_fit, 'r-', label='Best fit line', linewidth=3)\n",
    "    plt.legend(loc='upper left')\n",
    "    plt.title('Best-fit line via decomposition method')\n",
    "    plt.show()\n",
    "    \n",
    "    "
   ]
  },
  {
   "cell_type": "code",
   "execution_count": 8,
   "metadata": {},
   "outputs": [
    {
     "data": {
      "application/json": {
       "Software versions": [
        {
         "module": "Python",
         "version": "3.6.2 64bit [GCC 4.8.2 20140120 (Red Hat 4.8.2-15)]"
        },
        {
         "module": "IPython",
         "version": "6.1.0"
        },
        {
         "module": "OS",
         "version": "Linux 4.4.0 53 generic x86_64 with debian stretch sid"
        },
        {
         "module": "tensorflow",
         "version": "1.3.0"
        },
        {
         "module": "numpy",
         "version": "1.12.1"
        },
        {
         "module": "matplotlib",
         "version": "2.0.2"
        }
       ]
      },
      "text/html": [
       "<table><tr><th>Software</th><th>Version</th></tr><tr><td>Python</td><td>3.6.2 64bit [GCC 4.8.2 20140120 (Red Hat 4.8.2-15)]</td></tr><tr><td>IPython</td><td>6.1.0</td></tr><tr><td>OS</td><td>Linux 4.4.0 53 generic x86_64 with debian stretch sid</td></tr><tr><td>tensorflow</td><td>1.3.0</td></tr><tr><td>numpy</td><td>1.12.1</td></tr><tr><td>matplotlib</td><td>2.0.2</td></tr><tr><td colspan='2'>Sun Sep 17 21:14:32 2017 CDT</td></tr></table>"
      ],
      "text/latex": [
       "\\begin{tabular}{|l|l|}\\hline\n",
       "{\\bf Software} & {\\bf Version} \\\\ \\hline\\hline\n",
       "Python & 3.6.2 64bit [GCC 4.8.2 20140120 (Red Hat 4.8.2-15)] \\\\ \\hline\n",
       "IPython & 6.1.0 \\\\ \\hline\n",
       "OS & Linux 4.4.0 53 generic x86\\_64 with debian stretch sid \\\\ \\hline\n",
       "tensorflow & 1.3.0 \\\\ \\hline\n",
       "numpy & 1.12.1 \\\\ \\hline\n",
       "matplotlib & 2.0.2 \\\\ \\hline\n",
       "\\hline \\multicolumn{2}{|l|}{Sun Sep 17 21:14:32 2017 CDT} \\\\ \\hline\n",
       "\\end{tabular}\n"
      ],
      "text/plain": [
       "Software versions\n",
       "Python 3.6.2 64bit [GCC 4.8.2 20140120 (Red Hat 4.8.2-15)]\n",
       "IPython 6.1.0\n",
       "OS Linux 4.4.0 53 generic x86_64 with debian stretch sid\n",
       "tensorflow 1.3.0\n",
       "numpy 1.12.1\n",
       "matplotlib 2.0.2\n",
       "Sun Sep 17 21:14:32 2017 CDT"
      ]
     },
     "execution_count": 8,
     "metadata": {},
     "output_type": "execute_result"
    }
   ],
   "source": [
    "%load_ext version_information\n",
    "%version_information tensorflow, numpy, matplotlib"
   ]
  }
 ],
 "metadata": {
  "kernelspec": {
   "display_name": "Python 3",
   "language": "python",
   "name": "python3"
  },
  "language_info": {
   "codemirror_mode": {
    "name": "ipython",
    "version": 3
   },
   "file_extension": ".py",
   "mimetype": "text/x-python",
   "name": "python",
   "nbconvert_exporter": "python",
   "pygments_lexer": "ipython3",
   "version": "3.6.2"
  },
  "toc": {
   "nav_menu": {},
   "number_sections": true,
   "sideBar": true,
   "skip_h1_title": false,
   "toc_cell": true,
   "toc_position": {},
   "toc_section_display": "block",
   "toc_window_display": true
  }
 },
 "nbformat": 4,
 "nbformat_minor": 2
}
