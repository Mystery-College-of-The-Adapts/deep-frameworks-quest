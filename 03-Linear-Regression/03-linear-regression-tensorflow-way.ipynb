{
 "cells": [
  {
   "cell_type": "markdown",
   "metadata": {},
   "source": [
    "- Author: Anderson Banihirwe\n",
    "    \n",
    "- Project: Tensorflow Recipes"
   ]
  },
  {
   "cell_type": "markdown",
   "metadata": {
    "toc": "true"
   },
   "source": [
    " # Table of Contents\n",
    "<div class=\"toc\" style=\"margin-top: 1em;\"><ul class=\"toc-item\" id=\"toc-level0\"><li><span><a href=\"http://localhost:8888/notebooks/03-Linear-Regression/03-linear-regression-tensorflow-way.ipynb#Learning-the-TensorFlow-Way-of-Linear-Regression\" data-toc-modified-id=\"Learning-the-TensorFlow-Way-of-Linear-Regression-1\"><span class=\"toc-item-num\">1&nbsp;&nbsp;</span>Learning the TensorFlow Way of Linear Regression</a></span><ul class=\"toc-item\"><li><span><a href=\"http://localhost:8888/notebooks/03-Linear-Regression/03-linear-regression-tensorflow-way.ipynb#Load-data\" data-toc-modified-id=\"Load-data-1.1\"><span class=\"toc-item-num\">1.1&nbsp;&nbsp;</span>Load data</a></span></li><li><span><a href=\"http://localhost:8888/notebooks/03-Linear-Regression/03-linear-regression-tensorflow-way.ipynb#Declare-our-learning-rate,-batch_size,-placeholders,-model-variables\" data-toc-modified-id=\"Declare-our-learning-rate,-batch_size,-placeholders,-model-variables-1.2\"><span class=\"toc-item-num\">1.2&nbsp;&nbsp;</span>Declare our learning rate, batch_size, placeholders, model variables</a></span></li><li><span><a href=\"http://localhost:8888/notebooks/03-Linear-Regression/03-linear-regression-tensorflow-way.ipynb#Formula-for-the-linear-model,-$y=Wx+b$\" data-toc-modified-id=\"Formula-for-the-linear-model,-$y=Wx+b$-1.3\"><span class=\"toc-item-num\">1.3&nbsp;&nbsp;</span>Formula for the linear model, $y=Wx+b$</a></span></li><li><span><a href=\"http://localhost:8888/notebooks/03-Linear-Regression/03-linear-regression-tensorflow-way.ipynb#Mean-Squared-error-(loss)-function\" data-toc-modified-id=\"Mean-Squared-error-(loss)-function-1.4\"><span class=\"toc-item-num\">1.4&nbsp;&nbsp;</span>Mean Squared error (loss) function</a></span></li><li><span><a href=\"http://localhost:8888/notebooks/03-Linear-Regression/03-linear-regression-tensorflow-way.ipynb#start-training\" data-toc-modified-id=\"start-training-1.5\"><span class=\"toc-item-num\">1.5&nbsp;&nbsp;</span>start training</a></span></li></ul></li></ul></div>"
   ]
  },
  {
   "cell_type": "markdown",
   "metadata": {},
   "source": [
    "# Learning the TensorFlow Way of Linear Regression"
   ]
  },
  {
   "cell_type": "code",
   "execution_count": 1,
   "metadata": {
    "collapsed": true
   },
   "outputs": [],
   "source": [
    "import tensorflow as tf\n",
    "from tensorflow.python.framework import ops\n",
    "ops.reset_default_graph()\n",
    "import numpy as np\n",
    "%matplotlib inline \n",
    "import matplotlib.pyplot as plt\n",
    "import matplotlib\n",
    "matplotlib.style.use('seaborn')\n",
    "from sklearn import datasets"
   ]
  },
  {
   "cell_type": "markdown",
   "metadata": {
    "collapsed": true
   },
   "source": [
    "## Load data\n"
   ]
  },
  {
   "cell_type": "code",
   "execution_count": 2,
   "metadata": {
    "collapsed": true
   },
   "outputs": [],
   "source": [
    "iris = datasets.load_iris()"
   ]
  },
  {
   "cell_type": "code",
   "execution_count": 3,
   "metadata": {},
   "outputs": [
    {
     "data": {
      "text/plain": [
       "150"
      ]
     },
     "execution_count": 3,
     "metadata": {},
     "output_type": "execute_result"
    }
   ],
   "source": [
    "train_X = np.array([x[3] for x in iris.data])\n",
    "train_Y = np.array([y[0] for y in iris.data])\n",
    "n_samples = train_X.shape[0]\n",
    "n_samples"
   ]
  },
  {
   "cell_type": "markdown",
   "metadata": {
    "collapsed": true
   },
   "source": [
    "## Declare our learning rate, batch_size, placeholders, model variables"
   ]
  },
  {
   "cell_type": "code",
   "execution_count": 4,
   "metadata": {
    "collapsed": true
   },
   "outputs": [],
   "source": [
    "learning_rate = 0.01\n",
    "training_epochs = 1000\n",
    "display_step = 50"
   ]
  },
  {
   "cell_type": "code",
   "execution_count": 5,
   "metadata": {
    "collapsed": true
   },
   "outputs": [],
   "source": [
    "X = tf.placeholder(\"float\")\n",
    "Y = tf.placeholder(\"float\")"
   ]
  },
  {
   "cell_type": "code",
   "execution_count": 6,
   "metadata": {
    "collapsed": true
   },
   "outputs": [],
   "source": [
    "W = tf.Variable(np.random.randn(), name=\"weight\")\n",
    "b = tf.Variable(np.random.randn(), name=\"bias\")"
   ]
  },
  {
   "cell_type": "markdown",
   "metadata": {
    "collapsed": true
   },
   "source": [
    "## Formula for the linear model, $y=Wx+b$"
   ]
  },
  {
   "cell_type": "code",
   "execution_count": 7,
   "metadata": {},
   "outputs": [],
   "source": [
    "model_output = tf.add(tf.multiply(X, W), b)"
   ]
  },
  {
   "cell_type": "markdown",
   "metadata": {},
   "source": [
    "## Mean Squared error (loss) function"
   ]
  },
  {
   "cell_type": "code",
   "execution_count": 8,
   "metadata": {},
   "outputs": [],
   "source": [
    "# Mean squared error\n",
    "cost = tf.reduce_sum(tf.pow(model_output-Y, 2))/(2*n_samples)\n",
    "# Gradient descent\n",
    "optimizer = tf.train.GradientDescentOptimizer(learning_rate).minimize(cost)\n",
    "\n",
    "\n",
    "init = tf.global_variables_initializer()"
   ]
  },
  {
   "cell_type": "markdown",
   "metadata": {},
   "source": [
    "## start training"
   ]
  },
  {
   "cell_type": "code",
   "execution_count": 9,
   "metadata": {},
   "outputs": [
    {
     "name": "stdout",
     "output_type": "stream",
     "text": [
      "Epoch: 0050 cost= 2.521355391 W= 2.42285 b= 1.08077\n",
      "Epoch: 0100 cost= 1.458621860 W= 2.68673 b= 1.71784\n",
      "Epoch: 0150 cost= 1.169882298 W= 2.61229 b= 2.08492\n",
      "Epoch: 0200 cost= 0.970546365 W= 2.46847 b= 2.36514\n",
      "Epoch: 0250 cost= 0.810670137 W= 2.31989 b= 2.60544\n",
      "Epoch: 0300 cost= 0.680743992 W= 2.18123 b= 2.81915\n",
      "Epoch: 0350 cost= 0.575017214 W= 2.05501 b= 3.0112\n",
      "Epoch: 0400 cost= 0.488977402 W= 1.94086 b= 3.18427\n",
      "Epoch: 0450 cost= 0.418954134 W= 1.83782 b= 3.34034\n",
      "Epoch: 0500 cost= 0.361953467 W= 1.74484 b= 3.48117\n",
      "Epoch: 0550 cost= 0.315563738 W= 1.66094 b= 3.6082\n",
      "Epoch: 0600 cost= 0.277808279 W= 1.58526 b= 3.72281\n",
      "Epoch: 0650 cost= 0.247083485 W= 1.51699 b= 3.82618\n",
      "Epoch: 0700 cost= 0.222079009 W= 1.4554 b= 3.91944\n",
      "Epoch: 0750 cost= 0.201726362 W= 1.39984 b= 4.00357\n",
      "Epoch: 0800 cost= 0.185162544 W= 1.34971 b= 4.07947\n",
      "Epoch: 0850 cost= 0.171675250 W= 1.30448 b= 4.14798\n",
      "Epoch: 0900 cost= 0.160697073 W= 1.26367 b= 4.20979\n",
      "Epoch: 0950 cost= 0.151767775 W= 1.22686 b= 4.26551\n",
      "Epoch: 1000 cost= 0.144490242 W= 1.19363 b= 4.31587\n",
      "Optimization Finished!\n",
      "Training cost= 0.14449 W= 1.19363 b= 4.31587 \n",
      "\n"
     ]
    },
    {
     "data": {
      "image/png": "[encoded data removed]",
      "text/plain": [
       "<matplotlib.figure.Figure at 0x7f6cafa8ba20>"
      ]
     },
     "metadata": {},
     "output_type": "display_data"
    }
   ],
   "source": [
    "# Start training\n",
    "with tf.Session() as sess:\n",
    "    sess.run(init)\n",
    "\n",
    "    # Fit all training data\n",
    "    for epoch in range(training_epochs):\n",
    "        for (x, y) in zip(train_X, train_Y):\n",
    "            sess.run(optimizer, feed_dict={X: x, Y: y})\n",
    "\n",
    "        #Display logs per epoch step\n",
    "        if (epoch+1) % display_step == 0:\n",
    "            c = sess.run(cost, feed_dict={X: train_X, Y:train_Y})\n",
    "            print (\"Epoch:\", '%04d' % (epoch+1), \"cost=\", \"{:.9f}\".format(c), \\\n",
    "                \"W=\", sess.run(W), \"b=\", sess.run(b))\n",
    "\n",
    "    print (\"Optimization Finished!\")\n",
    "    training_cost = sess.run(cost, feed_dict={X: train_X, Y: train_Y})\n",
    "    print (\"Training cost=\", training_cost, \"W=\", sess.run(W), \"b=\", sess.run(b), '\\n')\n",
    "\n",
    "    #Graphic display\n",
    "    plt.plot(train_X, train_Y, 'ro', label='Original data')\n",
    "    plt.plot(train_X, sess.run(W) * train_X + sess.run(b), label='Fitted line')\n",
    "    plt.legend()\n",
    "    plt.show()"
   ]
  },
  {
   "cell_type": "code",
   "execution_count": 10,
   "metadata": {},
   "outputs": [
    {
     "data": {
      "application/json": {
       "Software versions": [
        {
         "module": "Python",
         "version": "3.6.2 64bit [GCC 4.8.2 20140120 (Red Hat 4.8.2-15)]"
        },
        {
         "module": "IPython",
         "version": "6.1.0"
        },
        {
         "module": "OS",
         "version": "Linux 4.4.0 53 generic x86_64 with debian stretch sid"
        },
        {
         "module": "tensorflow",
         "version": "1.3.0"
        },
        {
         "module": "numpy",
         "version": "1.12.1"
        },
        {
         "module": "matplotlib",
         "version": "2.0.2"
        }
       ]
      },
      "text/html": [
       "<table><tr><th>Software</th><th>Version</th></tr><tr><td>Python</td><td>3.6.2 64bit [GCC 4.8.2 20140120 (Red Hat 4.8.2-15)]</td></tr><tr><td>IPython</td><td>6.1.0</td></tr><tr><td>OS</td><td>Linux 4.4.0 53 generic x86_64 with debian stretch sid</td></tr><tr><td>tensorflow</td><td>1.3.0</td></tr><tr><td>numpy</td><td>1.12.1</td></tr><tr><td>matplotlib</td><td>2.0.2</td></tr><tr><td colspan='2'>Tue Sep 19 19:32:02 2017 CDT</td></tr></table>"
      ],
      "text/latex": [
       "\\begin{tabular}{|l|l|}\\hline\n",
       "{\\bf Software} & {\\bf Version} \\\\ \\hline\\hline\n",
       "Python & 3.6.2 64bit [GCC 4.8.2 20140120 (Red Hat 4.8.2-15)] \\\\ \\hline\n",
       "IPython & 6.1.0 \\\\ \\hline\n",
       "OS & Linux 4.4.0 53 generic x86\\_64 with debian stretch sid \\\\ \\hline\n",
       "tensorflow & 1.3.0 \\\\ \\hline\n",
       "numpy & 1.12.1 \\\\ \\hline\n",
       "matplotlib & 2.0.2 \\\\ \\hline\n",
       "\\hline \\multicolumn{2}{|l|}{Tue Sep 19 19:32:02 2017 CDT} \\\\ \\hline\n",
       "\\end{tabular}\n"
      ],
      "text/plain": [
       "Software versions\n",
       "Python 3.6.2 64bit [GCC 4.8.2 20140120 (Red Hat 4.8.2-15)]\n",
       "IPython 6.1.0\n",
       "OS Linux 4.4.0 53 generic x86_64 with debian stretch sid\n",
       "tensorflow 1.3.0\n",
       "numpy 1.12.1\n",
       "matplotlib 2.0.2\n",
       "Tue Sep 19 19:32:02 2017 CDT"
      ]
     },
     "execution_count": 10,
     "metadata": {},
     "output_type": "execute_result"
    }
   ],
   "source": [
    "%load_ext version_information\n",
    "%version_information tensorflow, numpy, matplotlib"
   ]
  }
 ],
 "metadata": {
  "kernelspec": {
   "display_name": "Python 3",
   "language": "python",
   "name": "python3"
  },
  "language_info": {
   "codemirror_mode": {
    "name": "ipython",
    "version": 3
   },
   "file_extension": ".py",
   "mimetype": "text/x-python",
   "name": "python",
   "nbconvert_exporter": "python",
   "pygments_lexer": "ipython3",
   "version": "3.6.2"
  },
  "toc": {
   "nav_menu": {},
   "number_sections": true,
   "sideBar": true,
   "skip_h1_title": false,
   "toc_cell": true,
   "toc_position": {},
   "toc_section_display": "block",
   "toc_window_display": true
  }
 },
 "nbformat": 4,
 "nbformat_minor": 2
}
